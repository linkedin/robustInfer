{
 "cells": [
  {
   "cell_type": "code",
   "execution_count": null,
   "metadata": {
    "id": "bn3WT2XxJn7u"
   },
   "outputs": [],
   "source": [
    "import jax\n",
    "import jax.numpy as jnp\n",
    "import numpy as np\n",
    "from functools import partial\n",
    "from itertools import combinations, product\n",
    "import statsmodels.api as sm\n",
    "import pandas as pd\n",
    "from scipy.stats import mannwhitneyu"
   ]
  },
  {
   "cell_type": "code",
   "execution_count": 2,
   "metadata": {},
   "outputs": [],
   "source": [
    "import sys\n",
    "sys.path.append('/app/python_lib/src')\n",
    "from robustinfer.drgu import DRGU"
   ]
  },
  {
   "cell_type": "markdown",
   "metadata": {
    "id": "Rfhg7vpkXFkm"
   },
   "source": [
    "# Define Functions"
   ]
  },
  {
   "cell_type": "code",
   "execution_count": 3,
   "metadata": {
    "id": "xHl5tb5keJ41"
   },
   "outputs": [],
   "source": [
    "class KeyGen:\n",
    "    def __init__(self, seed=0):\n",
    "        self.key = jax.random.PRNGKey(seed)\n",
    "\n",
    "    def next(self):\n",
    "        self.key, subkey = jax.random.split(self.key)\n",
    "        return subkey\n",
    "\n",
    "rng = KeyGen(42)"
   ]
  },
  {
   "cell_type": "code",
   "execution_count": 4,
   "metadata": {
    "id": "CYsOaywvKTv9"
   },
   "outputs": [],
   "source": [
    "def simulation_linear_data(n, ate, error_func):\n",
    "    eta_true = jnp.array([ 0.0, -0.6])\n",
    "    w   = jax.random.normal(rng.next(), (n, 1))   # covariates\n",
    "    Wt  = jnp.concatenate([jnp.ones((n,1)), w], axis=1)\n",
    "    pi_true    = jax.nn.sigmoid(Wt @ eta_true)                # true propensity\n",
    "    z          = jax.random.bernoulli(rng.next(), pi_true).astype(jnp.float32)\n",
    "\n",
    "    # beta_true = jnp.array([0.0, 0.0, 1.0])\n",
    "    error = error_func(rng.next(), (n,))\n",
    "    beta_true = jnp.array([ 0.0, ate, 1.0])\n",
    "    X = jnp.concatenate([jnp.ones((n,1)), z[:,None]*1.0,w], axis=1)\n",
    "    y = X @ beta_true + error\n",
    "    return y, z, w, Wt"
   ]
  },
  {
   "cell_type": "markdown",
   "metadata": {
    "id": "s-q3DHDJllpo"
   },
   "source": [
    "# Analysis on one simulated data"
   ]
  },
  {
   "cell_type": "code",
   "execution_count": 5,
   "metadata": {},
   "outputs": [],
   "source": [
    "class ErrorFunc:\n",
    "    name = ''\n",
    "    f = None\n",
    "\n",
    "    def __init__(self, name, f):\n",
    "            self.name = name\n",
    "            self.f = f\n",
    "\n",
    "lognormal_error_func = ErrorFunc('lognormal', lambda key, shape: jax.random.lognormal(key, shape=shape))\n",
    "y, x, w, _ = simulation_linear_data(n=100, ate=2.0, error_func=lognormal_error_func.f)\n",
    "    "
   ]
  },
  {
   "cell_type": "code",
   "execution_count": 6,
   "metadata": {},
   "outputs": [
    {
     "data": {
      "text/plain": [
       "((100,), (100,), (100, 1))"
      ]
     },
     "execution_count": 6,
     "metadata": {},
     "output_type": "execute_result"
    }
   ],
   "source": [
    "y.shape, x.shape, w.shape"
   ]
  },
  {
   "cell_type": "code",
   "execution_count": 7,
   "metadata": {},
   "outputs": [],
   "source": [
    "df = pd.DataFrame({\n",
    "    \"y\": y,\n",
    "    \"x\": x,\n",
    "    **{f\"w{i+1}\": w[:, i] for i in range(w.shape[1])}  # Dynamically create column names for w\n",
    "})\n"
   ]
  },
  {
   "cell_type": "code",
   "execution_count": 8,
   "metadata": {},
   "outputs": [
    {
     "data": {
      "text/html": [
       "<div>\n",
       "<style scoped>\n",
       "    .dataframe tbody tr th:only-of-type {\n",
       "        vertical-align: middle;\n",
       "    }\n",
       "\n",
       "    .dataframe tbody tr th {\n",
       "        vertical-align: top;\n",
       "    }\n",
       "\n",
       "    .dataframe thead th {\n",
       "        text-align: right;\n",
       "    }\n",
       "</style>\n",
       "<table border=\"1\" class=\"dataframe\">\n",
       "  <thead>\n",
       "    <tr style=\"text-align: right;\">\n",
       "      <th></th>\n",
       "      <th>y</th>\n",
       "      <th>x</th>\n",
       "      <th>w1</th>\n",
       "    </tr>\n",
       "  </thead>\n",
       "  <tbody>\n",
       "    <tr>\n",
       "      <th>0</th>\n",
       "      <td>1.279513</td>\n",
       "      <td>0.0</td>\n",
       "      <td>0.605764</td>\n",
       "    </tr>\n",
       "    <tr>\n",
       "      <th>1</th>\n",
       "      <td>3.452183</td>\n",
       "      <td>1.0</td>\n",
       "      <td>0.799044</td>\n",
       "    </tr>\n",
       "    <tr>\n",
       "      <th>2</th>\n",
       "      <td>1.433406</td>\n",
       "      <td>1.0</td>\n",
       "      <td>-0.908927</td>\n",
       "    </tr>\n",
       "    <tr>\n",
       "      <th>3</th>\n",
       "      <td>1.577025</td>\n",
       "      <td>1.0</td>\n",
       "      <td>-0.635258</td>\n",
       "    </tr>\n",
       "    <tr>\n",
       "      <th>4</th>\n",
       "      <td>10.633370</td>\n",
       "      <td>0.0</td>\n",
       "      <td>-1.222659</td>\n",
       "    </tr>\n",
       "  </tbody>\n",
       "</table>\n",
       "</div>"
      ],
      "text/plain": [
       "           y    x        w1\n",
       "0   1.279513  0.0  0.605764\n",
       "1   3.452183  1.0  0.799044\n",
       "2   1.433406  1.0 -0.908927\n",
       "3   1.577025  1.0 -0.635258\n",
       "4  10.633370  0.0 -1.222659"
      ]
     },
     "execution_count": 8,
     "metadata": {},
     "output_type": "execute_result"
    }
   ],
   "source": [
    "df.head()"
   ]
  },
  {
   "cell_type": "code",
   "execution_count": 9,
   "metadata": {},
   "outputs": [
    {
     "name": "stdout",
     "output_type": "stream",
     "text": [
      "Step 0 gradient norm: 0.7455853819847107\n",
      "converged after 6 iterations\n"
     ]
    }
   ],
   "source": [
    "# Example usage\n",
    "model = DRGU(df, covariates=[\"w1\"], treatment=\"x\", response=\"y\")\n",
    "model.fit()"
   ]
  },
  {
   "cell_type": "code",
   "execution_count": 10,
   "metadata": {},
   "outputs": [
    {
     "data": {
      "text/plain": [
       "Array([ 0.78363335, -0.03352755, -0.965426  ,  2.208195  ,  1.3163865 ,\n",
       "       -1.1250285 ], dtype=float32)"
      ]
     },
     "execution_count": 10,
     "metadata": {},
     "output_type": "execute_result"
    }
   ],
   "source": [
    "model.coefficients"
   ]
  },
  {
   "cell_type": "code",
   "execution_count": 11,
   "metadata": {},
   "outputs": [
    {
     "data": {
      "text/plain": [
       "Array([[ 3.0269942e-03,  9.2025424e-05,  6.7656621e-04,  2.2690054e-02,\n",
       "         4.0019527e-03, -9.8145586e-03],\n",
       "       [ 9.2025446e-05,  4.5719426e-02,  1.0030746e-02,  2.0557018e-03,\n",
       "         2.9265408e-03, -6.2924484e-03],\n",
       "       [ 6.7656656e-04,  1.0030745e-02,  8.2298696e-02, -6.8560508e-03,\n",
       "         1.7015442e-02,  4.0472071e-03],\n",
       "       [ 2.2690052e-02,  2.0557120e-03, -6.8560443e-03,  2.8485453e-01,\n",
       "         1.1894996e-01, -1.2228911e-01],\n",
       "       [ 4.0019518e-03,  2.9265499e-03,  1.7015440e-02,  1.1895007e-01,\n",
       "         1.0504008e-01, -3.2049537e-02],\n",
       "       [-9.8145576e-03, -6.2924516e-03,  4.0472108e-03, -1.2228926e-01,\n",
       "        -3.2049544e-02,  1.4148051e-01]], dtype=float32)"
      ]
     },
     "execution_count": 11,
     "metadata": {},
     "output_type": "execute_result"
    }
   ],
   "source": [
    "model.variance_matrix"
   ]
  },
  {
   "cell_type": "code",
   "execution_count": 12,
   "metadata": {},
   "outputs": [
    {
     "data": {
      "text/html": [
       "<div>\n",
       "<style scoped>\n",
       "    .dataframe tbody tr th:only-of-type {\n",
       "        vertical-align: middle;\n",
       "    }\n",
       "\n",
       "    .dataframe tbody tr th {\n",
       "        vertical-align: top;\n",
       "    }\n",
       "\n",
       "    .dataframe thead th {\n",
       "        text-align: right;\n",
       "    }\n",
       "</style>\n",
       "<table border=\"1\" class=\"dataframe\">\n",
       "  <thead>\n",
       "    <tr style=\"text-align: right;\">\n",
       "      <th></th>\n",
       "      <th>Names</th>\n",
       "      <th>Coefficient</th>\n",
       "      <th>Null_Hypothesis</th>\n",
       "      <th>Std_Error</th>\n",
       "      <th>Z_Score</th>\n",
       "      <th>P_Value</th>\n",
       "    </tr>\n",
       "  </thead>\n",
       "  <tbody>\n",
       "    <tr>\n",
       "      <th>0</th>\n",
       "      <td>delta</td>\n",
       "      <td>0.783633</td>\n",
       "      <td>0.5</td>\n",
       "      <td>0.055018</td>\n",
       "      <td>5.155271</td>\n",
       "      <td>2.532643e-07</td>\n",
       "    </tr>\n",
       "    <tr>\n",
       "      <th>1</th>\n",
       "      <td>beta_0</td>\n",
       "      <td>-0.033528</td>\n",
       "      <td>0.0</td>\n",
       "      <td>0.213821</td>\n",
       "      <td>-0.156802</td>\n",
       "      <td>8.754010e-01</td>\n",
       "    </tr>\n",
       "    <tr>\n",
       "      <th>2</th>\n",
       "      <td>beta_1</td>\n",
       "      <td>-0.965426</td>\n",
       "      <td>0.0</td>\n",
       "      <td>0.286877</td>\n",
       "      <td>-3.365290</td>\n",
       "      <td>7.646314e-04</td>\n",
       "    </tr>\n",
       "    <tr>\n",
       "      <th>3</th>\n",
       "      <td>gamma_0</td>\n",
       "      <td>2.208195</td>\n",
       "      <td>0.0</td>\n",
       "      <td>0.533718</td>\n",
       "      <td>4.137384</td>\n",
       "      <td>3.512873e-05</td>\n",
       "    </tr>\n",
       "    <tr>\n",
       "      <th>4</th>\n",
       "      <td>gamma_1</td>\n",
       "      <td>1.316386</td>\n",
       "      <td>0.0</td>\n",
       "      <td>0.324099</td>\n",
       "      <td>4.061682</td>\n",
       "      <td>4.872047e-05</td>\n",
       "    </tr>\n",
       "    <tr>\n",
       "      <th>5</th>\n",
       "      <td>gamma_2</td>\n",
       "      <td>-1.125028</td>\n",
       "      <td>0.0</td>\n",
       "      <td>0.376139</td>\n",
       "      <td>-2.990992</td>\n",
       "      <td>2.780731e-03</td>\n",
       "    </tr>\n",
       "  </tbody>\n",
       "</table>\n",
       "</div>"
      ],
      "text/plain": [
       "     Names  Coefficient  Null_Hypothesis  Std_Error   Z_Score       P_Value\n",
       "0    delta     0.783633              0.5   0.055018  5.155271  2.532643e-07\n",
       "1   beta_0    -0.033528              0.0   0.213821 -0.156802  8.754010e-01\n",
       "2   beta_1    -0.965426              0.0   0.286877 -3.365290  7.646314e-04\n",
       "3  gamma_0     2.208195              0.0   0.533718  4.137384  3.512873e-05\n",
       "4  gamma_1     1.316386              0.0   0.324099  4.061682  4.872047e-05\n",
       "5  gamma_2    -1.125028              0.0   0.376139 -2.990992  2.780731e-03"
      ]
     },
     "execution_count": 12,
     "metadata": {},
     "output_type": "execute_result"
    }
   ],
   "source": [
    "model.summary()"
   ]
  },
  {
   "cell_type": "code",
   "execution_count": null,
   "metadata": {},
   "outputs": [],
   "source": []
  }
 ],
 "metadata": {
  "colab": {
   "provenance": []
  },
  "kernelspec": {
   "display_name": "Python 3 (ipykernel)",
   "language": "python",
   "name": "python3"
  },
  "language_info": {
   "codemirror_mode": {
    "name": "ipython",
    "version": 3
   },
   "file_extension": ".py",
   "mimetype": "text/x-python",
   "name": "python",
   "nbconvert_exporter": "python",
   "pygments_lexer": "ipython3",
   "version": "3.10.18"
  }
 },
 "nbformat": 4,
 "nbformat_minor": 4
}
