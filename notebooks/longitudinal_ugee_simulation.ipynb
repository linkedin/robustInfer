{
 "cells": [
  {
   "cell_type": "code",
   "execution_count": null,
   "metadata": {
    "id": "bn3WT2XxJn7u"
   },
   "outputs": [],
   "source": [
    "import jax\n",
    "import jax.numpy as jnp\n",
    "import numpy as np\n",
    "from functools import partial\n",
    "from itertools import combinations\n",
    "import statsmodels.api as sm\n",
    "import statsmodels.formula.api as smf\n",
    "import pandas as pd"
   ]
  },
  {
   "cell_type": "markdown",
   "metadata": {
    "id": "Rfhg7vpkXFkm"
   },
   "source": [
    "# Define Functions"
   ]
  },
  {
   "cell_type": "code",
   "execution_count": null,
   "metadata": {
    "id": "xHl5tb5keJ41"
   },
   "outputs": [],
   "source": [
    "class KeyGen:\n",
    "    def __init__(self, seed=0):\n",
    "        self.key = jax.random.PRNGKey(seed)\n",
    "\n",
    "    def next(self):\n",
    "        self.key, subkey = jax.random.split(self.key)\n",
    "        return subkey\n",
    "\n",
    "rng = KeyGen(42)"
   ]
  },
  {
   "cell_type": "code",
   "execution_count": null,
   "metadata": {
    "id": "CYsOaywvKTv9"
   },
   "outputs": [],
   "source": [
    "# -----------------------------------------------------------------------------\n",
    "# Longitudinal data-generator\n",
    "# -----------------------------------------------------------------------------\n",
    "def simulate_longitudinal_data(n,\n",
    "                              T,\n",
    "                              eta_true,      # length 2  (propensity)\n",
    "                              beta_true,     # length 3  (outcome)\n",
    "                              error_func):\n",
    "    \"\"\"\n",
    "    Simulate (y_{it}, z_{it}, w_{it}) for i=1..n, t=1..T.\n",
    "\n",
    "    • Treatment model :     π_{it} = σ([1,w_{it}]·η)\n",
    "    • Outcome model   :     y_{it} = [1,z_{it},w_{it}]·β + ε_{it}\n",
    "    \"\"\"\n",
    "    # --- time-varying confounder --------------------------------------------\n",
    "    w  = jax.random.normal(rng.next(), shape=(n, T))        # (n,T)\n",
    "    Wz = jnp.concatenate([jnp.ones((n, 1)), w], axis=1) # (n,T+1)\n",
    "\n",
    "    # --- treatment assignment -----------------------------------------------\n",
    "    pi_true = jax.nn.sigmoid(Wz @ eta_true)  # (n,)\n",
    "    z       = jax.random.bernoulli(rng.next(), p=pi_true).astype(jnp.float32)\n",
    "\n",
    "    # --- outcome -------------------------------------------------------------\n",
    "    z_T = jnp.broadcast_to(z[:, None], (n, T))\n",
    "    eps = error_func(rng.next(), shape=(n, T))                  # (n,T)\n",
    "    X   = jnp.concatenate([jnp.ones((n, T, 1)),             # 1\n",
    "                            z_T[..., None],                 # z_{it}\n",
    "                            w[:, :, None]], axis=2)                   # w_{it}   ⇒ (n,T,3)\n",
    "    # assume same effect overtime\n",
    "    y   = jnp.einsum('ntp,p->nt', X, beta_true) + eps      # (n,T)\n",
    "\n",
    "    return y, z, w, Wz, z_T, X                   # w squeezed to (n,T)\n"
   ]
  },
  {
   "cell_type": "code",
   "execution_count": null,
   "metadata": {
    "id": "j4yvVwKHyIA1"
   },
   "outputs": [],
   "source": [
    "# ------------------------------\n",
    "# helper matrices for all pairs\n",
    "# ------------------------------\n",
    "# design for g(w_it,w_jt;γt) and g(w_jt,w_it;γt)\n",
    "def make_Xg(a,b):\n",
    "    return jnp.concatenate([jnp.ones_like(a), a, b], axis=2)  # [1, w_it, w_jt]\n",
    "\n",
    "def data_pairwise(y, z, w):\n",
    "    n = y.shape[0]\n",
    "    T = y.shape[1]\n",
    "    tri_u, tri_v = jnp.triu_indices(n, k=1)                   # i<j indices\n",
    "    m            = tri_u.size                                 # #pairs\n",
    "\n",
    "    wi, wj    = w[tri_u], w[tri_v]                 # (m,T,p)\n",
    "    z_T = jnp.broadcast_to(z[:, None], (n, T))\n",
    "    zi, zj    = z_T[tri_u], z_T[tri_v]\n",
    "    yi, yj    = y[tri_u], y[tri_v]\n",
    "\n",
    "    Wz  = jnp.concatenate([jnp.ones((n,1)), w], axis=1)\n",
    "    Wz_T = jnp.broadcast_to(Wz[:, None, :], (n, T, 1+T*p))\n",
    "    Wz_i, Wz_j = Wz_T[tri_u],          Wz_T[tri_v]                # (m,2, p+1)\n",
    "    Xg_ij, Xg_ji = make_Xg(wi[...,None],wj[...,None]), make_Xg(wj[...,None],wi[...,None])     # (m,2p+1)\n",
    "\n",
    "    return {\n",
    "        'Xg_ij': Xg_ij,\n",
    "        'Xg_ji': Xg_ji,\n",
    "        'Wz_i': Wz_i,\n",
    "        'Wz_j': Wz_j,\n",
    "        'yi': yi,\n",
    "        'yj': yj,\n",
    "        'zi': zi,\n",
    "        'zj': zj,\n",
    "        'wi': wi,\n",
    "        'wj': wj,\n",
    "        'i': tri_u,\n",
    "        'j': tri_v\n",
    "    }"
   ]
  },
  {
   "cell_type": "code",
   "execution_count": null,
   "metadata": {
    "id": "9VDDPrg07RFA"
   },
   "outputs": [],
   "source": [
    "\n",
    "def safe_sigmoid(x):\n",
    "    return jax.nn.sigmoid(jnp.clip(x, -10.0, 10.0))\n",
    "\n",
    "# @jax.jit\n",
    "def compute_h_f(theta, V_inv, data):\n",
    "    # All inputs\n",
    "    Wz_i, Wz_j = data['Wz_i'], data['Wz_j']\n",
    "    Xg_ij, Xg_ji = data['Xg_ij'], data['Xg_ji']\n",
    "    yi, yj = data['yi'], data['yj']\n",
    "    zi, zj = data['zi'], data['zj']\n",
    "    m = zi.shape[0]\n",
    "\n",
    "    delta, beta, gamma = theta[\"delta\"], theta[\"beta\"], theta[\"gamma\"]\n",
    "\n",
    "    V_inv = V_inv\n",
    "\n",
    "    # predictions\n",
    "    # p_delta = safe_sigmoid(delta)\n",
    "    pi_i  = safe_sigmoid(jnp.einsum('ntp,p->nt', Wz_i, beta))\n",
    "    pi_j  = safe_sigmoid(jnp.einsum('ntp,p->nt', Wz_j, beta))\n",
    "    g_ij = safe_sigmoid(jnp.einsum('ntp,p->nt', Xg_ij, gamma)) # equivalent jnp.sum(Xg_ij * gamma, axis=2)\n",
    "    g_ji = safe_sigmoid(jnp.einsum('ntp,p->nt', Xg_ji, gamma))\n",
    "    # indicators\n",
    "    I_ij = (yi >= yj).astype(jnp.float32)\n",
    "    I_ji = 1. - I_ij\n",
    "    # h vector (3‑component) for all pairs\n",
    "    num1 = zi*(1-zj)/(2*pi_i*(1-pi_j)) * (I_ij - g_ij)\n",
    "    num2 = zj*(1-zi)/(2*pi_j*(1-pi_i)) * (I_ji - g_ji)\n",
    "    h1   = num1 + num2 + 0.5*(g_ij + g_ji)\n",
    "    h2   = 0.5*(zi + zj)[:, 0] # take only the first column\n",
    "    h3   = 0.5*(zi*(1-zj)*I_ij + zj*(1-zi)*I_ji)\n",
    "    h    = jnp.concatenate([h1, h2[:, None], h3], axis=1)                # (m,1+2*T)\n",
    "    # f vector\n",
    "    f1   = jnp.full_like(h1, delta)\n",
    "    f2   = 0.5*(pi_i + pi_j)[:, 0] # take only the first column\n",
    "    f3   = 0.5*(pi_i*(1-pi_j)*g_ij + pi_j*(1-pi_i)*g_ji)\n",
    "    f    = jnp.concatenate([f1,f2[:, None],f3], axis=1)                  # (m,1+2*T)\n",
    "    return h, f\n",
    "\n",
    "# @jax.jit\n",
    "def compute_f(theta, V_inv, data):\n",
    "    _, f = compute_h_f(theta, V_inv, data)\n",
    "    return f\n",
    "\n",
    "def compute_u_ij(theta, V_inv, data):\n",
    "    h, f = compute_h_f(theta, V_inv, data)\n",
    "    D = jax.jacfwd(compute_f, argnums=0)(theta, V_inv, data)\n",
    "    D_ij = jnp.concatenate([D['delta'], D['beta'], D['gamma']], axis=2)\n",
    "\n",
    "    G_ij = jnp.transpose(D_ij, (0, 2, 1)) @ V_inv\n",
    "    S_ij = h - f\n",
    "    u_ij = jnp.einsum('npc,nc->np', G_ij, S_ij)\n",
    "\n",
    "    return u_ij\n",
    "\n",
    "@jax.jit\n",
    "def U_n(theta, V_inv, data):\n",
    "    return jnp.mean(compute_u_ij(theta, V_inv, data), axis=0)\n"
   ]
  },
  {
   "cell_type": "code",
   "execution_count": null,
   "metadata": {
    "id": "S2JVbvr6veY0"
   },
   "outputs": [],
   "source": [
    "def compute_h_f_fisher(theta, V_inv, data):\n",
    "    return compute_h_f(theta, V_inv, data)\n",
    "\n",
    "def compute_h_fisher(theta, V_inv, data):\n",
    "    h, _ = compute_h_f_fisher(theta, V_inv, data)\n",
    "    return h\n",
    "\n",
    "def compute_f_fisher(theta, V_inv, data):\n",
    "    _, f = compute_h_f_fisher(theta, V_inv, data)\n",
    "    return f\n",
    "\n",
    "@jax.jit\n",
    "def compute_B_u_ij(theta, V_inv, data):\n",
    "    h, f = compute_h_f_fisher(theta, V_inv, data)\n",
    "    D = jax.jacfwd(compute_f_fisher, argnums=0)(theta, V_inv, data)\n",
    "    D_ij = jnp.concatenate([D['delta'], D['beta'], D['gamma']], axis=2)\n",
    "\n",
    "    M0 = jax.jacfwd(compute_h_fisher, argnums=0)(theta, V_inv, data)\n",
    "    M0_ij = jnp.concatenate([M0['delta'], M0['beta'], M0['gamma']], axis=2)\n",
    "    M_ij = D_ij - M0_ij\n",
    "\n",
    "    G_ij = jnp.transpose(D_ij, (0, 2, 1)) @ V_inv\n",
    "    B_ij = jnp.einsum('npq,nqc->npc', G_ij, M_ij)\n",
    "    B = jnp.mean(B_ij, axis=0)\n",
    "\n",
    "    S_ij = h - f\n",
    "    u_ij = jnp.einsum('npc,nc->np', G_ij, S_ij)\n",
    "\n",
    "    return B, u_ij\n",
    "\n",
    "def compute_B_U(theta, V_inv, data):\n",
    "    B, u_ij = compute_B_u_ij(theta, V_inv, data)\n",
    "    U = jnp.mean(u_ij, axis=0)\n",
    "    return B, U\n",
    "\n",
    "def compute_B_U_Sig(theta, V_inv, data, compute_sig=False):\n",
    "    B, u_ij = compute_B_u_ij(theta, V_inv, data)\n",
    "    U = jnp.mean(u_ij, axis=0)\n",
    "\n",
    "    n = jnp.maximum(jnp.max(data['i']), jnp.max(data['j'])) + 1\n",
    "    d = u_ij.shape[1]\n",
    "    u_i = jnp.zeros((n,d)).at[data['i']].add(u_ij).at[data['j']].add(u_ij)/n\n",
    "    sig_i = jnp.einsum('np,nq->npq', u_i, u_i)\n",
    "\n",
    "    # Sig_ij = jnp.einsum('np,nq->npq', u_ij, u_ij)\n",
    "    Sig = jnp.mean(sig_i, axis=0)\n",
    "\n",
    "    return B, U, Sig"
   ]
  },
  {
   "cell_type": "code",
   "execution_count": null,
   "metadata": {
    "id": "QQmN34XN3Feg"
   },
   "outputs": [],
   "source": [
    "def compute_delta(theta, V_inv, data, lamb=0.0, option=\"fisher\"):\n",
    "    if option == 'dir':\n",
    "        raise NotImplementedError\n",
    "        # U  = U_n_dir(theta, V_inv, data)\n",
    "        # J_dict  = jax.jacfwd(U_n_dir, argnums=0)(theta, V_inv, data)\n",
    "        # J = jnp.concatenate([J_dict['delta'], J_dict['beta'], J_dict['gamma']], axis=1)\n",
    "    elif option == \"jax\":\n",
    "        U  = U_n(theta, V_inv, data)\n",
    "        J_dict  = jax.jacfwd(U_n, argnums=0)(theta, V_inv, data)\n",
    "        J = jnp.concatenate([J_dict['delta'], J_dict['beta'], J_dict['gamma']], axis=1)\n",
    "    elif option == \"fisher\":\n",
    "        B, U = compute_B_U(theta, V_inv, data)\n",
    "        J = -B\n",
    "    else:\n",
    "        raise ValueError(f\"Unknown option {option}\")\n",
    "    step = jnp.linalg.solve(J+ lamb * jnp.eye(J.shape[0]), -U)\n",
    "    return step, J\n",
    "\n",
    "def update_theta(theta, step):\n",
    "    start = 0\n",
    "    for k,v in theta.items():\n",
    "        theta[k] += step[start:start+v.size]\n",
    "        start += v.size\n",
    "    return theta\n"
   ]
  },
  {
   "cell_type": "code",
   "execution_count": null,
   "metadata": {
    "id": "K1hfnXSQ57-n"
   },
   "outputs": [],
   "source": [
    "def solve_longitudinal_ugee(data, theta_init, max_iter=100, tol=1e-6, lamb=0.0, option=\"fisher\", verbose=True):\n",
    "    T = data['yi'].shape[1]\n",
    "    V_inv = jnp.eye(1+2*T)\n",
    "    theta = {k: v.copy() for k, v in theta_init.items()}\n",
    "    for i in range(max_iter):\n",
    "        step, J = compute_delta(theta, V_inv, data, lamb, option)\n",
    "        # jax.debug.print(\"Step {i}: {x}\", i=i, x=step)\n",
    "        if i % 10 == 0 and verbose:\n",
    "            jax.debug.print(\"Step {i} gradient norm: {x}\", i=i, x=jnp.linalg.norm(step))\n",
    "        theta = update_theta(theta, step)\n",
    "        if jnp.linalg.norm(step) < tol:\n",
    "            if verbose:\n",
    "                print(f\"converged after {i} iterations\")\n",
    "            break\n",
    "    if i == max_iter-1 and verbose:\n",
    "      print(f\"did not converge, norm step = {jnp.linalg.norm(step)}\")\n",
    "    B, U, Sig = compute_B_U_Sig(theta, V_inv, data, compute_sig=True)\n",
    "    B_inv = jnp.linalg.inv(B)\n",
    "    Var = 4 * B_inv.T @ Sig @ B_inv\n",
    "    return theta, J, Var\n"
   ]
  },
  {
   "cell_type": "markdown",
   "metadata": {
    "id": "ddACcjTHXXH-"
   },
   "source": [
    "# Analysis"
   ]
  },
  {
   "cell_type": "code",
   "execution_count": null,
   "metadata": {
    "id": "d_8gcqCU6P15"
   },
   "outputs": [],
   "source": [
    "from logging import error\n",
    "n = 100\n",
    "T = 2\n",
    "p = 1\n",
    "eta_true = jnp.array([0.0, 0.5, 0.2])      # length T+1  (propensity)\n",
    "beta_true = jnp.array([0.0, 0.5, -0.6])     # length ?  (outcome)\n",
    "error_func = lambda key, shape: jax.random.normal(key, shape)\n",
    "y, z, w, Wz, z_T, X = simulate_longitudinal_data(n, T, eta_true, beta_true, error_func)\n",
    "\n",
    "data = data_pairwise(y, z, w)\n",
    "V_inv = jnp.eye(1+2*T)"
   ]
  },
  {
   "cell_type": "code",
   "execution_count": null,
   "metadata": {
    "id": "wKrPVQm1Izhi"
   },
   "outputs": [],
   "source": [
    "theta_init = {\n",
    "    \"delta\": jnp.array([0.5]),\n",
    "    \"beta\": jax.random.normal(rng.next(), (1+T*p, )),\n",
    "    \"gamma\": jax.random.normal(rng.next(), (1+2*p, )),\n",
    "}"
   ]
  },
  {
   "cell_type": "code",
   "execution_count": null,
   "metadata": {
    "id": "9AZbHWOm_VZd"
   },
   "outputs": [],
   "source": [
    "# compute_B_u_ij(theta_init, V_inv, data)[1].shape\n",
    "# compute_B_U(theta_init, V_inv, data)[1].shape\n",
    "# compute_delta(theta_init, V_inv, data, lamb=0.0, option=\"fisher\")\n",
    "T = data['yi'].shape[1]\n",
    "V_inv = jnp.eye(1+2*T)\n",
    "theta = theta_init\n",
    "step, J = compute_delta(theta, V_inv, data, lamb=0.0, option='fisher')\n",
    "theta = update_theta(theta, step)\n",
    "B, U, Sig = compute_B_U_Sig(theta, V_inv, data, compute_sig=True)\n",
    "B_inv = jnp.linalg.inv(B)\n",
    "Var = 4 * B_inv.T @ Sig @ B_inv"
   ]
  },
  {
   "cell_type": "code",
   "execution_count": null,
   "metadata": {
    "colab": {
     "base_uri": "https://localhost:8080/"
    },
    "id": "p69Kj5Zd_ohv",
    "outputId": "7dcdaa66-ee28-47f1-dd9d-086937da92ca"
   },
   "outputs": [],
   "source": [
    "jnp.diag(Var)"
   ]
  },
  {
   "cell_type": "code",
   "execution_count": null,
   "metadata": {
    "colab": {
     "base_uri": "https://localhost:8080/"
    },
    "id": "0Kwgol6F-00Z",
    "outputId": "c94659bb-7ed3-41ce-f7fd-4e3088918758"
   },
   "outputs": [],
   "source": [
    "theta, J, Var = solve_longitudinal_ugee(data, theta_init, option = \"fisher\", verbose=True)"
   ]
  },
  {
   "cell_type": "markdown",
   "metadata": {
    "id": "s-q3DHDJllpo"
   },
   "source": [
    "# Simulation"
   ]
  },
  {
   "cell_type": "code",
   "execution_count": null,
   "metadata": {
    "id": "QBNjnJkBRs-X"
   },
   "outputs": [],
   "source": [
    "def make_longitudinal_df(y, treatment, w):\n",
    "    \"\"\"\n",
    "    Parameters\n",
    "    ----------\n",
    "    y          : array (n, T)     outcome for n subjects at T time-points\n",
    "    treatment  : array (n,)       0/1 or categorical indicator per subject\n",
    "    w          : array (n, T)     covariate for n subjects at T time-points, only works because there's one convariate\n",
    "\n",
    "    Returns\n",
    "    -------\n",
    "    df         : pandas DataFrame with columns\n",
    "                 ['y', 'treatment', 'time', 'id']  and n*T rows\n",
    "    \"\"\"\n",
    "    n, T = y.shape\n",
    "    assert y.shape == w.shape\n",
    "    df = pd.DataFrame({\n",
    "        \"y\"        : y.reshape(-1),                 # (n*T,)\n",
    "        \"treatment\": np.repeat(treatment, T),       # (n*T,)\n",
    "        \"confounder\": w.reshape(-1),\n",
    "        \"time\"     : np.tile(np.arange(T), n),      # (n*T,)\n",
    "        \"id\"       : np.repeat(np.arange(n), T)     # (n*T,)\n",
    "    })\n",
    "    return df\n",
    "\n",
    "def fit_gee(y, z, w):\n",
    "  fam        = sm.families.Gaussian()               # use Binomial() for logistic GEE\n",
    "  cov_struct = sm.cov_struct.Exchangeable()\n",
    "  df = make_longitudinal_df(y, z, w)\n",
    "  gee_mod  = smf.gee(\"y ~ 1 + treatment + confounder\",                # mean model μ = β₀ + β₁*treatment\n",
    "                    groups=\"id\",                    # clustering / subject id\n",
    "                    data=df,\n",
    "                    family=fam,\n",
    "                    cov_struct=cov_struct)\n",
    "\n",
    "  gee_res  = gee_mod.fit()\n",
    "  return gee_res"
   ]
  },
  {
   "cell_type": "code",
   "execution_count": null,
   "metadata": {
    "id": "EowKE52y9ZcB"
   },
   "outputs": [],
   "source": [
    "def fit_ols(y, z, w):\n",
    "  n = y.shape[0]\n",
    "  T = y.shape[1]\n",
    "  ols_mod = sm.OLS(np.asarray(y[:, -1]), np.asarray(jnp.concatenate([jnp.ones((n,1)), z[:,None], w[:,-1][:,None]], axis=1)), hasconst=True)\n",
    "  ols_res = ols_mod.fit()\n",
    "  return ols_res\n",
    "# print(ols_res.summary())"
   ]
  },
  {
   "cell_type": "code",
   "execution_count": null,
   "metadata": {
    "id": "7RGNuaf1T5CR"
   },
   "outputs": [],
   "source": [
    "class ErrorFunc:\n",
    "    name = ''\n",
    "    f = None\n",
    "\n",
    "    def __init__(self, name, f):\n",
    "            self.name = name\n",
    "            self.f = f"
   ]
  },
  {
   "cell_type": "code",
   "execution_count": null,
   "metadata": {
    "id": "Lri2tCgimXLN"
   },
   "outputs": [],
   "source": [
    "def run_simulation(n, error_func: ErrorFunc, ate=0.0, n_sim=100, verbose=False, max_iter=100):\n",
    "  eta_true = jnp.array([ 0.0, -0.3, -0.6])\n",
    "  beta_true = jnp.array([0.0, ate, 1.0])\n",
    "  T = 2\n",
    "  p = 1\n",
    "  z_vec = []\n",
    "  pval_vec = []\n",
    "  pval_ols_vec = []\n",
    "  for i in range(n_sim):\n",
    "    jax.clear_caches\n",
    "    y, x, w, _, _, _ = simulate_longitudinal_data(n, T, eta_true, beta_true, error_func.f)\n",
    "    data = data_pairwise(y, x, w)\n",
    "    theta_init = {\n",
    "        \"delta\": jnp.array([0.5]),\n",
    "        \"beta\": jax.random.normal(rng.next(), (1+T*p, )),\n",
    "        \"gamma\": jax.random.normal(rng.next(), (1+2*p, )),\n",
    "    }\n",
    "    theta, J, Var = solve_longitudinal_ugee(data, theta_init, max_iter = max_iter, option = \"fisher\", verbose = verbose)\n",
    "\n",
    "    se = np.sqrt(Var[0][0]/n)\n",
    "    z = abs(theta['delta']-0.5)/se\n",
    "    z_vec.append(z)\n",
    "\n",
    "    gee_res = fit_gee(y, x, w)\n",
    "    pval = gee_res.pvalues[\"treatment\"]\n",
    "    pval_vec.append(pval)\n",
    "\n",
    "    ols_res = fit_ols(y, x, w)\n",
    "    pval_ols_vec.append(ols_res.pvalues[1])\n",
    "\n",
    "  z_array = jnp.concat(z_vec)\n",
    "  return [{'n': n, 'ate': ate, 'errfunc': error_func.name, 'siglevel': 0.05, 'ugee': np.mean(jax.numpy.abs(z_array) > 1.96), 'gee': (jnp.asarray(pval_vec) < 0.05).mean(), 'ols': (jnp.asarray(pval_ols_vec) < 0.05).mean()},\n",
    "          {'n': n, 'ate': ate, 'errfunc': error_func.name, 'siglevel': 0.01, 'ugee': np.mean(jax.numpy.abs(z_array) > 2.575829), 'gee': (jnp.asarray(pval_vec) < 0.01).mean(), 'ols': (jnp.asarray(pval_ols_vec) < 0.01).mean()}\n",
    "           ]"
   ]
  },
  {
   "cell_type": "markdown",
   "metadata": {
    "id": "askAOgptlqiL"
   },
   "source": [
    "## Type I error"
   ]
  },
  {
   "cell_type": "code",
   "execution_count": null,
   "metadata": {
    "id": "rcwpl9yG7uF5"
   },
   "outputs": [],
   "source": [
    "normal_error_func = ErrorFunc('normal', lambda key, shape: jax.random.normal(key, shape))\n",
    "lognormal_error_func = ErrorFunc('lognormal', lambda key, shape: jax.random.lognormal(key, shape=shape))\n",
    "cauchy_error_func = ErrorFunc('cauchy', lambda key, shape: jax.random.lognormal(key, shape=shape))\n",
    "laplace_error_func = ErrorFunc('laplace', lambda key, shape: jax.random.laplace(key, shape=shape))"
   ]
  },
  {
   "cell_type": "code",
   "execution_count": null,
   "metadata": {
    "id": "svCLKfcWA4J_"
   },
   "outputs": [],
   "source": [
    "p = 1\n",
    "n_sim = 1000"
   ]
  },
  {
   "cell_type": "code",
   "execution_count": null,
   "metadata": {
    "colab": {
     "base_uri": "https://localhost:8080/"
    },
    "id": "qZBtMbaK8Jrs",
    "outputId": "855367c1-4920-422d-dbb2-69b56f74c566"
   },
   "outputs": [],
   "source": [
    "run_simulation(n=50, error_func=normal_error_func, ate=0.0, n_sim=n_sim, verbose=False)"
   ]
  },
  {
   "cell_type": "code",
   "execution_count": null,
   "metadata": {
    "colab": {
     "base_uri": "https://localhost:8080/"
    },
    "id": "sMI74Jo4T6GZ",
    "outputId": "094a97e8-4b8b-4e8f-c1d2-7cb7a0d02b81"
   },
   "outputs": [],
   "source": [
    "run_simulation(n=200, error_func=normal_error_func, ate=0.0, n_sim=n_sim, verbose=False)"
   ]
  },
  {
   "cell_type": "code",
   "execution_count": null,
   "metadata": {
    "colab": {
     "base_uri": "https://localhost:8080/"
    },
    "id": "NE2wLrNUT86M",
    "outputId": "af931a56-a854-40a2-864d-7f5df2133f39"
   },
   "outputs": [],
   "source": [
    "run_simulation(n=50, error_func=lognormal_error_func, ate=0.0, n_sim=n_sim, verbose=False)"
   ]
  },
  {
   "cell_type": "code",
   "execution_count": null,
   "metadata": {
    "colab": {
     "base_uri": "https://localhost:8080/"
    },
    "id": "l4rAWoXaUFwH",
    "outputId": "b11615ab-01ea-41cf-c781-e17426b2b9c1"
   },
   "outputs": [],
   "source": [
    "run_simulation(n=200, error_func=lognormal_error_func, ate=0.0, n_sim=n_sim, verbose=False)"
   ]
  },
  {
   "cell_type": "code",
   "execution_count": null,
   "metadata": {
    "colab": {
     "base_uri": "https://localhost:8080/"
    },
    "id": "PAA65_BfUNPr",
    "outputId": "add8a39b-f716-48ef-c765-07ac05e67309"
   },
   "outputs": [],
   "source": [
    "run_simulation(n=50, error_func=cauchy_error_func, ate=0.0, n_sim=n_sim, verbose=False)"
   ]
  },
  {
   "cell_type": "code",
   "execution_count": null,
   "metadata": {
    "colab": {
     "base_uri": "https://localhost:8080/"
    },
    "id": "pWmTl8RmUTVQ",
    "outputId": "d91d2c74-4f0c-4f64-c0cc-2be14d5869fd"
   },
   "outputs": [],
   "source": [
    "run_simulation(n=200, error_func=cauchy_error_func, ate=0.0, n_sim=n_sim, verbose=False)"
   ]
  },
  {
   "cell_type": "markdown",
   "metadata": {
    "id": "K7nEW-ej_7qn"
   },
   "source": [
    "# Power"
   ]
  },
  {
   "cell_type": "code",
   "execution_count": null,
   "metadata": {
    "colab": {
     "base_uri": "https://localhost:8080/"
    },
    "id": "JPlo4WtOV8fk",
    "outputId": "0c4feb47-1bcb-472c-9c9f-38a63682ae58"
   },
   "outputs": [],
   "source": [
    "run_simulation(n=50, error_func=normal_error_func, ate=0.5, n_sim=n_sim, verbose=False)"
   ]
  },
  {
   "cell_type": "code",
   "execution_count": null,
   "metadata": {
    "colab": {
     "base_uri": "https://localhost:8080/"
    },
    "id": "5afake70V8fl",
    "outputId": "7699d623-777f-494b-e80d-9270017e2716"
   },
   "outputs": [],
   "source": [
    "run_simulation(n=200, error_func=normal_error_func, ate=0.5, n_sim=n_sim, verbose=False)"
   ]
  },
  {
   "cell_type": "code",
   "execution_count": null,
   "metadata": {
    "colab": {
     "base_uri": "https://localhost:8080/"
    },
    "id": "-i2zxZKxV8fl",
    "outputId": "01d73fa0-3a14-4d93-e1b2-73bd3d9b9dc8"
   },
   "outputs": [],
   "source": [
    "run_simulation(n=50, error_func=lognormal_error_func, ate=0.5, n_sim=n_sim, verbose=False)"
   ]
  },
  {
   "cell_type": "code",
   "execution_count": null,
   "metadata": {
    "colab": {
     "base_uri": "https://localhost:8080/"
    },
    "id": "cReALvqRV8fl",
    "outputId": "01bcace3-d82e-4c57-d6a7-78605612cfe6"
   },
   "outputs": [],
   "source": [
    "run_simulation(n=200, error_func=lognormal_error_func, ate=0.5, n_sim=n_sim, verbose=False)"
   ]
  },
  {
   "cell_type": "code",
   "execution_count": null,
   "metadata": {
    "colab": {
     "base_uri": "https://localhost:8080/"
    },
    "id": "w2BV_H1SV8fl",
    "outputId": "360639dd-bb99-4c95-d681-3e11440df258"
   },
   "outputs": [],
   "source": [
    "run_simulation(n=50, error_func=cauchy_error_func, ate=0.5, n_sim=n_sim, verbose=False)"
   ]
  },
  {
   "cell_type": "code",
   "execution_count": null,
   "metadata": {
    "colab": {
     "base_uri": "https://localhost:8080/"
    },
    "id": "0btE8rM3V8fl",
    "outputId": "9e253f36-7b86-47f6-acb5-94926d6bd147"
   },
   "outputs": [],
   "source": [
    "run_simulation(n=200, error_func=cauchy_error_func, ate=0.5, n_sim=n_sim, verbose=False)"
   ]
  }
 ],
 "metadata": {
  "colab": {
   "collapsed_sections": [
    "ddACcjTHXXH-"
   ],
   "provenance": []
  },
  "kernelspec": {
   "display_name": "Python 3 (ipykernel)",
   "language": "python",
   "name": "python3"
  },
  "language_info": {
   "codemirror_mode": {
    "name": "ipython",
    "version": 3
   },
   "file_extension": ".py",
   "mimetype": "text/x-python",
   "name": "python",
   "nbconvert_exporter": "python",
   "pygments_lexer": "ipython3",
   "version": "3.10.17"
  }
 },
 "nbformat": 4,
 "nbformat_minor": 4
}
