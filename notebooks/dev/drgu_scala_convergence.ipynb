{
 "cells": [
  {
   "cell_type": "code",
   "execution_count": 1,
   "id": "4e3da6df-d749-467f-972f-9e2f7040d9bd",
   "metadata": {},
   "outputs": [],
   "source": [
    "import org.apache.spark.sql.{Dataset, Encoder, Encoders,SparkSession}\n",
    "import org.apache.spark.sql.functions._\n",
    "import scala.util.Random\n",
    "import org.apache.spark.rdd.RDD\n",
    "// import scala.reflect.ClassTag"
   ]
  },
  {
   "cell_type": "code",
   "execution_count": 2,
   "id": "7ddf6451-68b8-4926-a397-a2228dea2642",
   "metadata": {},
   "outputs": [
    {
     "data": {
      "text/plain": [
       "spark = org.apache.spark.sql.SparkSession@65bf05b7\n"
      ]
     },
     "metadata": {},
     "output_type": "display_data"
    },
    {
     "data": {
      "text/plain": [
       "org.apache.spark.sql.SparkSession@65bf05b7"
      ]
     },
     "execution_count": 2,
     "metadata": {},
     "output_type": "execute_result"
    }
   ],
   "source": [
    "implicit val spark: SparkSession = SparkSession.builder()\n",
    "  .appName(\"DRGU Convergence\")\n",
    "  .master(\"local[*]\")\n",
    "  .getOrCreate()\n",
    "\n",
    "import spark.implicits._"
   ]
  },
  {
   "cell_type": "markdown",
   "id": "a4eaefff-d6dd-412d-a485-8aad409b6f6f",
   "metadata": {},
   "source": [
    "## simulate medium data"
   ]
  },
  {
   "cell_type": "code",
   "execution_count": 4,
   "id": "b06618c1-ad06-40e4-a5f2-06e5ebb79d3e",
   "metadata": {},
   "outputs": [
    {
     "data": {
      "text/plain": [
       "defined class Obs\n",
       "defined class ObsPair\n"
      ]
     },
     "metadata": {},
     "output_type": "display_data"
    }
   ],
   "source": [
    "case class Obs(\n",
    "  i: String,                   // cluster ID\n",
    "  x: Array[Double],           // covariates\n",
    "  y: Double,                  // outcome\n",
    "  timeIndex: Option[Int] = None,      // optional time index\n",
    "  z: Option[Double] = None       // optional treatment indicator\n",
    ")\n",
    "\n",
    "case class ObsPair(left: Obs, right: Obs)"
   ]
  },
  {
   "cell_type": "code",
   "execution_count": 86,
   "id": "d79969e0-c03e-44e6-8189-d4902a2968fd",
   "metadata": {},
   "outputs": [
    {
     "data": {
      "text/plain": [
       "sampleAllPairs: (obsDS: org.apache.spark.sql.Dataset[Obs])(implicit spark: org.apache.spark.sql.SparkSession)org.apache.spark.sql.Dataset[ObsPair]\n"
      ]
     },
     "metadata": {},
     "output_type": "display_data",
     "source": "user"
    }
   ],
   "source": [
    "def sampleAllPairs(obsDS: Dataset[Obs])(implicit spark: SparkSession): Dataset[ObsPair] = {\n",
    "  import spark.implicits._\n",
    "\n",
    "  // Add index to each observation\n",
    "  val indexed: RDD[(Obs, Long)] = obsDS.rdd.zipWithIndex()\n",
    "\n",
    "  // Cartesian join and filter only (i < j) to avoid duplicates\n",
    "  val allPairs: RDD[ObsPair] = indexed.cartesian(indexed)\n",
    "    .filter { case ((_, i), (_, j)) => i < j }\n",
    "    .map { case ((obs1, _), (obs2, _)) => ObsPair(obs1, obs2) }\n",
    "\n",
    "  // Convert back to Dataset\n",
    "  spark.createDataset(allPairs)\n",
    "}"
   ]
  },
  {
   "cell_type": "code",
   "execution_count": 87,
   "id": "5a1fd5cd-7cd6-4ee2-9ba9-294ab3a66f49",
   "metadata": {},
   "outputs": [
    {
     "data": {
      "text/plain": [
       "numClusters = 100\n",
       "numObsPerCluster = 1\n",
       "random = scala.util.Random@cf4ec75\n",
       "data = Vector(Obs(c1,[D@5b1ed8a4,0.26727861661399677,Some(1),Some(0.0)), Obs(c2,[D@2e42f723,0.5149149160314703,Some(1),Some(0.0)), Obs(c3,[D@7debd857,0.9755815222132482,Some(1),Some(0.0)), Obs(c4,[D@565714db,0.6975674830727124,Some(1),Some(0.0)), Obs(c5,[D@7b212d4d,0.11503153848005032,Some(1),Some(0.0)), Obs(c6,[D@426336e5,0.549017848538372,Some(1),Some(0.0)), Obs(c7,[D@61e9679e,0.3231093820614067,Some(1),Some(1.0)), Obs(c8,[D@f7656b4,0.3172881173615496,Some(1),Some(0.0)), Obs(c9,[D@7d4f5952,0.48898110165869113,Some(1),Some(1.0)), Obs(c10,[D@26409c00,0.6671974452966365,Some(1),Some(0.0)), Obs(c11,[D@cbfcac1,0.3642719686297312,Some(1),Some(1.0...\n"
      ]
     },
     "metadata": {},
     "output_type": "display_data",
     "source": "user"
    },
    {
     "name": "stdout",
     "output_type": "stream",
     "text": [
      "+---+---------------------------------------------------------------+-------------------+---------+---+\n",
      "|i  |x                                                              |y                  |timeIndex|z  |\n",
      "+---+---------------------------------------------------------------+-------------------+---------+---+\n",
      "|c1 |[0.9918427154549613, 0.983865677645629, 0.7492280517239661]    |0.26727861661399677|1        |0.0|\n",
      "|c2 |[0.11866828159590148, 0.20402558516094627, 0.9908379988373542] |0.5149149160314703 |1        |0.0|\n",
      "|c3 |[0.0070273262388163005, 0.4692129118162638, 0.434815518884742] |0.9755815222132482 |1        |0.0|\n",
      "|c4 |[0.13355639374335848, 0.6079674441559634, 0.16040416784189582] |0.6975674830727124 |1        |0.0|\n",
      "|c5 |[0.25433411385524496, 0.15869414570899432, 0.15211071681610944]|0.11503153848005032|1        |0.0|\n",
      "|c6 |[0.45407733423450114, 0.3244968416180056, 0.12241357953110676] |0.549017848538372  |1        |0.0|\n",
      "|c7 |[0.5849997300425186, 0.5250342098938594, 0.4780013611862648]   |0.3231093820614067 |1        |1.0|\n",
      "|c8 |[0.5493166541105388, 0.5165829282527233, 0.712104473809536]    |0.3172881173615496 |1        |0.0|\n",
      "|c9 |[0.818841913016111, 0.06295871690850141, 0.15496220745440192]  |0.48898110165869113|1        |1.0|\n",
      "|c10|[0.4752010391240644, 0.29305717482436455, 0.8993387325749067]  |0.6671974452966365 |1        |0.0|\n",
      "|c11|[0.823126649441098, 0.9524502668355462, 0.32329126463492763]   |0.3642719686297312 |1        |1.0|\n",
      "|c12|[0.8760743720990499, 3.2097640555961426E-4, 0.827835316183949] |0.29825373473743433|1        |0.0|\n",
      "|c13|[0.8471120115743135, 0.19432355082665165, 0.32665383088483324] |0.6327909212430008 |1        |1.0|\n",
      "|c14|[0.28674841151869757, 0.12308592344109437, 0.520790380371761]  |0.8263179602078803 |1        |1.0|\n",
      "|c15|[0.20595517425531884, 0.3922211976645995, 0.5729453679549162]  |0.49873295099560766|1        |0.0|\n",
      "|c16|[0.39659531405721493, 0.37012953467485843, 0.7457991157203903] |0.0485603985296581 |1        |0.0|\n",
      "|c17|[0.49687545753935347, 0.090976324093065, 0.9558339842564316]   |0.08000290237253682|1        |1.0|\n",
      "|c18|[0.25036292253867276, 0.9703015244538825, 0.7914592942494384]  |0.18349157366298996|1        |0.0|\n",
      "|c19|[0.003279306794436887, 0.6270063290365219, 0.1838696672235145] |0.5601777350546582 |1        |1.0|\n",
      "|c20|[0.07127454362836338, 0.6999610456042811, 0.6013990387852667]  |0.49075151068173006|1        |1.0|\n",
      "+---+---------------------------------------------------------------+-------------------+---------+---+\n",
      "only showing top 20 rows\n",
      "\n"
     ]
    },
    {
     "data": {
      "text/plain": [
       "Vector(Obs(c1,[D@5b1ed8a4,0.26727861661399677,Some(1),Some(0.0)), Obs(c2,[D@2e42f723,0.5149149160314703,Some(1),Some(0.0)), Obs(c3,[D@7debd857,0.9755815222132482,Some(1),Some(0.0)), Obs(c4,[D@565714db,0.6975674830727124,Some(1),Some(0.0)), Obs(c5,[D@7b212d4d,0.11503153848005032,Some(1),Some(0.0)), Obs(c6,[D@426336e5,0.549017848538372,Some(1),Some(0.0)), Obs(c7,[D@61e9679e,0.3231093820614067,Some(1),Some(1.0)), Obs(c8,[D@f7656b4,0.3172881173615496,Some(1),Some(0.0)), Obs(c9,[D@7d4f5952,0.48898110165869113,Some(1),Some(1.0)), Obs(c10,[D@26409c00,0.6671974452966365,Some(1),Some(0.0)), Obs(c11,[D@cbfcac1,0.3642719686297312,Some(1),Some(1.0..."
      ]
     },
     "execution_count": 87,
     "metadata": {},
     "output_type": "execute_result"
    }
   ],
   "source": [
    "val numClusters = 100\n",
    "val numObsPerCluster = 1\n",
    "val random = new Random()\n",
    "\n",
    "val data = (1 to numClusters).flatMap { clusterId =>\n",
    "  (1 to numObsPerCluster).map { obsId =>\n",
    "    Obs(\n",
    "      i = s\"c$clusterId\",\n",
    "      x = Array.fill(3)(random.nextDouble()), // 3 covariates\n",
    "      y = random.nextDouble(),               // random outcome\n",
    "      timeIndex = Some(obsId),               // time index\n",
    "      z = Some(if (random.nextDouble() > 0.5) 1.0 else 0.0)          // random treatment indicator\n",
    "    )\n",
    "  }\n",
    "}\n",
    "\n",
    "// Convert to Dataset\n",
    "val df: Dataset[Obs] = data.toDS()\n",
    "\n",
    "// Show the generated data\n",
    "df.show(false)"
   ]
  },
  {
   "cell_type": "code",
   "execution_count": 83,
   "id": "8b65dd43-ae3b-42c1-baa8-3e4afdeaa3cd",
   "metadata": {},
   "outputs": [
    {
     "data": {
      "text/plain": [
       "sampleAllPairs: (obsDS: org.apache.spark.sql.Dataset[Obs])(implicit spark: org.apache.spark.sql.SparkSession)org.apache.spark.sql.Dataset[ObsPair]\n"
      ]
     },
     "metadata": {},
     "output_type": "display_data",
     "source": "user"
    }
   ],
   "source": []
  },
  {
   "cell_type": "markdown",
   "id": "2c0fc652-2040-4b8b-9010-44615d971bad",
   "metadata": {},
   "source": [
    "## function for generate paired data"
   ]
  },
  {
   "cell_type": "code",
   "execution_count": 2,
   "id": "2e02583b-f770-488b-b1de-0e8db0cfe8b9",
   "metadata": {},
   "outputs": [
    {
     "data": {
      "text/plain": [
       "assignDeterministicPartition: (ds: org.apache.spark.sql.Dataset[Obs], idColumn: String, numPartitions: Int)(implicit spark: org.apache.spark.sql.SparkSession)org.apache.spark.sql.Dataset[(Obs, Int)]\n"
      ]
     },
     "metadata": {},
     "output_type": "display_data"
    }
   ],
   "source": [
    "def assignDeterministicPartition(\n",
    "    ds: Dataset[Obs],\n",
    "    idColumn: String = \"i\",  // cluster ID or any stable ID\n",
    "    numPartitions: Int\n",
    ")(implicit spark: SparkSession): Dataset[(Obs, Int)] = {\n",
    "  import spark.implicits._\n",
    "\n",
    "  val withBucket = ds.withColumn(\"bucket\", (xxhash64(col(idColumn)) % numPartitions).cast(\"int\"))\n",
    "  val repartitioned = withBucket.repartition($\"bucket\")\n",
    "  repartitioned.select(\n",
    "    struct($\"i\", $\"x\", $\"y\", $\"timeIndex\", $\"z\").as(\"obs\"),\n",
    "    $\"bucket\"\n",
    "  ).as[(Obs, Int)]\n",
    "}\n"
   ]
  },
  {
   "cell_type": "code",
   "execution_count": 3,
   "id": "76485b82-b14c-451b-a186-20445f3a0f6a",
   "metadata": {},
   "outputs": [
    {
     "data": {
      "text/plain": [
       "sampleObsPairsFromRepartitioned: (partitioned: org.apache.spark.sql.Dataset[(Obs, Int)], samplePerPartition: Int, seed: Long)(implicit spark: org.apache.spark.sql.SparkSession)org.apache.spark.sql.Dataset[ObsPair]\n",
       "sampleObsPairsFromRepartitionedRow: (partitioned: org.apache.spark.sql.Dataset[(Obs, Int)], matchesPerRow: Int, seed: Long)(implicit spark: org.apache.spark.sql.SparkSession)org.apache.spark.sql.Dataset[ObsPair]\n"
      ]
     },
     "metadata": {},
     "output_type": "display_data"
    }
   ],
   "source": [
    "def sampleObsPairsFromRepartitioned(\n",
    "    partitioned: Dataset[(Obs, Int)],\n",
    "    samplePerPartition: Int,\n",
    "    seed: Long = System.currentTimeMillis()\n",
    ")(implicit spark: SparkSession): Dataset[ObsPair] = {\n",
    "  import spark.implicits._\n",
    "\n",
    "  partitioned\n",
    "    .groupByKey { case (_, bucket) => bucket }\n",
    "    .flatMapGroups { case (_, iter) =>\n",
    "      val rand = new scala.util.Random(seed)\n",
    "      val items = iter.map(_._1).toIndexedSeq\n",
    "      val n = items.length\n",
    "\n",
    "      if (n < 2) Iterator.empty\n",
    "      else {\n",
    "        val sampledPairs = Iterator.fill(samplePerPartition) {\n",
    "          var i = 0\n",
    "          var j = 0\n",
    "          do {\n",
    "            i = rand.nextInt(n)\n",
    "            j = rand.nextInt(n)\n",
    "          } while (i == j)\n",
    "\n",
    "          val (ii, jj) = if (i < j) (i, j) else (j, i)\n",
    "          ObsPair(items(ii), items(jj))\n",
    "        }\n",
    "        sampledPairs\n",
    "      }\n",
    "    }\n",
    "}\n",
    "\n",
    "def sampleObsPairsFromRepartitionedRow(\n",
    "    partitioned: Dataset[(Obs, Int)],\n",
    "    matchesPerRow: Int,\n",
    "    seed: Long = System.currentTimeMillis()\n",
    ")(implicit spark:SparkSession): Dataset[ObsPair] = {\n",
    "  import spark.implicits._\n",
    "\n",
    "  partitioned\n",
    "    .groupByKey { case (_, bucket) => bucket }\n",
    "    .flatMapGroups { case (_, iter) =>\n",
    "      val rand = new scala.util.Random(seed)\n",
    "      val items = iter.map(_._1).toIndexedSeq\n",
    "      val n = items.length\n",
    "\n",
    "      if (n < 2) Iterator.empty\n",
    "      else {\n",
    "        val sampledPairs  = (0 until n).flatMap { i =>\n",
    "          (0 until matchesPerRow).map { _ =>\n",
    "            var j = i\n",
    "            while (j == i) j = rand.nextInt(n)\n",
    "            ObsPair(items(i), items(j))\n",
    "          }\n",
    "        }\n",
    "        sampledPairs\n",
    "      }\n",
    "    }\n",
    "}"
   ]
  },
  {
   "cell_type": "code",
   "execution_count": 4,
   "id": "c6fc1dc5-2a80-4830-9f93-4d005ccf8cb0",
   "metadata": {},
   "outputs": [
    {
     "data": {
      "text/plain": [
       "defined class PairFeatures\n"
      ]
     },
     "metadata": {},
     "output_type": "display_data"
    }
   ],
   "source": [
    "import breeze.linalg._\n",
    "\n",
    "case class PairFeatures(\n",
    "  Wt_i: Array[Double],\n",
    "  Wt_j: Array[Double],\n",
    "  Xg_ij: Array[Double],\n",
    "  Xg_ji: Array[Double],\n",
    "  yi: Double,\n",
    "  yj: Double,\n",
    "  zi: Double,\n",
    "  zj: Double\n",
    ")"
   ]
  },
  {
   "cell_type": "code",
   "execution_count": 5,
   "id": "46c487fe-96a6-4bf2-a55f-54c1087dc202",
   "metadata": {},
   "outputs": [
    {
     "data": {
      "text/plain": [
       "toPairFeatures: (pair: ObsPair)PairFeatures\n"
      ]
     },
     "metadata": {},
     "output_type": "display_data"
    }
   ],
   "source": [
    "def toPairFeatures(pair: ObsPair): PairFeatures = {\n",
    "  val Obs(_, x1, y1, _, Some(z1)) = pair.left\n",
    "  val Obs(_, x2, y2, _, Some(z2)) = pair.right\n",
    "\n",
    "  val Wt_i = Array(1.0) ++ x1\n",
    "  val Wt_j = Array(1.0) ++ x2\n",
    "  val Xg_ij = Array(1.0) ++ x1 ++ x2\n",
    "  val Xg_ji = Array(1.0) ++ x2 ++ x1\n",
    "\n",
    "  PairFeatures(Wt_i, Wt_j, Xg_ij, Xg_ji, y1, y2, z1, z2)\n",
    "}"
   ]
  },
  {
   "cell_type": "markdown",
   "id": "4552056b-a2a6-4dcd-9f67-6acfe7dfdf12",
   "metadata": {},
   "source": [
    "### use function to generate paired data"
   ]
  },
  {
   "cell_type": "code",
   "execution_count": 42,
   "id": "ccfa2a15-e153-485d-a6ec-a6d4d44bc9db",
   "metadata": {},
   "outputs": [
    {
     "data": {
      "text/plain": [
       "[obs: struct<i: string, x: array<double> ... 3 more fields>, bucket: int]"
      ]
     },
     "execution_count": 42,
     "metadata": {},
     "output_type": "execute_result"
    }
   ],
   "source": [
    "repartitioned.unpersist()"
   ]
  },
  {
   "cell_type": "code",
   "execution_count": 43,
   "id": "cfc6df4e-7926-49f5-a76b-f870c2c896a9",
   "metadata": {},
   "outputs": [
    {
     "data": {
      "text/plain": [
       "repartitioned = [obs: struct<i: string, x: array<double> ... 3 more fields>, bucket: int]\n"
      ]
     },
     "metadata": {},
     "output_type": "display_data"
    },
    {
     "data": {
      "text/plain": [
       "100"
      ]
     },
     "execution_count": 43,
     "metadata": {},
     "output_type": "execute_result"
    }
   ],
   "source": [
    "val repartitioned = assignDeterministicPartition(df, idColumn = \"i\", numPartitions = 10).cache()\n",
    "repartitioned.count() // trigger caching"
   ]
  },
  {
   "cell_type": "code",
   "execution_count": 89,
   "id": "d510438d-e9b7-4c58-8e6f-700d59a1a4af",
   "metadata": {},
   "outputs": [
    {
     "data": {
      "text/plain": [
       "sampledPairs = [left: struct<i: string, x: array<double> ... 3 more fields>, right: struct<i: string, x: array<double> ... 3 more fields>]\n"
      ]
     },
     "metadata": {},
     "output_type": "display_data",
     "source": "user"
    },
    {
     "data": {
      "text/plain": [
       "[left: struct<i: string, x: array<double> ... 3 more fields>, right: struct<i: string, x: array<double> ... 3 more fields>]"
      ]
     },
     "execution_count": 89,
     "metadata": {},
     "output_type": "execute_result"
    }
   ],
   "source": [
    "// all pairs\n",
    "val sampledPairs: Dataset[ObsPair] = sampleAllPairs(df)"
   ]
  },
  {
   "cell_type": "code",
   "execution_count": 10,
   "id": "6d9d6dc3-8216-4fa9-a140-aca58bef3ba5",
   "metadata": {},
   "outputs": [
    {
     "name": "stdout",
     "output_type": "stream",
     "text": [
      "+--------------------+--------------------+\n",
      "|                left|               right|\n",
      "+--------------------+--------------------+\n",
      "|{c99, [0.24858109...|{c113, [0.9366210...|\n",
      "|{c180, [0.8132829...|{c974, [0.5968742...|\n",
      "|{c229, [0.9142135...|{c382, [0.5414748...|\n",
      "|{c570, [0.0529473...|{c642, [0.5457118...|\n",
      "|{c466, [0.9257026...|{c855, [0.9445837...|\n",
      "|{c113, [0.9366210...|{c974, [0.5968742...|\n",
      "|{c99, [0.24858109...|{c982, [0.1866435...|\n",
      "|{c473, [0.0114870...|{c836, [0.8790051...|\n",
      "|{c99, [0.24858109...|{c678, [0.0119801...|\n",
      "|{c573, [0.9632667...|{c965, [0.2515332...|\n",
      "|{c238, [0.2204298...|{c573, [0.9632667...|\n",
      "|{c296, [0.7088656...|{c965, [0.2515332...|\n",
      "|{c113, [0.9366210...|{c965, [0.2515332...|\n",
      "|{c68, [0.15071439...|{c573, [0.9632667...|\n",
      "|{c92, [0.03963054...|{c642, [0.5457118...|\n",
      "|{c92, [0.03963054...|{c838, [0.3137387...|\n",
      "|{c187, [0.0267444...|{c974, [0.5968742...|\n",
      "|{c891, [0.3015660...|{c974, [0.5968742...|\n",
      "|{c99, [0.24858109...|{c600, [0.0336387...|\n",
      "|{c410, [0.5248068...|{c542, [0.3676801...|\n",
      "+--------------------+--------------------+\n",
      "only showing top 20 rows\n",
      "\n"
     ]
    },
    {
     "data": {
      "text/plain": [
       "sampledPairs = [left: struct<i: string, x: array<double> ... 3 more fields>, right: struct<i: string, x: array<double> ... 3 more fields>]\n"
      ]
     },
     "metadata": {},
     "output_type": "display_data"
    },
    {
     "data": {
      "text/plain": [
       "[left: struct<i: string, x: array<double> ... 3 more fields>, right: struct<i: string, x: array<double> ... 3 more fields>]"
      ]
     },
     "execution_count": 10,
     "metadata": {},
     "output_type": "execute_result"
    }
   ],
   "source": [
    "val sampledPairs: Dataset[ObsPair] =\n",
    "  sampleObsPairsFromRepartitioned(repartitioned, samplePerPartition = 100)\n",
    "\n",
    "sampledPairs.show()"
   ]
  },
  {
   "cell_type": "code",
   "execution_count": 90,
   "id": "99db9789-1ffa-484d-bd1e-7e48e725e43d",
   "metadata": {},
   "outputs": [
    {
     "data": {
      "text/plain": [
       "pairFeatureDS = [Wt_i: array<double>, Wt_j: array<double> ... 6 more fields]\n"
      ]
     },
     "metadata": {},
     "output_type": "display_data",
     "source": "user"
    },
    {
     "name": "stdout",
     "output_type": "stream",
     "text": [
      "+--------------------+--------------------+--------------------+--------------------+-------------------+-------------------+---+---+\n",
      "|                Wt_i|                Wt_j|               Xg_ij|               Xg_ji|                 yi|                 yj| zi| zj|\n",
      "+--------------------+--------------------+--------------------+--------------------+-------------------+-------------------+---+---+\n",
      "|[1.0, 0.991842715...|[1.0, 0.118668281...|[1.0, 0.991842715...|[1.0, 0.118668281...|0.26727861661399677| 0.5149149160314703|0.0|0.0|\n",
      "|[1.0, 0.991842715...|[1.0, 0.007027326...|[1.0, 0.991842715...|[1.0, 0.007027326...|0.26727861661399677| 0.9755815222132482|0.0|0.0|\n",
      "|[1.0, 0.991842715...|[1.0, 0.133556393...|[1.0, 0.991842715...|[1.0, 0.133556393...|0.26727861661399677| 0.6975674830727124|0.0|0.0|\n",
      "|[1.0, 0.991842715...|[1.0, 0.254334113...|[1.0, 0.991842715...|[1.0, 0.254334113...|0.26727861661399677|0.11503153848005032|0.0|0.0|\n",
      "|[1.0, 0.991842715...|[1.0, 0.454077334...|[1.0, 0.991842715...|[1.0, 0.454077334...|0.26727861661399677|  0.549017848538372|0.0|0.0|\n",
      "|[1.0, 0.991842715...|[1.0, 0.584999730...|[1.0, 0.991842715...|[1.0, 0.584999730...|0.26727861661399677| 0.3231093820614067|0.0|1.0|\n",
      "|[1.0, 0.991842715...|[1.0, 0.549316654...|[1.0, 0.991842715...|[1.0, 0.549316654...|0.26727861661399677| 0.3172881173615496|0.0|0.0|\n",
      "|[1.0, 0.991842715...|[1.0, 0.818841913...|[1.0, 0.991842715...|[1.0, 0.818841913...|0.26727861661399677|0.48898110165869113|0.0|1.0|\n",
      "|[1.0, 0.991842715...|[1.0, 0.475201039...|[1.0, 0.991842715...|[1.0, 0.475201039...|0.26727861661399677| 0.6671974452966365|0.0|0.0|\n",
      "|[1.0, 0.118668281...|[1.0, 0.007027326...|[1.0, 0.118668281...|[1.0, 0.007027326...| 0.5149149160314703| 0.9755815222132482|0.0|0.0|\n",
      "|[1.0, 0.118668281...|[1.0, 0.133556393...|[1.0, 0.118668281...|[1.0, 0.133556393...| 0.5149149160314703| 0.6975674830727124|0.0|0.0|\n",
      "|[1.0, 0.118668281...|[1.0, 0.254334113...|[1.0, 0.118668281...|[1.0, 0.254334113...| 0.5149149160314703|0.11503153848005032|0.0|0.0|\n",
      "|[1.0, 0.118668281...|[1.0, 0.454077334...|[1.0, 0.118668281...|[1.0, 0.454077334...| 0.5149149160314703|  0.549017848538372|0.0|0.0|\n",
      "|[1.0, 0.118668281...|[1.0, 0.584999730...|[1.0, 0.118668281...|[1.0, 0.584999730...| 0.5149149160314703| 0.3231093820614067|0.0|1.0|\n",
      "|[1.0, 0.118668281...|[1.0, 0.549316654...|[1.0, 0.118668281...|[1.0, 0.549316654...| 0.5149149160314703| 0.3172881173615496|0.0|0.0|\n",
      "|[1.0, 0.118668281...|[1.0, 0.818841913...|[1.0, 0.118668281...|[1.0, 0.818841913...| 0.5149149160314703|0.48898110165869113|0.0|1.0|\n",
      "|[1.0, 0.118668281...|[1.0, 0.475201039...|[1.0, 0.118668281...|[1.0, 0.475201039...| 0.5149149160314703| 0.6671974452966365|0.0|0.0|\n",
      "|[1.0, 0.007027326...|[1.0, 0.133556393...|[1.0, 0.007027326...|[1.0, 0.133556393...| 0.9755815222132482| 0.6975674830727124|0.0|0.0|\n",
      "|[1.0, 0.007027326...|[1.0, 0.254334113...|[1.0, 0.007027326...|[1.0, 0.254334113...| 0.9755815222132482|0.11503153848005032|0.0|0.0|\n",
      "|[1.0, 0.007027326...|[1.0, 0.454077334...|[1.0, 0.007027326...|[1.0, 0.454077334...| 0.9755815222132482|  0.549017848538372|0.0|0.0|\n",
      "+--------------------+--------------------+--------------------+--------------------+-------------------+-------------------+---+---+\n",
      "only showing top 20 rows\n",
      "\n"
     ]
    },
    {
     "data": {
      "text/plain": [
       "[Wt_i: array<double>, Wt_j: array<double> ... 6 more fields]"
      ]
     },
     "execution_count": 90,
     "metadata": {},
     "output_type": "execute_result"
    }
   ],
   "source": [
    "// repartitioned.unpersist()\n",
    "\n",
    "val pairFeatureDS: Dataset[PairFeatures] = sampledPairs.map(toPairFeatures)\n",
    "\n",
    "pairFeatureDS.show()"
   ]
  },
  {
   "cell_type": "code",
   "execution_count": 91,
   "id": "a39d9da1-bc2e-4233-be80-6bab3999075a",
   "metadata": {},
   "outputs": [
    {
     "data": {
      "text/plain": [
       "4950"
      ]
     },
     "execution_count": 91,
     "metadata": {},
     "output_type": "execute_result"
    }
   ],
   "source": [
    "pairFeatureDS.count()"
   ]
  },
  {
   "cell_type": "markdown",
   "id": "73e79962-f12b-447c-8df4-7264227c6f9d",
   "metadata": {},
   "source": [
    "## functions for fisher update"
   ]
  },
  {
   "cell_type": "code",
   "execution_count": 25,
   "id": "8fb86b80-2f64-4e4e-8edb-95f6e7a07515",
   "metadata": {},
   "outputs": [
    {
     "data": {
      "text/plain": [
       "safeSig: (x: Double)Double\n"
      ]
     },
     "metadata": {},
     "output_type": "display_data"
    }
   ],
   "source": [
    "def safeSig(x: Double): Double = {\n",
    "  val clipped = math.max(-10.0, math.min(10.0, x))\n",
    "  1.0 / (1.0 + math.exp(-clipped))\n",
    "}"
   ]
  },
  {
   "cell_type": "code",
   "execution_count": 26,
   "id": "aded2927-c137-4542-9a91-c7c6a8e757d0",
   "metadata": {},
   "outputs": [
    {
     "data": {
      "text/plain": [
       "computeHFDFDHforPair: (p: PairFeatures, theta: Map[String,breeze.linalg.DenseVector[Double]])(breeze.linalg.DenseVector[Double], breeze.linalg.DenseVector[Double], breeze.linalg.DenseVector[Double], breeze.linalg.DenseVector[Double])\n"
      ]
     },
     "metadata": {},
     "output_type": "display_data"
    }
   ],
   "source": [
    "def computeHFDFDHforPair(\n",
    "  p: PairFeatures,\n",
    "  theta: Map[String, DenseVector[Double]]\n",
    "): (DenseVector[Double], DenseVector[Double], DenseVector[Double], DenseVector[Double]) = {\n",
    "  val delta = theta(\"delta\")(0)\n",
    "  val beta  = theta(\"beta\")\n",
    "  val gamma = theta(\"gamma\")\n",
    "\n",
    "  val Wt_i  = DenseVector(p.Wt_i)\n",
    "  val Wt_j  = DenseVector(p.Wt_j)\n",
    "  val Xg_ij = DenseVector(p.Xg_ij)\n",
    "  val Xg_ji = DenseVector(p.Xg_ji)\n",
    "\n",
    "  // ---- sigmoid preds ----\n",
    "  val pi_i = safeSig(Wt_i dot beta)\n",
    "  val pi_j = safeSig(Wt_j dot beta)\n",
    "  val g_ij = safeSig(Xg_ij dot gamma)\n",
    "  val g_ji = safeSig(Xg_ji dot gamma)\n",
    "\n",
    "  val I_ij = if (p.yi >= p.yj) 1.0 else 0.0\n",
    "  val I_ji = 1.0 - I_ij\n",
    "\n",
    "  // ---- compute h ----\n",
    "  val A    = p.zi * (1 - p.zj) / (2 * pi_i * (1 - pi_j))\n",
    "  val B    = p.zj * (1 - p.zi) / (2 * pi_j * (1 - pi_i))\n",
    "  val num1 = A * (I_ij - g_ij)\n",
    "  val num2 = B * (I_ji - g_ji)\n",
    "  val h1   = num1 + num2 + 0.5 * (g_ij + g_ji)\n",
    "  val h2   = 0.5 * (p.zi + p.zj)\n",
    "  val h3   = 0.5 * (p.zi * (1 - p.zj) * I_ij + p.zj * (1 - p.zi) * I_ji)\n",
    "  val h    = DenseVector(h1, h2, h3)\n",
    "\n",
    "  // ---- compute f ----\n",
    "  val f1 = delta\n",
    "  val f2 = 0.5 * (pi_i + pi_j)\n",
    "  val f3 = 0.5 * (pi_i * (1 - pi_j) * g_ij + pi_j * (1 - pi_i) * g_ji)\n",
    "  val f  = DenseVector(f1, f2, f3)\n",
    "\n",
    "  // ---- gradient df ----\n",
    "  // df1\n",
    "  val df1Delta = 1.0\n",
    "\n",
    "  // df2\n",
    "  val dPiI    = pi_i * (1 - pi_i) * Wt_i\n",
    "  val dPiJ    = pi_j * (1 - pi_j) * Wt_j\n",
    "  val df2Beta = 0.5 * (dPiI + dPiJ)\n",
    "\n",
    "  // df3\n",
    "  val df3Beta = 0.5 * (\n",
    "    ((1 - pi_j)*pi_i*(1 - pi_i)*Wt_i - pi_i*pi_j*(1 - pi_j)*Wt_j)*g_ij +\n",
    "    ((1 - pi_i)*pi_j*(1 - pi_j)*Wt_j - pi_j*pi_i*(1 - pi_i)*Wt_i)*g_ji\n",
    "  )\n",
    "  val df3Gamma = 0.5 * (\n",
    "    pi_i*(1 - pi_j)*g_ij*(1 - g_ij)*Xg_ij +\n",
    "    pi_j*(1 - pi_i)*g_ji*(1 - g_ji)*Xg_ji\n",
    "  )\n",
    "\n",
    "  val pb = beta.length\n",
    "  val qg = gamma.length\n",
    "  val df = DenseMatrix.vertcat(\n",
    "    DenseVector(1.0 +: Array.fill(pb + qg)(0.0): _*).toDenseMatrix,\n",
    "    DenseVector.vertcat(DenseVector(0.0), df2Beta, DenseVector.zeros[Double](qg)).toDenseMatrix,\n",
    "    DenseVector.vertcat(DenseVector(0.0), df3Beta, df3Gamma).toDenseMatrix\n",
    "  )\n",
    "\n",
    "  // ---- gradient dh ----\n",
    "  // dh1 / dβ\n",
    "  val dh1Beta = - (I_ij - g_ij)*A*((1.0 - pi_i)*Wt_i - pi_j*Wt_j) -\n",
    "                 (I_ji - g_ji)*B*((1.0 - pi_j)*Wt_j - pi_i*Wt_i)\n",
    "  // dh1 / dγ\n",
    "  val dh1Gamma = -A*(I_ij - g_ij)*g_ij*(1 - g_ij)*Xg_ij -\n",
    "                  B*(I_ji - g_ji)*g_ji*(1 - g_ji)*Xg_ji +\n",
    "                  0.5*(g_ij*(1 - g_ij)*Xg_ij + g_ji*(1 - g_ji)*Xg_ji)\n",
    "  // dh2, dh3 are zero\n",
    "  val dh2Beta  = DenseVector.zeros[Double](pb)\n",
    "  val dh2Gamma = DenseVector.zeros[Double](qg)\n",
    "  val dh3Beta  = DenseVector.zeros[Double](pb)\n",
    "  val dh3Gamma = DenseVector.zeros[Double](qg)\n",
    "\n",
    "  // assemble dh matrix\n",
    "  val dh = DenseMatrix.vertcat(\n",
    "    DenseVector.vertcat(DenseVector(0.0), dh1Beta, dh1Gamma).toDenseMatrix,\n",
    "    DenseVector.vertcat(DenseVector(0.0), dh2Beta, dh2Gamma).toDenseMatrix,\n",
    "    DenseVector.vertcat(DenseVector(0.0), dh3Beta, dh3Gamma).toDenseMatrix\n",
    "  )\n",
    "\n",
    "  // return (h, f, df, dh)\n",
    "  (h, f, df.toDenseVector, dh.toDenseVector)\n",
    "}"
   ]
  },
  {
   "cell_type": "code",
   "execution_count": 27,
   "id": "0903c566-9529-4982-a5ac-e09787b04b34",
   "metadata": {},
   "outputs": [
    {
     "data": {
      "text/plain": [
       "computeBUforPair: (pf: PairFeatures, theta: Map[String,breeze.linalg.DenseVector[Double]])(breeze.linalg.DenseVector[Double], breeze.linalg.DenseVector[Double])\n"
      ]
     },
     "metadata": {},
     "output_type": "display_data"
    }
   ],
   "source": [
    "def computeBUforPair(\n",
    "  pf: PairFeatures,\n",
    "  theta: Map[String, DenseVector[Double]]\n",
    "): (DenseVector[Double], DenseVector[Double]) = {\n",
    "  // 1) get h, f, D, M\n",
    "  val (h, f, dfVec, dhVec) = computeHFDFDHforPair(pf, theta) \n",
    "  val d = dfVec.length / 3\n",
    "  val D = new DenseMatrix(3, d, dfVec.data)       // 3×d\n",
    "  val M = new DenseMatrix(3, d, dhVec.data)       // 3×d\n",
    "  val Vinv = DenseMatrix.eye[Double](3)           // 3x3, identity matrix for simplicity\n",
    "\n",
    "  // 2) G = D^T * V⁻¹  (d×3)\n",
    "  val G = D.t * Vinv\n",
    "\n",
    "  // 3) B_i = G * (D - M)   (d×d)\n",
    "  val B_i = G * (D - M)\n",
    "\n",
    "  // 4) u_i = G * (h - f)   (d)\n",
    "  val u_i = G * (h - f)\n",
    "\n",
    "  (B_i.toDenseVector, u_i)\n",
    "}"
   ]
  },
  {
   "cell_type": "code",
   "execution_count": 28,
   "id": "42a527d3-8eb8-41b8-b9e8-ff265554a100",
   "metadata": {},
   "outputs": [
    {
     "data": {
      "text/plain": [
       "updateTheta: (theta: Map[String,breeze.linalg.DenseVector[Double]], step: breeze.linalg.DenseVector[Double])Map[String,breeze.linalg.DenseVector[Double]]\n"
      ]
     },
     "metadata": {},
     "output_type": "display_data"
    }
   ],
   "source": [
    "def updateTheta(\n",
    "  theta: Map[String, DenseVector[Double]],\n",
    "  step: DenseVector[Double]\n",
    "): Map[String, DenseVector[Double]] = {\n",
    "  var idx    = 0\n",
    "  // delta (scalar)\n",
    "  val newDelta = theta(\"delta\") + step(idx to idx)\n",
    "  idx        += 1\n",
    "  // beta\n",
    "  val bLen    = theta(\"beta\").length\n",
    "  val newBeta = theta(\"beta\") + step(idx until idx + bLen)\n",
    "  idx        += bLen\n",
    "  // gamma\n",
    "  val gLen     = theta(\"gamma\").length\n",
    "  val newGamma = theta(\"gamma\") + step(idx until idx + gLen)\n",
    "\n",
    "  Map(\n",
    "    \"delta\" -> newDelta,\n",
    "    \"beta\"  -> newBeta,\n",
    "    \"gamma\" -> newGamma\n",
    "  )\n",
    "}"
   ]
  },
  {
   "cell_type": "code",
   "execution_count": 29,
   "id": "f08613ac-d3dc-4c4f-9016-b1d5c7a86e62",
   "metadata": {},
   "outputs": [
    {
     "data": {
      "text/plain": [
       "generalizedInverse: (matrix: breeze.linalg.DenseMatrix[Double])breeze.linalg.DenseMatrix[Double]\n"
      ]
     },
     "metadata": {},
     "output_type": "display_data"
    }
   ],
   "source": [
    "def generalizedInverse(matrix: DenseMatrix[Double]): DenseMatrix[Double] = {\n",
    "  val svd.SVD(u, s, vt) = svd(matrix)\n",
    "  val sInv = DenseMatrix.zeros[Double](s.length, s.length)\n",
    "  \n",
    "  // Invert non-zero singular values\n",
    "  for (i <- 0 until s.length) {\n",
    "    if (s(i) > 1e-10) { // Threshold to avoid division by zero\n",
    "      sInv(i, i) = 1.0 / s(i)\n",
    "    }\n",
    "  }\n",
    "  \n",
    "  // Compute the pseudoinverse\n",
    "  vt.t * sInv * u.t\n",
    "}"
   ]
  },
  {
   "cell_type": "code",
   "execution_count": 30,
   "id": "397d5250-3e3a-49e7-93be-e95a562fb7ac",
   "metadata": {},
   "outputs": [
    {
     "data": {
      "text/plain": [
       "computeStep: (pairFeatureDS: org.apache.spark.sql.Dataset[PairFeatures], theta: Map[String,breeze.linalg.DenseVector[Double]])breeze.linalg.DenseVector[Double]\n"
      ]
     },
     "metadata": {},
     "output_type": "display_data"
    }
   ],
   "source": [
    "def computeStep(pairFeatureDS: Dataset[PairFeatures], theta: Map[String, DenseVector[Double]]): DenseVector[Double] = {\n",
    "  val d = theta(\"beta\").length + theta(\"gamma\").length + 1  // total params\n",
    "\n",
    "  val BURDD: RDD[(DenseVector[Double], DenseVector[Double])] =\n",
    "    pairFeatureDS.rdd.mapPartitions { iter =>\n",
    "      iter.grouped(200).flatMap { batch =>\n",
    "        batch.map(p => computeBUforPair(p, theta))\n",
    "      }\n",
    "    }\n",
    "\n",
    "  val BUsum = BURDD.aggregate(\n",
    "    (DenseVector.zeros[Double](d * d), DenseVector.zeros[Double](d), 0)\n",
    "  )(\n",
    "    (acc, value) => {\n",
    "      val BAcc = acc._1\n",
    "      val UAcc = acc._2\n",
    "      val c = acc._3\n",
    "      val B = value._1\n",
    "      val U = value._2\n",
    "      (BAcc + B, UAcc + U, c + 1)\n",
    "    },\n",
    "    (acc1, acc2) => {\n",
    "      val B1 = acc1._1\n",
    "      val U1 = acc1._2\n",
    "      val c1 = acc1._3\n",
    "      val B2 = acc2._1\n",
    "      val U2 = acc2._2\n",
    "      val c2 = acc2._3\n",
    "      (B1 + B2, U1 + U2, c1 + c2)\n",
    "    }\n",
    "  )\n",
    "\n",
    "  val Btot = new DenseMatrix(d, d, BUsum._1.data) // d×d\n",
    "  val Utot = BUsum._2 // d\n",
    "  val countBU = BUsum._3\n",
    "\n",
    "  val Bmean = Btot / countBU.toDouble\n",
    "  val Umean = Utot / countBU.toDouble\n",
    "\n",
    "  // Fisher scoring update\n",
    "\n",
    "  val J = - Bmean\n",
    "  val lambda = 0.000\n",
    "  val Iden = DenseMatrix.eye[Double](d) // Identity matrix of size d\n",
    "  val step = generalizedInverse(J + lambda * Iden) * (-Umean)\n",
    "\n",
    "  step\n",
    "}"
   ]
  },
  {
   "cell_type": "markdown",
   "id": "67e33c50-a1fb-43fe-96bd-7e8c34eb28bb",
   "metadata": {},
   "source": [
    "### use functions to update theta"
   ]
  },
  {
   "cell_type": "code",
   "execution_count": 92,
   "id": "c27ea974-b3fb-441b-8406-f34207ad2189",
   "metadata": {},
   "outputs": [
    {
     "data": {
      "text/plain": [
       "p = 3\n",
       "thetaInit = Map(delta -> DenseVector(0.5), beta -> DenseVector(0.0, 0.0, 0.0, 0.0), gamma -> DenseVector(0.0, 0.0, 0.0, 0.0, 0.0, 0.0, 0.0))\n",
       "theta = Map(delta -> DenseVector(0.5), beta -> DenseVector(0.0, 0.0, 0.0, 0.0), gamma -> DenseVector(0.0, 0.0, 0.0, 0.0, 0.0, 0.0, 0.0))\n"
      ]
     },
     "metadata": {},
     "output_type": "display_data",
     "source": "user"
    },
    {
     "data": {
      "text/plain": [
       "Map(delta -> DenseVector(0.5), beta -> DenseVector(0.0, 0.0, 0.0, 0.0), gamma -> DenseVector(0.0, 0.0, 0.0, 0.0, 0.0, 0.0, 0.0))"
      ]
     },
     "execution_count": 92,
     "metadata": {},
     "output_type": "execute_result"
    }
   ],
   "source": [
    "val p = 3\n",
    "val thetaInit =  Map(\n",
    "  \"delta\" -> DenseVector(0.5),\n",
    "  \"beta\" -> DenseVector.zeros[Double](p + 1),   // where p is dim(x)\n",
    "  \"gamma\" -> DenseVector.zeros[Double](2 * p + 1)\n",
    ")\n",
    "\n",
    "// θ holds “delta”, “beta”, “gamma” as DenseVector’s\n",
    "var theta: Map[String, DenseVector[Double]] = thetaInit"
   ]
  },
  {
   "cell_type": "code",
   "execution_count": 32,
   "id": "859aeaa3-78cc-44c5-b6d3-16897731fc04",
   "metadata": {},
   "outputs": [
    {
     "data": {
      "text/plain": [
       "step = DenseVector(0.06198679902031275, -0.13865192327808404, 0.09768482532165743, -0.1110750597878438, 0.37614075514617396, 0.32590325936754716, 0.15008069789480064, 0.05127167894737973, -0.40196636289840587, 0.15004688615406966, 0.05126495688003067, -0.4017221217750656)\n",
       "theta = Map(delta -> DenseVector(0.5619867990203128), beta -> DenseVector(-0.13865192327808404, 0.09768482532165743, -0.1110750597878438, 0.37614075514617396), gamma -> DenseVector(0.32590325936754716, 0.15008069789480064, 0.05127167894737973, -0.40196636289840587, 0.15004688615406966, 0.05126495688003067, -0.4017221217750656))\n"
      ]
     },
     "metadata": {},
     "output_type": "display_data"
    },
    {
     "name": "stdout",
     "output_type": "stream",
     "text": [
      "Updated theta: Map(delta -> DenseVector(0.5308551422833616), beta -> DenseVector(0.28271462397361746, 0.13873782088654424, 0.14926160005343678, 0.13333156094939042), gamma -> DenseVector(-0.005432798717790621, -0.003125994201698155, -0.0029221142288405086, -0.0013614447598632427, -0.003125994201698155, -0.00292211422884051, -0.0013614447598632431))\n"
     ]
    },
    {
     "data": {
      "text/plain": [
       "Map(delta -> DenseVector(0.5619867990203128), beta -> DenseVector(-0.13865192327808404, 0.09768482532165743, -0.1110750597878438, 0.37614075514617396), gamma -> DenseVector(0.32590325936754716, 0.15008069789480064, 0.05127167894737973, -0.40196636289840587, 0.15004688615406966, 0.05126495688003067, -0.4017221217750656))"
      ]
     },
     "execution_count": 32,
     "metadata": {},
     "output_type": "execute_result"
    }
   ],
   "source": [
    "val step = computeStep(pairFeatureDS, theta)\n",
    "theta = updateTheta(theta, step)\n",
    "println(s\"Updated theta: $theta_updated\")"
   ]
  },
  {
   "cell_type": "code",
   "execution_count": 95,
   "id": "d75d6ab3-cd51-41e6-a0e6-ed5b12d4e053",
   "metadata": {},
   "outputs": [
    {
     "name": "stdout",
     "output_type": "stream",
     "text": [
      "Iteration 0: diff = 1.9639061305544048\n",
      "Iteration 1: diff = 3.3423466854396637\n",
      "Iteration 2: diff = 0.44654409203274587\n",
      "Iteration 3: diff = 0.14060876054956517\n",
      "Iteration 4: diff = 0.03911302264068535\n",
      "Iteration 5: diff = 0.011702273233117457\n",
      "Iteration 6: diff = 0.0034896765488990457\n",
      "Iteration 7: diff = 0.0010550043125069457\n",
      "Iteration 8: diff = 3.184404990516072E-4\n"
     ]
    },
    {
     "data": {
      "text/plain": [
       "tol = 1.0E-4\n",
       "diff = 9.679347392356155E-5\n",
       "iteration = 10\n",
       "theta = Map(delta -> DenseVector(0.4407139218431786), beta -> DenseVector(0.9447480621142229, -0.3554965085241989, -0.2256921198870797, -1.5930217922594627), gamma -> DenseVector(-0.1728416454986385, -1.052860061081924, -1.422205878818063, -1.839956525554742, 1.3221326314862196, 1.426023655655939, 1.0283232733342655))\n",
       "sampledPairs = [left: struct<i: string, x: array<double> ... 3 more fields>, right: struct<i: string, x: array<double> ... 3 more fields>]\n",
       "pairedDataset = [Wt_i: array<double>, Wt_j: array<double> ... 6 more fields]\n"
      ]
     },
     "metadata": {},
     "output_type": "display_data",
     "source": "user"
    },
    {
     "name": "stdout",
     "output_type": "stream",
     "text": [
      "Iteration 9: diff = 9.679347392356155E-5\n"
     ]
    },
    {
     "data": {
      "text/plain": [
       "[Wt_i: array<double>, Wt_j: array<double> ... 6 more fields]"
      ]
     },
     "execution_count": 95,
     "metadata": {},
     "output_type": "execute_result"
    }
   ],
   "source": [
    "val tol = 1e-4\n",
    "var diff = 10.0\n",
    "var iteration = 0\n",
    "var theta: Map[String, DenseVector[Double]] = thetaInit\n",
    "val sampledPairs = sampleAllPairs(df)\n",
    "val pairedDataset = sampledPairs.map(toPairFeatures)\n",
    "\n",
    "while (diff > tol && iteration < 20) {\n",
    "  //val sampledPairs = sampleObsPairsFromRepartitioned(repartitioned, samplePerPartition = 500)\n",
    "  //val pairedDataset = sampledPairs.map(toPairFeatures)\n",
    "  val step = computeStep(pairedDataset, theta)\n",
    "  val theta_updated = updateTheta(theta, step)\n",
    "  diff = norm(step, 2) // L2 norm of the step\n",
    "  // println(s\"Computed step: $step\")\n",
    "  // println(s\"Updated theta: $theta_updated\")\n",
    "  println(s\"Iteration $iteration: diff = $diff\")\n",
    "  theta = theta_updated\n",
    "  iteration += 1\n",
    "}"
   ]
  },
  {
   "cell_type": "code",
   "execution_count": 24,
   "id": "97ad0b23-72ec-4a80-b628-cd1553852feb",
   "metadata": {},
   "outputs": [
    {
     "data": {
      "text/plain": [
       "theta = Map(delta -> DenseVector(0.5), beta -> DenseVector(0.0, 0.0, 0.0, 0.0), gamma -> DenseVector(0.0, 0.0, 0.0, 0.0, 0.0, 0.0, 0.0))\n",
       "d = 12\n",
       "BURDD = MapPartitionsRDD[3539] at mapPartitions at <console>:55\n",
       "BUsum = (DenseVector(1900.0, 0.0, 0.0, 0.0, 0.0, 0.0, 0.0, 0.0, 0.0, 0.0, 0.0, 0.0, 0.0, 118.75, 57.81135249334939, 59.765317135018435, 58.70424805411324, 0.0, 0.0, 0.0, 0.0, 0.0, 0.0, 0.0, 2.0727738293904063, 57.81135249334939, 32.86966917459252, 29.1444579566715, 28.567094696492642, 0.0, 0.0, 0.0, 0.0, 0.0, 0.0, 0.0, 0.4120854171027657, 59.765317135018435, 2...\n"
      ]
     },
     "metadata": {},
     "output_type": "display_data"
    },
    {
     "name": "stdout",
     "output_type": "stream",
     "text": [
      "Mean B: 1.0  0.0                   0.0010909335944160033  ... (12 total)\n",
      "0.0  0.0625                0.030427027628078626   ...\n",
      "0.0  0.030427027628078626  0.017299825881364483   ...\n",
      "0.0  0.031455430071062336  0.015339188398248157   ...\n",
      "0.0  0.030896972660059602  0.015035312998154022   ...\n",
      "0.0  0.0                   0.0                    ...\n",
      "0.0  0.0                   0.0                    ...\n",
      "0.0  0.0                   0.0                    ...\n",
      "0.0  0.0                   0.0                    ...\n",
      "0.0  0.0                   0.0                    ...\n",
      "0.0  0.0                   0.0                    ...\n",
      "0.0  0.0                   0.0                    ...\n",
      "Mean U: DenseVector(0.03, 0.0024342105263157896, 0.0014227572856000085, 9.293875752235241E-4, 0.0021970846715712988, 4.93421052631579E-4, 2.8734645485617015E-4, 2.661329751133956E-4, 1.1105092974345534E-4, 2.8734645485617015E-4, 2.661329751133956E-4, 1.1105092974345534E-4)\n"
     ]
    },
    {
     "data": {
      "text/plain": [
       "(DenseVector(1900.0, 0.0, 0.0, 0.0, 0.0, 0.0, 0.0, 0.0, 0.0, 0.0, 0.0, 0.0, 0.0, 118.75, 57.81135249334939, 59.765317135018435, 58.70424805411324, 0.0, 0.0, 0.0, 0.0, 0.0, 0.0, 0.0, 2.0727738293904063, 57.81135249334939, 32.86966917459252, 29.1444579566715, 28.567094696492642, 0.0, 0.0, 0.0, 0.0, 0.0, 0.0, 0.0, 0.4120854171027657, 59.765317135018435, 2..."
      ]
     },
     "execution_count": 24,
     "metadata": {},
     "output_type": "execute_result"
    }
   ],
   "source": [
    "// θ holds “delta”, “beta”, “gamma” as DenseVector’s\n",
    "var theta: Map[String, DenseVector[Double]] = thetaInit\n",
    "\n",
    "val d = theta(\"beta\").length + theta(\"gamma\").length + 1  // total params\n",
    "\n",
    "val BURDD: RDD[(DenseVector[Double], DenseVector[Double])] =\n",
    "  pairFeatureDS.rdd.mapPartitions { iter =>\n",
    "    iter.grouped(200).flatMap { batch =>\n",
    "      batch.map(p => computeBUforPair(p, theta))\n",
    "    }\n",
    "  }\n",
    "\n",
    "val BUsum = BURDD.aggregate(\n",
    "  (DenseVector.zeros[Double](d * d), DenseVector.zeros[Double](d), 0)\n",
    ")(\n",
    "  (acc, value) => {\n",
    "    val BAcc = acc._1\n",
    "    val UAcc = acc._2\n",
    "    val c = acc._3\n",
    "    val B = value._1\n",
    "    val U = value._2\n",
    "    (BAcc + B, UAcc + U, c + 1)\n",
    "  },\n",
    "  (acc1, acc2) => {\n",
    "    val B1 = acc1._1\n",
    "    val U1 = acc1._2\n",
    "    val c1 = acc1._3\n",
    "    val B2 = acc2._1\n",
    "    val U2 = acc2._2\n",
    "    val c2 = acc2._3\n",
    "    (B1 + B2, U1 + U2, c1 + c2)\n",
    "  }\n",
    ")\n",
    "\n",
    "val Btot = new DenseMatrix(d, d, BUsum._1.data) // d×d\n",
    "val Utot = BUsum._2 // d\n",
    "val countBU = BUsum._3\n",
    "\n",
    "val Bmean = Btot / countBU.toDouble\n",
    "val Umean = Utot / countBU.toDouble\n",
    "\n",
    "println(s\"Mean B: ${Bmean}\")\n",
    "println(s\"Mean U: ${Umean}\")"
   ]
  },
  {
   "cell_type": "code",
   "execution_count": null,
   "id": "3de107af-7fc5-4718-8eac-0feac176a57d",
   "metadata": {},
   "outputs": [],
   "source": []
  }
 ],
 "metadata": {
  "kernelspec": {
   "display_name": "apache_toree_scala - Scala",
   "language": "scala",
   "name": "apache_toree_scala_scala"
  },
  "language_info": {
   "codemirror_mode": "text/x-scala",
   "file_extension": ".scala",
   "mimetype": "text/x-scala",
   "name": "scala",
   "pygments_lexer": "scala",
   "version": "2.12.15"
  }
 },
 "nbformat": 4,
 "nbformat_minor": 5
}
