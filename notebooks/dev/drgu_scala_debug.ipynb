{
 "cells": [
  {
   "cell_type": "code",
   "execution_count": 1,
   "id": "47c449f0-702b-4141-9950-f4cc537925fa",
   "metadata": {},
   "outputs": [],
   "source": [
    "import org.apache.spark.sql.{Dataset, Encoder, Encoders,SparkSession}\n",
    "import org.apache.spark.sql.functions._\n",
    "import scala.util.Random\n",
    "import org.apache.spark.rdd.RDD\n",
    "// import scala.reflect.ClassTag"
   ]
  },
  {
   "cell_type": "code",
   "execution_count": 4,
   "id": "ca192acf-422b-490b-8f5d-792f97754ea5",
   "metadata": {},
   "outputs": [
    {
     "data": {
      "text/plain": [
       "spark = org.apache.spark.sql.SparkSession@2e87ab56\n"
      ]
     },
     "metadata": {},
     "output_type": "display_data",
     "source": "user"
    },
    {
     "data": {
      "text/plain": [
       "org.apache.spark.sql.SparkSession@2e87ab56"
      ]
     },
     "execution_count": 4,
     "metadata": {},
     "output_type": "execute_result"
    }
   ],
   "source": [
    "implicit val spark: SparkSession = SparkSession.builder()\n",
    "  .appName(\"DRGU Debugging\")\n",
    "  .master(\"local[*]\")\n",
    "  .getOrCreate()\n",
    "\n",
    "import spark.implicits._"
   ]
  },
  {
   "cell_type": "markdown",
   "id": "c722e3c5-ff9b-4fc7-a19b-8252a3e07ca5",
   "metadata": {},
   "source": [
    "## simulate small data"
   ]
  },
  {
   "cell_type": "code",
   "execution_count": 3,
   "id": "2766e7f1-7ddb-41c3-9a91-230b8f6874b9",
   "metadata": {},
   "outputs": [
    {
     "data": {
      "text/plain": [
       "defined class Obs\n",
       "defined class ObsPair\n"
      ]
     },
     "metadata": {},
     "output_type": "display_data"
    }
   ],
   "source": [
    "case class Obs(\n",
    "  i: String,                   // cluster ID\n",
    "  x: Array[Double],           // covariates\n",
    "  y: Double,                  // outcome\n",
    "  timeIndex: Option[Int] = None,      // optional time index\n",
    "  z: Option[Double] = None       // optional treatment indicator\n",
    ")\n",
    "\n",
    "case class ObsPair(left: Obs, right: Obs)"
   ]
  },
  {
   "cell_type": "code",
   "execution_count": 4,
   "id": "72a1259d",
   "metadata": {},
   "outputs": [
    {
     "name": "stdout",
     "output_type": "stream",
     "text": [
      "+---+---------------------------------------------------------------+-------------------+---------+-------------------+\n",
      "|i  |x                                                              |y                  |timeIndex|z                  |\n",
      "+---+---------------------------------------------------------------+-------------------+---------+-------------------+\n",
      "|c1 |[0.21117451386379826, 0.7337139693881689, 0.13668762864606376] |0.3935042601155878 |1        |0.91852898534016   |\n",
      "|c2 |[0.5551291598312791, 0.7765361928694281, 0.27366372362138724]  |0.884753148989808  |1        |0.06225156631387341|\n",
      "|c3 |[0.4409948958419089, 0.6634485942467294, 0.2879274360179592]   |0.20146890333974976|1        |0.9822233109903844 |\n",
      "|c4 |[0.5501508382113921, 0.6020954024318038, 0.07284599681938175]  |0.07301750449391564|1        |0.42330505560451925|\n",
      "|c5 |[0.893311039469886, 0.5841559004165905, 0.38774190907515693]   |0.14553253420089685|1        |0.8061781651296719 |\n",
      "|c6 |[0.2652286521155143, 0.029188125259458797, 0.21845892222178032]|0.4223080076185145 |1        |0.7455777139544757 |\n",
      "|c7 |[0.5903067596207754, 0.9862170007974569, 0.7824745022192268]   |0.9851781329252142 |1        |0.36573628678447456|\n",
      "|c8 |[0.04658424706849984, 0.7558465629195329, 0.4664350507372925]  |0.13527752328098452|1        |0.898594495805197  |\n",
      "|c9 |[0.11252973725637905, 0.20479478007403684, 0.6299408240017421] |0.6455018108568834 |1        |0.10974987417791604|\n",
      "|c10|[0.6161149687516754, 0.260918328936964, 0.3932638150543094]    |0.6373641990540976 |1        |0.9908243179537982 |\n",
      "+---+---------------------------------------------------------------+-------------------+---------+-------------------+\n",
      "\n"
     ]
    },
    {
     "data": {
      "text/plain": [
       "numClusters = 10\n",
       "numObsPerCluster = 1\n",
       "random = scala.util.Random@61ad06c6\n",
       "data = Vector(Obs(c1,[D@5a1e4103,0.3935042601155878,Some(1),Some(0.91852898534016)), Obs(c2,[D@3f5ac56f,0.884753148989808,Some(1),Some(0.06225156631387341)), Obs(c3,[D@36c87f74,0.20146890333974976,Some(1),Some(0.9822233109903844)), Obs(c4,[D@427eebe4,0.07301750449391564,Some(1),Some(0.42330505560451925)), Obs(c5,[D@6ac0bcf1,0.14553253420089685,Some(1),Some(0.8061781651296719)), Obs(c6,[D@3d87d7b,0.4223080076185145,Some(1),Some(0.7455777139544757)), Obs(c7,[D@761e91ab,0.9851781329252142,Some(1),Some(0.36573628678447456)), Obs(c8,[D@430a6547,0.13527752328098452,Some(1),Some(0.898594495805197)), Obs(c9,[D@2c426ee3,0.6455018108568834,Some(1),Some...\n"
      ]
     },
     "metadata": {},
     "output_type": "display_data"
    },
    {
     "data": {
      "text/plain": [
       "Vector(Obs(c1,[D@5a1e4103,0.3935042601155878,Some(1),Some(0.91852898534016)), Obs(c2,[D@3f5ac56f,0.884753148989808,Some(1),Some(0.06225156631387341)), Obs(c3,[D@36c87f74,0.20146890333974976,Some(1),Some(0.9822233109903844)), Obs(c4,[D@427eebe4,0.07301750449391564,Some(1),Some(0.42330505560451925)), Obs(c5,[D@6ac0bcf1,0.14553253420089685,Some(1),Some(0.8061781651296719)), Obs(c6,[D@3d87d7b,0.4223080076185145,Some(1),Some(0.7455777139544757)), Obs(c7,[D@761e91ab,0.9851781329252142,Some(1),Some(0.36573628678447456)), Obs(c8,[D@430a6547,0.13527752328098452,Some(1),Some(0.898594495805197)), Obs(c9,[D@2c426ee3,0.6455018108568834,Some(1),Some..."
      ]
     },
     "execution_count": 4,
     "metadata": {},
     "output_type": "execute_result"
    }
   ],
   "source": [
    "\n",
    "\n",
    "// Generate small synthetic data\n",
    "val numClusters = 10\n",
    "val numObsPerCluster = 1\n",
    "val random = new Random()\n",
    "\n",
    "val data = (1 to numClusters).flatMap { clusterId =>\n",
    "  (1 to numObsPerCluster).map { obsId =>\n",
    "    Obs(\n",
    "      i = s\"c$clusterId\",\n",
    "      x = Array.fill(3)(random.nextDouble()), // 3 covariates\n",
    "      y = random.nextDouble(),               // random outcome\n",
    "      timeIndex = Some(obsId),               // time index\n",
    "      z = Some(random.nextDouble())          // random treatment indicator\n",
    "    )\n",
    "  }\n",
    "}\n",
    "\n",
    "// Convert to Dataset\n",
    "val df: Dataset[Obs] = data.toDS()\n",
    "\n",
    "// Show the generated data\n",
    "df.show(false)"
   ]
  },
  {
   "cell_type": "markdown",
   "id": "9f2d5c7e",
   "metadata": {},
   "source": [
    "## test"
   ]
  },
  {
   "cell_type": "code",
   "execution_count": 5,
   "id": "d415d315",
   "metadata": {},
   "outputs": [
    {
     "data": {
      "text/plain": [
       "assignDeterministicPartition: (ds: org.apache.spark.sql.Dataset[Obs], idColumn: String, numPartitions: Int)(implicit spark: org.apache.spark.sql.SparkSession)org.apache.spark.sql.Dataset[(Obs, Int)]\n"
      ]
     },
     "metadata": {},
     "output_type": "display_data"
    }
   ],
   "source": [
    "def assignDeterministicPartition(\n",
    "    ds: Dataset[Obs],\n",
    "    idColumn: String = \"i\",  // cluster ID or any stable ID\n",
    "    numPartitions: Int\n",
    ")(implicit spark: SparkSession): Dataset[(Obs, Int)] = {\n",
    "  import spark.implicits._\n",
    "\n",
    "  val withBucket = ds.withColumn(\"bucket\", (xxhash64(col(idColumn)) % numPartitions).cast(\"int\"))\n",
    "  val repartitioned = withBucket.repartition($\"bucket\")\n",
    "  repartitioned.select(\n",
    "    struct($\"i\", $\"x\", $\"y\", $\"timeIndex\", $\"z\").as(\"obs\"),\n",
    "    $\"bucket\"\n",
    "  ).as[(Obs, Int)]\n",
    "}\n",
    "\n"
   ]
  },
  {
   "cell_type": "code",
   "execution_count": 6,
   "id": "57d9c257",
   "metadata": {},
   "outputs": [
    {
     "data": {
      "text/plain": [
       "sampleObsPairsFromRepartitioned: (partitioned: org.apache.spark.sql.Dataset[(Obs, Int)], samplePerPartition: Int, seed: Long)(implicit spark: org.apache.spark.sql.SparkSession)org.apache.spark.sql.Dataset[ObsPair]\n",
       "sampleObsPairsFromRepartitionedRow: (partitioned: org.apache.spark.sql.Dataset[(Obs, Int)], matchesPerRow: Int, seed: Long)(implicit spark: org.apache.spark.sql.SparkSession)org.apache.spark.sql.Dataset[ObsPair]\n"
      ]
     },
     "metadata": {},
     "output_type": "display_data"
    }
   ],
   "source": [
    "def sampleObsPairsFromRepartitioned(\n",
    "    partitioned: Dataset[(Obs, Int)],\n",
    "    samplePerPartition: Int,\n",
    "    seed: Long = System.currentTimeMillis()\n",
    ")(implicit spark: SparkSession): Dataset[ObsPair] = {\n",
    "  import spark.implicits._\n",
    "\n",
    "  partitioned\n",
    "    .groupByKey { case (_, bucket) => bucket }\n",
    "    .flatMapGroups { case (_, iter) =>\n",
    "      val rand = new scala.util.Random(seed)\n",
    "      val items = iter.map(_._1).toIndexedSeq\n",
    "      val n = items.length\n",
    "\n",
    "      if (n < 2) Iterator.empty\n",
    "      else {\n",
    "        val sampledPairs = Iterator.fill(samplePerPartition) {\n",
    "          var i = 0\n",
    "          var j = 0\n",
    "          do {\n",
    "            i = rand.nextInt(n)\n",
    "            j = rand.nextInt(n)\n",
    "          } while (i == j)\n",
    "\n",
    "          val (ii, jj) = if (i < j) (i, j) else (j, i)\n",
    "          ObsPair(items(ii), items(jj))\n",
    "        }\n",
    "        sampledPairs\n",
    "      }\n",
    "    }\n",
    "}\n",
    "\n",
    "def sampleObsPairsFromRepartitionedRow(\n",
    "    partitioned: Dataset[(Obs, Int)],\n",
    "    matchesPerRow: Int,\n",
    "    seed: Long = System.currentTimeMillis()\n",
    ")(implicit spark:SparkSession): Dataset[ObsPair] = {\n",
    "  import spark.implicits._\n",
    "\n",
    "  partitioned\n",
    "    .groupByKey { case (_, bucket) => bucket }\n",
    "    .flatMapGroups { case (_, iter) =>\n",
    "      val rand = new scala.util.Random(seed)\n",
    "      val items = iter.map(_._1).toIndexedSeq\n",
    "      val n = items.length\n",
    "\n",
    "      if (n < 2) Iterator.empty\n",
    "      else {\n",
    "        val sampledPairs  = (0 until n).flatMap { i =>\n",
    "          (0 until matchesPerRow).map { _ =>\n",
    "            var j = i\n",
    "            while (j == i) j = rand.nextInt(n)\n",
    "            ObsPair(items(i), items(j))\n",
    "          }\n",
    "        }\n",
    "        sampledPairs\n",
    "      }\n",
    "    }\n",
    "}"
   ]
  },
  {
   "cell_type": "code",
   "execution_count": 7,
   "id": "e1cd0465-839a-4375-96a4-e70d10b60401",
   "metadata": {},
   "outputs": [
    {
     "name": "stdout",
     "output_type": "stream",
     "text": [
      "+--------------------+--------------------+\n",
      "|                left|               right|\n",
      "+--------------------+--------------------+\n",
      "|{c2, [0.555129159...|{c4, [0.550150838...|\n",
      "|{c2, [0.555129159...|{c4, [0.550150838...|\n",
      "|{c2, [0.555129159...|{c4, [0.550150838...|\n",
      "|{c5, [0.893311039...|{c7, [0.590306759...|\n",
      "|{c5, [0.893311039...|{c6, [0.265228652...|\n",
      "|{c1, [0.211174513...|{c5, [0.893311039...|\n",
      "|{c8, [0.046584247...|{c9, [0.112529737...|\n",
      "|{c8, [0.046584247...|{c9, [0.112529737...|\n",
      "|{c8, [0.046584247...|{c9, [0.112529737...|\n",
      "+--------------------+--------------------+\n",
      "\n"
     ]
    },
    {
     "data": {
      "text/plain": [
       "repartitioned = [obs: struct<i: string, x: array<double> ... 3 more fields>, bucket: int]\n",
       "sampledPairs = [left: struct<i: string, x: array<double> ... 3 more fields>, right: struct<i: string, x: array<double> ... 3 more fields>]\n"
      ]
     },
     "metadata": {},
     "output_type": "display_data"
    },
    {
     "data": {
      "text/plain": [
       "[left: struct<i: string, x: array<double> ... 3 more fields>, right: struct<i: string, x: array<double> ... 3 more fields>]"
      ]
     },
     "execution_count": 7,
     "metadata": {},
     "output_type": "execute_result"
    }
   ],
   "source": [
    "val repartitioned = assignDeterministicPartition(df, idColumn = \"i\", numPartitions = 2).cache()\n",
    "repartitioned.count() // trigger caching\n",
    "\n",
    "val sampledPairs: Dataset[ObsPair] =\n",
    "  sampleObsPairsFromRepartitioned(repartitioned, samplePerPartition = 3)\n",
    "\n",
    "sampledPairs.show()\n"
   ]
  },
  {
   "cell_type": "code",
   "execution_count": 8,
   "id": "b32a9d22-3cef-4ab3-b4ad-498e7bff8bcd",
   "metadata": {},
   "outputs": [
    {
     "name": "stdout",
     "output_type": "stream",
     "text": [
      "+--------------------+--------------------+\n",
      "|                left|               right|\n",
      "+--------------------+--------------------+\n",
      "|{c2, [0.555129159...|{c4, [0.550150838...|\n",
      "|{c2, [0.555129159...|{c4, [0.550150838...|\n",
      "|{c2, [0.555129159...|{c4, [0.550150838...|\n",
      "|{c4, [0.550150838...|{c2, [0.555129159...|\n",
      "|{c4, [0.550150838...|{c2, [0.555129159...|\n",
      "|{c4, [0.550150838...|{c2, [0.555129159...|\n",
      "|{c1, [0.211174513...|{c5, [0.893311039...|\n",
      "|{c1, [0.211174513...|{c3, [0.440994895...|\n",
      "|{c1, [0.211174513...|{c3, [0.440994895...|\n",
      "|{c3, [0.440994895...|{c7, [0.590306759...|\n",
      "|{c3, [0.440994895...|{c7, [0.590306759...|\n",
      "|{c3, [0.440994895...|{c5, [0.893311039...|\n",
      "|{c5, [0.893311039...|{c1, [0.211174513...|\n",
      "|{c5, [0.893311039...|{c6, [0.265228652...|\n",
      "|{c5, [0.893311039...|{c3, [0.440994895...|\n",
      "|{c6, [0.265228652...|{c3, [0.440994895...|\n",
      "|{c6, [0.265228652...|{c7, [0.590306759...|\n",
      "|{c6, [0.265228652...|{c7, [0.590306759...|\n",
      "|{c7, [0.590306759...|{c1, [0.211174513...|\n",
      "|{c7, [0.590306759...|{c3, [0.440994895...|\n",
      "+--------------------+--------------------+\n",
      "only showing top 20 rows\n",
      "\n"
     ]
    },
    {
     "data": {
      "text/plain": [
       "sampledPairsRow = [left: struct<i: string, x: array<double> ... 3 more fields>, right: struct<i: string, x: array<double> ... 3 more fields>]\n"
      ]
     },
     "metadata": {},
     "output_type": "display_data"
    },
    {
     "data": {
      "text/plain": [
       "[left: struct<i: string, x: array<double> ... 3 more fields>, right: struct<i: string, x: array<double> ... 3 more fields>]"
      ]
     },
     "execution_count": 8,
     "metadata": {},
     "output_type": "execute_result"
    }
   ],
   "source": [
    "val sampledPairsRow: Dataset[ObsPair] =\n",
    "  sampleObsPairsFromRepartitionedRow(repartitioned, matchesPerRow = 3)\n",
    "\n",
    "sampledPairsRow.show()"
   ]
  },
  {
   "cell_type": "code",
   "execution_count": 9,
   "id": "f6e2fdac-b071-4f0a-9a4e-874355796ab5",
   "metadata": {},
   "outputs": [
    {
     "data": {
      "text/plain": [
       "[obs: struct<i: string, x: array<double> ... 3 more fields>, bucket: int]"
      ]
     },
     "execution_count": 9,
     "metadata": {},
     "output_type": "execute_result"
    }
   ],
   "source": [
    "repartitioned.unpersist()"
   ]
  },
  {
   "cell_type": "markdown",
   "id": "926f89ff-772b-4671-877e-309040c1b780",
   "metadata": {},
   "source": [
    "## Change data"
   ]
  },
  {
   "cell_type": "code",
   "execution_count": 10,
   "id": "6043533a-f44c-4925-9747-233f8f2605cf",
   "metadata": {},
   "outputs": [
    {
     "data": {
      "text/plain": [
       "defined class PairFeatures\n"
      ]
     },
     "metadata": {},
     "output_type": "display_data"
    }
   ],
   "source": [
    "import breeze.linalg._\n",
    "\n",
    "case class PairFeatures(\n",
    "  Wt_i: Array[Double],\n",
    "  Wt_j: Array[Double],\n",
    "  Xg_ij: Array[Double],\n",
    "  Xg_ji: Array[Double],\n",
    "  yi: Double,\n",
    "  yj: Double,\n",
    "  zi: Double,\n",
    "  zj: Double\n",
    ")"
   ]
  },
  {
   "cell_type": "code",
   "execution_count": 11,
   "id": "e13a9454-69d5-4efc-b1d4-21b0a63ff223",
   "metadata": {},
   "outputs": [
    {
     "data": {
      "text/plain": [
       "toPairFeatures: (pair: ObsPair)PairFeatures\n"
      ]
     },
     "metadata": {},
     "output_type": "display_data"
    }
   ],
   "source": [
    "def toPairFeatures(pair: ObsPair): PairFeatures = {\n",
    "  val Obs(_, x1, y1, _, Some(z1)) = pair.left\n",
    "  val Obs(_, x2, y2, _, Some(z2)) = pair.right\n",
    "\n",
    "  val Wt_i = Array(1.0) ++ x1\n",
    "  val Wt_j = Array(1.0) ++ x2\n",
    "  val Xg_ij = Array(1.0) ++ x1 ++ x2\n",
    "  val Xg_ji = Array(1.0) ++ x2 ++ x1\n",
    "\n",
    "  PairFeatures(Wt_i, Wt_j, Xg_ij, Xg_ji, y1, y2, z1, z2)\n",
    "}"
   ]
  },
  {
   "cell_type": "code",
   "execution_count": 12,
   "id": "fc040c0f-e6bf-4db7-8e9a-91c4587561a6",
   "metadata": {},
   "outputs": [
    {
     "data": {
      "text/plain": [
       "pairFeatureDS = [Wt_i: array<double>, Wt_j: array<double> ... 6 more fields]\n"
      ]
     },
     "metadata": {},
     "output_type": "display_data"
    },
    {
     "data": {
      "text/plain": [
       "[Wt_i: array<double>, Wt_j: array<double> ... 6 more fields]"
      ]
     },
     "execution_count": 12,
     "metadata": {},
     "output_type": "execute_result"
    }
   ],
   "source": [
    "val pairFeatureDS: Dataset[PairFeatures] = sampledPairs.map(toPairFeatures)"
   ]
  },
  {
   "cell_type": "code",
   "execution_count": 13,
   "id": "667e9609-6ecb-4c8f-8065-69bf2f6e7b94",
   "metadata": {},
   "outputs": [
    {
     "name": "stdout",
     "output_type": "stream",
     "text": [
      "+--------------------+--------------------+--------------------+--------------------+-------------------+-------------------+-------------------+-------------------+\n",
      "|                Wt_i|                Wt_j|               Xg_ij|               Xg_ji|                 yi|                 yj|                 zi|                 zj|\n",
      "+--------------------+--------------------+--------------------+--------------------+-------------------+-------------------+-------------------+-------------------+\n",
      "|[1.0, 0.555129159...|[1.0, 0.550150838...|[1.0, 0.555129159...|[1.0, 0.550150838...|  0.884753148989808|0.07301750449391564|0.06225156631387341|0.42330505560451925|\n",
      "|[1.0, 0.555129159...|[1.0, 0.550150838...|[1.0, 0.555129159...|[1.0, 0.550150838...|  0.884753148989808|0.07301750449391564|0.06225156631387341|0.42330505560451925|\n",
      "|[1.0, 0.555129159...|[1.0, 0.550150838...|[1.0, 0.555129159...|[1.0, 0.550150838...|  0.884753148989808|0.07301750449391564|0.06225156631387341|0.42330505560451925|\n",
      "|[1.0, 0.893311039...|[1.0, 0.590306759...|[1.0, 0.893311039...|[1.0, 0.590306759...|0.14553253420089685| 0.9851781329252142| 0.8061781651296719|0.36573628678447456|\n",
      "|[1.0, 0.893311039...|[1.0, 0.265228652...|[1.0, 0.893311039...|[1.0, 0.265228652...|0.14553253420089685| 0.4223080076185145| 0.8061781651296719| 0.7455777139544757|\n",
      "|[1.0, 0.211174513...|[1.0, 0.893311039...|[1.0, 0.211174513...|[1.0, 0.893311039...| 0.3935042601155878|0.14553253420089685|   0.91852898534016| 0.8061781651296719|\n",
      "|[1.0, 0.046584247...|[1.0, 0.112529737...|[1.0, 0.046584247...|[1.0, 0.112529737...|0.13527752328098452| 0.6455018108568834|  0.898594495805197|0.10974987417791604|\n",
      "|[1.0, 0.046584247...|[1.0, 0.112529737...|[1.0, 0.046584247...|[1.0, 0.112529737...|0.13527752328098452| 0.6455018108568834|  0.898594495805197|0.10974987417791604|\n",
      "|[1.0, 0.046584247...|[1.0, 0.112529737...|[1.0, 0.046584247...|[1.0, 0.112529737...|0.13527752328098452| 0.6455018108568834|  0.898594495805197|0.10974987417791604|\n",
      "+--------------------+--------------------+--------------------+--------------------+-------------------+-------------------+-------------------+-------------------+\n",
      "\n"
     ]
    }
   ],
   "source": [
    "pairFeatureDS.show()"
   ]
  },
  {
   "cell_type": "markdown",
   "id": "c6cbde58-a9ed-459c-9f5a-2de68065a127",
   "metadata": {},
   "source": [
    "## compute HF"
   ]
  },
  {
   "cell_type": "code",
   "execution_count": 14,
   "id": "b9fa3df8-df68-4941-b789-2d4941c7fc3c",
   "metadata": {},
   "outputs": [
    {
     "data": {
      "text/plain": [
       "safeSig: (x: Double)Double\n"
      ]
     },
     "metadata": {},
     "output_type": "display_data"
    }
   ],
   "source": [
    "def safeSig(x: Double): Double = {\n",
    "  val clipped = math.max(-10.0, math.min(10.0, x))\n",
    "  1.0 / (1.0 + math.exp(-clipped))\n",
    "}"
   ]
  },
  {
   "cell_type": "markdown",
   "id": "864d9892-4877-44d5-b0e1-0732d09f8871",
   "metadata": {},
   "source": [
    "### row wise"
   ]
  },
  {
   "cell_type": "code",
   "execution_count": 15,
   "id": "9baf0801-8813-4196-9f64-450b691842f2",
   "metadata": {},
   "outputs": [
    {
     "data": {
      "text/plain": [
       "computeHFforPair: (p: PairFeatures, theta: Map[String,breeze.linalg.DenseVector[Double]])(breeze.linalg.DenseVector[Double], breeze.linalg.DenseVector[Double])\n"
      ]
     },
     "metadata": {},
     "output_type": "display_data"
    }
   ],
   "source": [
    "def computeHFforPair(\n",
    "  p: PairFeatures,\n",
    "  theta: Map[String, DenseVector[Double]]\n",
    "): (DenseVector[Double], DenseVector[Double]) = {\n",
    "  val delta = theta(\"delta\")(0)\n",
    "  val beta  = theta(\"beta\")\n",
    "  val gamma = theta(\"gamma\")\n",
    "\n",
    "  val Wt_i = DenseVector(p.Wt_i)\n",
    "  val Wt_j = DenseVector(p.Wt_j)\n",
    "  val Xg_ij = DenseVector(p.Xg_ij)\n",
    "  val Xg_ji = DenseVector(p.Xg_ji)\n",
    "\n",
    "  val pi_i = safeSig(Wt_i dot beta)\n",
    "  val pi_j = safeSig(Wt_j dot beta)\n",
    "  val g_ij = safeSig(Xg_ij dot gamma)\n",
    "  val g_ji = safeSig(Xg_ji dot gamma)\n",
    "\n",
    "  val I_ij = if (p.yi >= p.yj) 1.0 else 0.0\n",
    "  val I_ji = 1.0 - I_ij\n",
    "\n",
    "  // h\n",
    "  val num1 = p.zi * (1 - p.zj) / (2 * pi_i * (1 - pi_j)) * (I_ij - g_ij)\n",
    "  val num2 = p.zj * (1 - p.zi) / (2 * pi_j * (1 - pi_i)) * (I_ji - g_ji)\n",
    "  val h1 = num1 + num2 + 0.5 * (g_ij + g_ji)\n",
    "  val h2 = 0.5 * (p.zi + p.zj)\n",
    "  val h3 = 0.5 * (p.zi * (1 - p.zj) * I_ij + p.zj * (1 - p.zi) * I_ji)\n",
    "  val h = DenseVector(h1, h2, h3)\n",
    "\n",
    "  // f\n",
    "  val f1 = delta\n",
    "  val f2 = 0.5 * (pi_i + pi_j)\n",
    "  val f3 = 0.5 * (pi_i * (1 - pi_j) * g_ij + pi_j * (1 - pi_i) * g_ji)\n",
    "  val f = DenseVector(f1, f2, f3)\n",
    "\n",
    "  (h, f)\n",
    "}"
   ]
  },
  {
   "cell_type": "code",
   "execution_count": 16,
   "id": "9be88fb4-6e6e-4eb2-b115-fee5962b7315",
   "metadata": {},
   "outputs": [
    {
     "data": {
      "text/plain": [
       "p = 3\n",
       "theta = Map(delta -> DenseVector(0.1), beta -> DenseVector(0.0, 0.0, 0.0, 0.0), gamma -> DenseVector(0.0, 0.0, 0.0, 0.0, 0.0, 0.0, 0.0))\n"
      ]
     },
     "metadata": {},
     "output_type": "display_data"
    },
    {
     "data": {
      "text/plain": [
       "Map(delta -> DenseVector(0.1), beta -> DenseVector(0.0, 0.0, 0.0, 0.0), gamma -> DenseVector(0.0, 0.0, 0.0, 0.0, 0.0, 0.0, 0.0))"
      ]
     },
     "execution_count": 16,
     "metadata": {},
     "output_type": "execute_result"
    }
   ],
   "source": [
    "val p = 3\n",
    "val theta = Map(\n",
    "  \"delta\" -> DenseVector(0.1),\n",
    "  \"beta\" -> DenseVector.zeros[Double](p + 1),   // where p is dim(x)\n",
    "  \"gamma\" -> DenseVector.zeros[Double](2 * p + 1)\n",
    ")"
   ]
  },
  {
   "cell_type": "code",
   "execution_count": 17,
   "id": "13459e0a-8132-4b36-8e8d-998300658503",
   "metadata": {},
   "outputs": [
    {
     "name": "stdout",
     "output_type": "stream",
     "text": [
      "Mean h: DenseVector(0.07351268421514602, 0.49611558095403585, 0.02969533926451304)\n",
      "Mean f: DenseVector(0.09999999999999999, 0.5, 0.125)\n"
     ]
    },
    {
     "data": {
      "text/plain": [
       "hfRDD = MapPartitionsRDD[60] at map at <console>:40\n",
       "vectorSize = 3\n",
       "hSum = DenseVector(0.6616141579363142, 4.465040228586322, 0.26725805338061737)\n",
       "fSum = DenseVector(0.8999999999999999, 4.5, 1.125)\n",
       "count = 9\n",
       "hMean = DenseVector(0.07351268421514602, 0.49611558095403585, 0.02969533926451304)\n",
       "fMean = DenseVector(0.09999999999999999, 0.5, 0.125)\n"
      ]
     },
     "metadata": {},
     "output_type": "display_data"
    },
    {
     "data": {
      "text/plain": [
       "DenseVector(0.09999999999999999, 0.5, 0.125)"
      ]
     },
     "execution_count": 17,
     "metadata": {},
     "output_type": "execute_result"
    }
   ],
   "source": [
    "val hfRDD:RDD[(DenseVector[Double], DenseVector[Double])] = pairFeatureDS.rdd.map(p => computeHFforPair(p, theta))\n",
    "\n",
    "// Specify the size of the DenseVector (e.g., 3 for h and f)\n",
    "val vectorSize = 3\n",
    "\n",
    "val (hSum, fSum, count) = hfRDD.aggregate(\n",
    "  (DenseVector.zeros[Double](vectorSize), DenseVector.zeros[Double](vectorSize), 0)\n",
    ")(\n",
    "  { case ((hAcc, fAcc, c), (h, f)) => (hAcc + h, fAcc + f, c + 1) },\n",
    "  { case ((h1, f1, c1), (h2, f2, c2)) => (h1 + h2, f1 + f2, c1 + c2) }\n",
    ")\n",
    "\n",
    "val hMean = hSum / count.toDouble\n",
    "val fMean = fSum / count.toDouble\n",
    "\n",
    "println(s\"Mean h: $hMean\")\n",
    "println(s\"Mean f: $fMean\")"
   ]
  },
  {
   "cell_type": "markdown",
   "id": "5ca16bd0-df06-4969-b56f-e1037fd23371",
   "metadata": {},
   "source": [
    "### batch wise"
   ]
  },
  {
   "cell_type": "code",
   "execution_count": 18,
   "id": "b9151d02-066d-4f7f-8f27-e7d3871d6987",
   "metadata": {},
   "outputs": [
    {
     "data": {
      "text/plain": [
       "safeSigmoid: (x: breeze.linalg.DenseVector[Double])breeze.linalg.DenseVector[Double] <and> (x: breeze.linalg.DenseMatrix[Double])breeze.linalg.DenseMatrix[Double]\n",
       "safeSigmoid: (x: breeze.linalg.DenseVector[Double])breeze.linalg.DenseVector[Double] <and> (x: breeze.linalg.DenseMatrix[Double])breeze.linalg.DenseMatrix[Double]\n"
      ]
     },
     "metadata": {},
     "output_type": "display_data"
    }
   ],
   "source": [
    "def safeSigmoid(x: DenseVector[Double]): DenseVector[Double] = \n",
    "  x.map(v => 1.0 / (1.0 + math.exp(-math.max(-10.0, math.min(10.0, v)))))\n",
    "\n",
    "def safeSigmoid(x: DenseMatrix[Double]): DenseMatrix[Double] =\n",
    "  x.map(v => 1.0 / (1.0 + math.exp(-math.max(-10.0, math.min(10.0, v)))))"
   ]
  },
  {
   "cell_type": "code",
   "execution_count": 19,
   "id": "67b0d83b-7de9-4b4c-b4f5-245bdaf5d376",
   "metadata": {},
   "outputs": [
    {
     "data": {
      "text/plain": [
       "computeHFMatrixBatch: (batch: Seq[PairFeatures], theta: Map[String,breeze.linalg.DenseVector[Double]])(Seq[breeze.linalg.DenseVector[Double]], Seq[breeze.linalg.DenseVector[Double]])\n"
      ]
     },
     "metadata": {},
     "output_type": "display_data"
    }
   ],
   "source": [
    "def computeHFMatrixBatch(\n",
    "  batch: Seq[PairFeatures],\n",
    "  theta: Map[String, DenseVector[Double]]\n",
    "): (Seq[DenseVector[Double]], Seq[DenseVector[Double]]) = {\n",
    "\n",
    "  val n = batch.size\n",
    "  val p = theta(\"beta\").length\n",
    "  val d = theta(\"gamma\").length\n",
    "\n",
    "  val delta = theta(\"delta\")(0)\n",
    "  val beta  = theta(\"beta\")\n",
    "  val gamma = theta(\"gamma\")\n",
    "\n",
    "  // Convert to matrix form\n",
    "  val Wt_i   = DenseMatrix(batch.map(_.Wt_i): _*)         // n x p\n",
    "  val Wt_j   = DenseMatrix(batch.map(_.Wt_j): _*)         // n x p\n",
    "  val Xg_ij  = DenseMatrix(batch.map(_.Xg_ij): _*)        // n x d\n",
    "  val Xg_ji  = DenseMatrix(batch.map(_.Xg_ji): _*)        // n x d\n",
    "\n",
    "  val zi     = DenseVector(batch.map(_.zi).toArray)\n",
    "  val zj     = DenseVector(batch.map(_.zj).toArray)\n",
    "  val yi     = DenseVector(batch.map(_.yi).toArray)\n",
    "  val yj     = DenseVector(batch.map(_.yj).toArray)\n",
    "\n",
    "  // Predictions\n",
    "  val pi_i = safeSigmoid(Wt_i * beta)\n",
    "  val pi_j = safeSigmoid(Wt_j * beta)\n",
    "  val g_ij = safeSigmoid(Xg_ij * gamma)\n",
    "  val g_ji = safeSigmoid(Xg_ji * gamma)\n",
    "\n",
    "  val I_ij = (yi <:< yj).map(v => if (v) 0.0 else 1.0) // Use map for element-wise comparison\n",
    "  val I_ji = 1.0 - I_ij\n",
    "\n",
    "  // Compute h\n",
    "  val h1 = ((zi *:* (1.0 - zj)) *:* (1.0/(2.0 * (pi_i *:* (1.0 - pi_j))))) *:* (I_ij - g_ij) +\n",
    "           ((zj *:* (1.0 - zi)) *:* (1.0/(2.0 * (pi_j *:* (1.0 - pi_i))))) *:* (I_ji - g_ji) +\n",
    "           0.5 * (g_ij + g_ji)\n",
    "\n",
    "  val h2 = 0.5 * (zi + zj)\n",
    "  val h3 = 0.5 * (zi *:* (1.0 - zj) *:* I_ij + zj *:* (1.0 - zi) *:* I_ji)\n",
    "\n",
    "  val hList = (0 until n).map(i => DenseVector(h1(i), h2(i), h3(i)))\n",
    "\n",
    "  // Compute f\n",
    "  val f1 = DenseVector.fill(n)(delta)\n",
    "  val f2 = 0.5 * (pi_i + pi_j)\n",
    "  val f3 = 0.5 * (pi_i *:* (1.0- pi_j) *:* g_ij + pi_j *:* (1.0 - pi_i) *:* g_ji)\n",
    "\n",
    "  val fList = (0 until n).map(i => DenseVector(f1(i), f2(i), f3(i)))\n",
    "\n",
    "  (hList, fList)\n",
    "}"
   ]
  },
  {
   "cell_type": "code",
   "execution_count": 20,
   "id": "854cf384-67e9-4361-a5e1-fcf97542e813",
   "metadata": {},
   "outputs": [
    {
     "data": {
      "text/plain": [
       "hfRDD = MapPartitionsRDD[61] at mapPartitions at <console>:40\n"
      ]
     },
     "metadata": {},
     "output_type": "display_data"
    },
    {
     "data": {
      "text/plain": [
       "MapPartitionsRDD[61] at mapPartitions at <console>:40"
      ]
     },
     "execution_count": 20,
     "metadata": {},
     "output_type": "execute_result"
    }
   ],
   "source": [
    "val hfRDD: RDD[(DenseVector[Double], DenseVector[Double])] =\n",
    "  pairFeatureDS.rdd.mapPartitions { iter =>\n",
    "    iter.grouped(200).flatMap { batch =>\n",
    "      val (hList, fList) = computeHFMatrixBatch(batch, theta)\n",
    "      hList.zip(fList) // Explicitly zip the two sequences\n",
    "    }\n",
    "  }"
   ]
  },
  {
   "cell_type": "code",
   "execution_count": 21,
   "id": "e46aad10-9d5d-43ab-b9a3-efe2fbf3524f",
   "metadata": {},
   "outputs": [
    {
     "name": "stdout",
     "output_type": "stream",
     "text": [
      "First h: DenseVector(0.13894651070935415, 0.24277831095919633, 0.017950081786955403)\n",
      "First f: DenseVector(0.1, 0.5, 0.125)\n"
     ]
    },
    {
     "data": {
      "text/plain": [
       "firstElement = Some((DenseVector(0.13894651070935415, 0.24277831095919633, 0.017950081786955403),DenseVector(0.1, 0.5, 0.125)))\n"
      ]
     },
     "metadata": {},
     "output_type": "display_data"
    },
    {
     "data": {
      "text/plain": [
       "Some((DenseVector(0.13894651070935415, 0.24277831095919633, 0.017950081786955403),DenseVector(0.1, 0.5, 0.125)))"
      ]
     },
     "execution_count": 21,
     "metadata": {},
     "output_type": "execute_result"
    }
   ],
   "source": [
    "val firstElement = hfRDD.take(1).headOption\n",
    "\n",
    "firstElement match {\n",
    "  case Some((h, f)) =>\n",
    "    println(s\"First h: $h\")\n",
    "    println(s\"First f: $f\")\n",
    "  case None =>\n",
    "    println(\"hfRDD is empty.\")\n",
    "}"
   ]
  },
  {
   "cell_type": "code",
   "execution_count": 22,
   "id": "0a3f33b9-e705-4023-9f63-e32e4dd0f26b",
   "metadata": {},
   "outputs": [
    {
     "name": "stdout",
     "output_type": "stream",
     "text": [
      "Mean h: DenseVector(0.07351268421514602, 0.49611558095403585, 0.02969533926451304)\n",
      "Mean f: DenseVector(0.09999999999999999, 0.5, 0.125)\n"
     ]
    },
    {
     "data": {
      "text/plain": [
       "vectorSize = 3\n",
       "hSum = DenseVector(0.6616141579363142, 4.465040228586322, 0.26725805338061737)\n",
       "fSum = DenseVector(0.8999999999999999, 4.5, 1.125)\n",
       "count = 9\n",
       "hMean = DenseVector(0.07351268421514602, 0.49611558095403585, 0.02969533926451304)\n",
       "fMean = DenseVector(0.09999999999999999, 0.5, 0.125)\n"
      ]
     },
     "metadata": {},
     "output_type": "display_data"
    },
    {
     "data": {
      "text/plain": [
       "DenseVector(0.09999999999999999, 0.5, 0.125)"
      ]
     },
     "execution_count": 22,
     "metadata": {},
     "output_type": "execute_result"
    }
   ],
   "source": [
    "// Specify the size of the DenseVector (e.g., 3 for h and f)\n",
    "val vectorSize = 3\n",
    "\n",
    "val (hSum, fSum, count) = hfRDD.aggregate(\n",
    "  (DenseVector.zeros[Double](vectorSize), DenseVector.zeros[Double](vectorSize), 0)\n",
    ")(\n",
    "  { case ((hAcc, fAcc, c), (h, f)) => (hAcc + h, fAcc + f, c + 1) },\n",
    "  { case ((h1, f1, c1), (h2, f2, c2)) => (h1 + h2, f1 + f2, c1 + c2) }\n",
    ")\n",
    "\n",
    "val hMean = hSum / count.toDouble\n",
    "val fMean = fSum / count.toDouble\n",
    "\n",
    "println(s\"Mean h: $hMean\")\n",
    "println(s\"Mean f: $fMean\")"
   ]
  },
  {
   "cell_type": "markdown",
   "id": "f9267fca-cdff-430b-839b-aebf2c4649ce",
   "metadata": {},
   "source": [
    "## Compute $\\partial h$ and $\\partial f$"
   ]
  },
  {
   "cell_type": "markdown",
   "id": "bbb253c4-54d7-4120-8fb6-a069efee0834",
   "metadata": {},
   "source": [
    "### row wise"
   ]
  },
  {
   "cell_type": "code",
   "execution_count": 23,
   "id": "97012bbc-abe4-4f2f-8c9c-02851191e06b",
   "metadata": {},
   "outputs": [
    {
     "data": {
      "text/plain": [
       "computeHFDFforPair: (p: PairFeatures, theta: Map[String,breeze.linalg.DenseVector[Double]])(breeze.linalg.DenseVector[Double], breeze.linalg.DenseVector[Double], breeze.linalg.DenseVector[Double])\n"
      ]
     },
     "metadata": {},
     "output_type": "display_data"
    }
   ],
   "source": [
    "\n",
    "\n",
    "def computeHFDFforPair(\n",
    "  p: PairFeatures,\n",
    "  theta: Map[String, DenseVector[Double]]\n",
    "): (DenseVector[Double], DenseVector[Double], DenseVector[Double]) = {\n",
    "  val delta = theta(\"delta\")(0)\n",
    "  val beta  = theta(\"beta\")\n",
    "  val gamma = theta(\"gamma\")\n",
    "\n",
    "  val Wt_i = DenseVector(p.Wt_i)\n",
    "  val Wt_j = DenseVector(p.Wt_j)\n",
    "  val Xg_ij = DenseVector(p.Xg_ij)\n",
    "  val Xg_ji = DenseVector(p.Xg_ji)\n",
    "\n",
    "  val pi_i = safeSig(Wt_i dot beta)\n",
    "  val pi_j = safeSig(Wt_j dot beta)\n",
    "  val g_ij = safeSig(Xg_ij dot gamma)\n",
    "  val g_ji = safeSig(Xg_ji dot gamma)\n",
    "\n",
    "  val I_ij = if (p.yi >= p.yj) 1.0 else 0.0\n",
    "  val I_ji = 1.0 - I_ij\n",
    "\n",
    "  // h\n",
    "  val num1 = p.zi * (1 - p.zj) / (2 * pi_i * (1 - pi_j)) * (I_ij - g_ij)\n",
    "  val num2 = p.zj * (1 - p.zi) / (2 * pi_j * (1 - pi_i)) * (I_ji - g_ji)\n",
    "  val h1 = num1 + num2 + 0.5 * (g_ij + g_ji)\n",
    "  val h2 = 0.5 * (p.zi + p.zj)\n",
    "  val h3 = 0.5 * (p.zi * (1 - p.zj) * I_ij + p.zj * (1 - p.zi) * I_ji)\n",
    "  val h = DenseVector(h1, h2, h3)\n",
    "\n",
    "  // f\n",
    "  val f1 = delta\n",
    "  val f2 = 0.5 * (pi_i + pi_j)\n",
    "  val f3 = 0.5 * (pi_i * (1 - pi_j) * g_ij + pi_j * (1 - pi_i) * g_ji)\n",
    "  val f = DenseVector(f1, f2, f3)\n",
    "\n",
    "\n",
    "  // gradient of f1\n",
    "  val df1Delta = 1.0\n",
    "\n",
    "  // gradient of f2 w.r.t. beta\n",
    "  val dPiI = pi_i * (1 - pi_i) * Wt_i\n",
    "  val dPiJ = pi_j * (1 - pi_j) * Wt_j\n",
    "  val df2Beta = 0.5 * (dPiI + dPiJ)\n",
    "\n",
    "  // gradient of f3\n",
    "  val df3Beta =\n",
    "    0.5 * (\n",
    "      ((1 - pi_j) * pi_i * (1 - pi_i) * Wt_i - pi_i * pi_j * (1 - pi_j) * Wt_j)  * g_ij +\n",
    "      ((1 - pi_i) * pi_j * (1 - pi_j) * Wt_j - pi_j * pi_i * (1 - pi_i) * Wt_i)  * g_ji\n",
    "    )\n",
    "\n",
    "  val df3Gamma =\n",
    "    0.5 * (\n",
    "      pi_i * (1 - pi_j) * g_ij * (1 - g_ij) * Xg_ij +\n",
    "      pi_j * (1 - pi_i) * g_ji * (1 - g_ji) * Xg_ji\n",
    "    )\n",
    "\n",
    "  // final gradient\n",
    "  val pb = beta.length\n",
    "  val qg = gamma.length\n",
    "  val df = DenseMatrix.vertcat(\n",
    "    DenseVector(1.0 +: Array.fill(pb + qg)(0.0): _*).toDenseMatrix,\n",
    "    DenseVector.vertcat(DenseVector(0.0), df2Beta, DenseVector.zeros[Double](qg)).toDenseMatrix,\n",
    "    DenseVector.vertcat(DenseVector(0.0), df3Beta, df3Gamma).toDenseMatrix\n",
    "  )\n",
    "\n",
    "  (h, f, df.toDenseVector)\n",
    "}"
   ]
  },
  {
   "cell_type": "code",
   "execution_count": 24,
   "id": "5411f521-fa4a-43c4-80ac-a6ab7ff0bfd9",
   "metadata": {},
   "outputs": [
    {
     "name": "stdout",
     "output_type": "stream",
     "text": [
      "Mean h: DenseVector(0.07351268421514602, 0.49611558095403585, 0.02969533926451304)\n",
      "Mean f: DenseVector(0.09999999999999999, 0.5, 0.125)\n",
      "Mean df: DenseVector(1.0, 0.0, 0.0, 0.0, 0.25, 0.0, 0.0, 0.10471979154322772, 0.0, 0.0, 0.14610285571637865, 0.0, 0.0, 0.09207643841461047, 0.0, 0.0, 0.0, 0.0625, 0.0, 0.0, 0.02617994788580693, 0.0, 0.0, 0.036525713929094664, 0.0, 0.0, 0.023019109603652617, 0.0, 0.0, 0.02617994788580693, 0.0, 0.0, 0.036525713929094664, 0.0, 0.0, 0.023019109603652617)\n"
     ]
    },
    {
     "data": {
      "text/plain": [
       "hfDfRDD = MapPartitionsRDD[62] at mapPartitions at <console>:43\n",
       "thetaLength = 12\n",
       "vectorSize = 3\n",
       "hSumDf = DenseVector(0.6616141579363142, 4.465040228586322, 0.26725805338061737)\n",
       "fSumDf = DenseVector(0.8999999999999999, 4.5, 1.125)\n",
       "dfSum = DenseVector(9.0, 0.0, 0.0, 0.0, 2.25, 0.0, 0.0, 0.9424781238890495, 0.0, 0.0, 1.3149257014474078, 0.0, 0.0, 0.8286879457314942, 0.0, 0.0, 0.0, 0.5625, 0.0, 0.0, 0.23561953097226238, 0.0, 0.0, 0.32873142536185196, 0.0, 0.0, 0.20717198643287354, 0.0, 0.0, 0.23561953097226238, 0.0, 0.0, 0.32873142536185196, 0.0, ...\n"
      ]
     },
     "metadata": {},
     "output_type": "display_data"
    },
    {
     "data": {
      "text/plain": [
       "DenseVector(9.0, 0.0, 0.0, 0.0, 2.25, 0.0, 0.0, 0.9424781238890495, 0.0, 0.0, 1.3149257014474078, 0.0, 0.0, 0.8286879457314942, 0.0, 0.0, 0.0, 0.5625, 0.0, 0.0, 0.23561953097226238, 0.0, 0.0, 0.32873142536185196, 0.0, 0.0, 0.20717198643287354, 0.0, 0.0, 0.23561953097226238, 0.0, 0.0, 0.32873142536185196, 0.0, ..."
      ]
     },
     "execution_count": 24,
     "metadata": {},
     "output_type": "execute_result"
    }
   ],
   "source": [
    "val hfDfRDD: RDD[(DenseVector[Double], DenseVector[Double], DenseVector[Double])] =\n",
    "  pairFeatureDS.rdd.mapPartitions { iter =>\n",
    "    iter.grouped(200).flatMap { batch =>\n",
    "      batch.map(p => computeHFDFforPair(p, theta))\n",
    "    }\n",
    "  }\n",
    "\n",
    "val thetaLength = theta(\"beta\").length + theta(\"gamma\").length + 1 // +1 for delta\n",
    "val vectorSize = 3 // Size of h and f vectors\n",
    "\n",
    "val (hSumDf, fSumDf, dfSum, countDf) = hfDfRDD.aggregate(\n",
    "  (DenseVector.zeros[Double](vectorSize), DenseVector.zeros[Double](vectorSize), DenseVector.zeros[Double](vectorSize*thetaLength), 0)\n",
    ")(\n",
    "  { case ((hAcc, fAcc, dfAcc, c), (h, f, df)) => (hAcc + h, fAcc + f, dfAcc + df, c + 1) },\n",
    "  { case ((h1, f1, df1, c1), (h2, f2, df2, c2)) => (h1 + h2, f1 + f2, df1 + df2, c1 + c2) }\n",
    ")\n",
    "\n",
    "val hMeanDf = hSumDf / countDf.toDouble\n",
    "val fMeanDf = fSumDf / countDf.toDouble\n",
    "val dfMeanDf = dfSum / countDf.toDouble\n",
    "\n",
    "println(s\"Mean h: $hMeanDf\")\n",
    "println(s\"Mean f: $fMeanDf\")\n",
    "println(s\"Mean df: $dfMeanDf\")\n"
   ]
  },
  {
   "cell_type": "code",
   "execution_count": 25,
   "id": "20ef0cb1-25ce-4c61-892e-344d3476b8d4",
   "metadata": {},
   "outputs": [
    {
     "data": {
      "text/plain": [
       "computeHFDFDHforPair: (p: PairFeatures, theta: Map[String,breeze.linalg.DenseVector[Double]])(breeze.linalg.DenseVector[Double], breeze.linalg.DenseVector[Double], breeze.linalg.DenseVector[Double], breeze.linalg.DenseVector[Double])\n"
      ]
     },
     "metadata": {},
     "output_type": "display_data"
    }
   ],
   "source": [
    "def computeHFDFDHforPair(\n",
    "  p: PairFeatures,\n",
    "  theta: Map[String, DenseVector[Double]]\n",
    "): (DenseVector[Double], DenseVector[Double], DenseVector[Double], DenseVector[Double]) = {\n",
    "  val delta = theta(\"delta\")(0)\n",
    "  val beta  = theta(\"beta\")\n",
    "  val gamma = theta(\"gamma\")\n",
    "\n",
    "  val Wt_i  = DenseVector(p.Wt_i)\n",
    "  val Wt_j  = DenseVector(p.Wt_j)\n",
    "  val Xg_ij = DenseVector(p.Xg_ij)\n",
    "  val Xg_ji = DenseVector(p.Xg_ji)\n",
    "\n",
    "  // ---- sigmoid preds ----\n",
    "  val pi_i = safeSig(Wt_i dot beta)\n",
    "  val pi_j = safeSig(Wt_j dot beta)\n",
    "  val g_ij = safeSig(Xg_ij dot gamma)\n",
    "  val g_ji = safeSig(Xg_ji dot gamma)\n",
    "\n",
    "  val I_ij = if (p.yi >= p.yj) 1.0 else 0.0\n",
    "  val I_ji = 1.0 - I_ij\n",
    "\n",
    "  // ---- compute h ----\n",
    "  val A    = p.zi * (1 - p.zj) / (2 * pi_i * (1 - pi_j))\n",
    "  val B    = p.zj * (1 - p.zi) / (2 * pi_j * (1 - pi_i))\n",
    "  val num1 = A * (I_ij - g_ij)\n",
    "  val num2 = B * (I_ji - g_ji)\n",
    "  val h1   = num1 + num2 + 0.5 * (g_ij + g_ji)\n",
    "  val h2   = 0.5 * (p.zi + p.zj)\n",
    "  val h3   = 0.5 * (p.zi * (1 - p.zj) * I_ij + p.zj * (1 - p.zi) * I_ji)\n",
    "  val h    = DenseVector(h1, h2, h3)\n",
    "\n",
    "  // ---- compute f ----\n",
    "  val f1 = delta\n",
    "  val f2 = 0.5 * (pi_i + pi_j)\n",
    "  val f3 = 0.5 * (pi_i * (1 - pi_j) * g_ij + pi_j * (1 - pi_i) * g_ji)\n",
    "  val f  = DenseVector(f1, f2, f3)\n",
    "\n",
    "  // ---- gradient df ----\n",
    "  // df1\n",
    "  val df1Delta = 1.0\n",
    "\n",
    "  // df2\n",
    "  val dPiI    = pi_i * (1 - pi_i) * Wt_i\n",
    "  val dPiJ    = pi_j * (1 - pi_j) * Wt_j\n",
    "  val df2Beta = 0.5 * (dPiI + dPiJ)\n",
    "\n",
    "  // df3\n",
    "  val df3Beta = 0.5 * (\n",
    "    ((1 - pi_j)*pi_i*(1 - pi_i)*Wt_i - pi_i*pi_j*(1 - pi_j)*Wt_j)*g_ij +\n",
    "    ((1 - pi_i)*pi_j*(1 - pi_j)*Wt_j - pi_j*pi_i*(1 - pi_i)*Wt_i)*g_ji\n",
    "  )\n",
    "  val df3Gamma = 0.5 * (\n",
    "    pi_i*(1 - pi_j)*g_ij*(1 - g_ij)*Xg_ij +\n",
    "    pi_j*(1 - pi_i)*g_ji*(1 - g_ji)*Xg_ji\n",
    "  )\n",
    "\n",
    "  val pb = beta.length\n",
    "  val qg = gamma.length\n",
    "  val df = DenseMatrix.vertcat(\n",
    "    DenseVector(1.0 +: Array.fill(pb + qg)(0.0): _*).toDenseMatrix,\n",
    "    DenseVector.vertcat(DenseVector(0.0), df2Beta, DenseVector.zeros[Double](qg)).toDenseMatrix,\n",
    "    DenseVector.vertcat(DenseVector(0.0), df3Beta, df3Gamma).toDenseMatrix\n",
    "  )\n",
    "\n",
    "  // ---- gradient dh ----\n",
    "  // dh1 / dβ\n",
    "  val dh1Beta = - (I_ij - g_ij)*A*((1.0 - pi_i)*Wt_i - pi_j*Wt_j) -\n",
    "                 (I_ji - g_ji)*B*((1.0 - pi_j)*Wt_j - pi_i*Wt_i)\n",
    "  // dh1 / dγ\n",
    "  val dh1Gamma = -A*(I_ij - g_ij)*g_ij*(1 - g_ij)*Xg_ij -\n",
    "                  B*(I_ji - g_ji)*g_ji*(1 - g_ji)*Xg_ji +\n",
    "                  0.5*(g_ij*(1 - g_ij)*Xg_ij + g_ji*(1 - g_ji)*Xg_ji)\n",
    "  // dh2, dh3 are zero\n",
    "  val dh2Beta  = DenseVector.zeros[Double](pb)\n",
    "  val dh2Gamma = DenseVector.zeros[Double](qg)\n",
    "  val dh3Beta  = DenseVector.zeros[Double](pb)\n",
    "  val dh3Gamma = DenseVector.zeros[Double](qg)\n",
    "\n",
    "  // assemble dh matrix\n",
    "  val dh = DenseMatrix.vertcat(\n",
    "    DenseVector.vertcat(DenseVector(0.0), dh1Beta, dh1Gamma).toDenseMatrix,\n",
    "    DenseVector.vertcat(DenseVector(0.0), dh2Beta, dh2Gamma).toDenseMatrix,\n",
    "    DenseVector.vertcat(DenseVector(0.0), dh3Beta, dh3Gamma).toDenseMatrix\n",
    "  )\n",
    "\n",
    "  // return (h, f, df, dh)\n",
    "  (h, f, df.toDenseVector, dh.toDenseVector)\n",
    "}"
   ]
  },
  {
   "cell_type": "code",
   "execution_count": 26,
   "id": "e2568366",
   "metadata": {},
   "outputs": [
    {
     "name": "stdout",
     "output_type": "stream",
     "text": [
      "Mean h: DenseVector(0.07351268421514602, 0.49611558095403585, 0.02969533926451304)\n",
      "Mean f: DenseVector(0.09999999999999999, 0.5, 0.125)\n",
      "Mean df: DenseVector(1.0, 0.0, 0.0, 0.0, 0.25, 0.0, 0.0, 0.10471979154322772, 0.0, 0.0, 0.14610285571637865, 0.0, 0.0, 0.09207643841461047, 0.0, 0.0, 0.0, 0.0625, 0.0, 0.0, 0.02617994788580693, 0.0, 0.0, 0.036525713929094664, 0.0, 0.0, 0.023019109603652617, 0.0, 0.0, 0.02617994788580693, 0.0, 0.0, 0.036525713929094664, 0.0, 0.0, 0.023019109603652617)\n",
      "Mean dh: DenseVector(0.0, 0.0, 0.0, 0.0, 0.0, 0.0, 0.02196209092548669, 0.0, 0.0, 0.05765826238362978, 0.0, 0.0, -0.04267139663254082, 0.0, 0.0, 0.35662182894621347, 0.0, 0.0, 0.14039517278092065, 0.0, 0.0, 0.22089843059257508, 0.0, 0.0, 0.12950809670868135, 0.0, 0.0, 0.12941412731817734, 0.0, 0.0, 0.19206929940076023, 0.0, 0.0, 0.15084379502495174, 0.0, 0.0)\n"
     ]
    },
    {
     "data": {
      "text/plain": [
       "hfDfDhRDD = MapPartitionsRDD[63] at mapPartitions at <console>:51\n",
       "hSumDf = DenseVector(0.6616141579363142, 4.465040228586322, 0.26725805338061737)\n",
       "fSumDf = DenseVector(0.8999999999999999, 4.5, 1.125)\n",
       "dfSum = DenseVector(9.0, 0.0, 0.0, 0.0, 2.25, 0.0, 0.0, 0.9424781238890495, 0.0, 0.0, 1.3149257014474078, 0.0, 0.0, 0.8286879457314942, 0.0, 0.0, 0.0, 0.5625, 0.0, 0.0, 0.23561953097226238, 0.0, 0.0, 0.32873142536185196, 0.0, 0.0, 0.20717198643287354, 0.0, 0.0, 0.23561953097226238, 0.0, 0.0, 0.32873142536185196, 0.0, 0.0, ...\n"
      ]
     },
     "metadata": {},
     "output_type": "display_data"
    },
    {
     "data": {
      "text/plain": [
       "DenseVector(9.0, 0.0, 0.0, 0.0, 2.25, 0.0, 0.0, 0.9424781238890495, 0.0, 0.0, 1.3149257014474078, 0.0, 0.0, 0.8286879457314942, 0.0, 0.0, 0.0, 0.5625, 0.0, 0.0, 0.23561953097226238, 0.0, 0.0, 0.32873142536185196, 0.0, 0.0, 0.20717198643287354, 0.0, 0.0, 0.23561953097226238, 0.0, 0.0, 0.32873142536185196, 0.0, 0.0, ..."
      ]
     },
     "execution_count": 26,
     "metadata": {},
     "output_type": "execute_result"
    }
   ],
   "source": [
    "val hfDfDhRDD: RDD[(DenseVector[Double], DenseVector[Double], DenseVector[Double], DenseVector[Double])] =\n",
    "  pairFeatureDS.rdd.mapPartitions { iter =>\n",
    "    iter.grouped(200).flatMap { batch =>\n",
    "      batch.map(p => computeHFDFDHforPair(p, theta))\n",
    "    }\n",
    "  }\n",
    "\n",
    "val (hSumDf, fSumDf, dfSum, dhSum, countDf) = hfDfDhRDD.aggregate(\n",
    "  (DenseVector.zeros[Double](vectorSize), DenseVector.zeros[Double](vectorSize), DenseVector.zeros[Double](vectorSize * thetaLength), DenseVector.zeros[Double](vectorSize * thetaLength), 0)\n",
    ")(\n",
    "  { case ((hAcc, fAcc, dfAcc, dhAcc, c), (h, f, df, dh)) => (hAcc + h, fAcc + f, dfAcc + df, dhAcc + dh, c + 1) },\n",
    "  { case ((h1, f1, df1, dh1, c1), (h2, f2, df2, dh2, c2)) => (h1 + h2, f1 + f2, df1 + df2, dh1 + dh2, c1 + c2) }\n",
    ")\n",
    "\n",
    "val hMeanDf = hSumDf / countDf.toDouble\n",
    "val fMeanDf = fSumDf / countDf.toDouble\n",
    "val dfMeanDf = dfSum / countDf.toDouble\n",
    "val dhMeanDf = dhSum / countDf.toDouble\n",
    "\n",
    "println(s\"Mean h: $hMeanDf\")\n",
    "println(s\"Mean f: $fMeanDf\")\n",
    "println(s\"Mean df: $dfMeanDf\")\n",
    "println(s\"Mean dh: $dhMeanDf\")\n"
   ]
  },
  {
   "cell_type": "markdown",
   "id": "5ced317f-bb5a-4bf8-9854-269917555cee",
   "metadata": {},
   "source": [
    "## compute B, u, and perform fisher update"
   ]
  },
  {
   "cell_type": "code",
   "execution_count": 36,
   "id": "5dc3701d-9b14-4904-94c5-b61aa0bfe327",
   "metadata": {},
   "outputs": [
    {
     "data": {
      "text/plain": [
       "lastException = null\n"
      ]
     },
     "metadata": {},
     "output_type": "display_data"
    },
    {
     "data": {
      "text/plain": [
       "computeBUforPair: (pf: PairFeatures, theta: Map[String,breeze.linalg.DenseVector[Double]])(breeze.linalg.DenseVector[Double], breeze.linalg.DenseVector[Double])\n"
      ]
     },
     "metadata": {},
     "output_type": "display_data"
    },
    {
     "data": {
      "text/plain": [
       "null"
      ]
     },
     "execution_count": 36,
     "metadata": {},
     "output_type": "execute_result"
    }
   ],
   "source": [
    "def computeBUforPair(\n",
    "  pf: PairFeatures,\n",
    "  theta: Map[String, DenseVector[Double]]\n",
    "): (DenseVector[Double], DenseVector[Double]) = {\n",
    "  // 1) get h, f, D, M\n",
    "  val (h, f, dfVec, dhVec) = computeHFDFDHforPair(pf, theta) \n",
    "  val d = dfVec.length / 3\n",
    "  val D = new DenseMatrix(3, d, dfVec.data)       // 3×d\n",
    "  val M = new DenseMatrix(3, d, dhVec.data)       // 3×d\n",
    "  val Vinv = DenseMatrix.eye[Double](3)           // 3x3, identity matrix for simplicity\n",
    "\n",
    "  // 2) G = D^T * V⁻¹  (d×3)\n",
    "  val G = D.t * Vinv\n",
    "\n",
    "  // 3) B_i = G * (D - M)   (d×d)\n",
    "  val B_i = G * (D - M)\n",
    "\n",
    "  // 4) u_i = G * (h - f)   (d)\n",
    "  val u_i = G * (h - f)\n",
    "\n",
    "  (B_i.toDenseVector, u_i)\n",
    "}"
   ]
  },
  {
   "cell_type": "code",
   "execution_count": 22,
   "id": "4ac7747d-797c-4329-bda2-cf1c473547f3",
   "metadata": {},
   "outputs": [
    {
     "data": {
      "text/plain": [
       "thetaInit = Map(delta -> DenseVector(0.5), beta -> DenseVector(0.0, 0.0, 0.0, 0.0), gamma -> DenseVector(0.0, 0.0, 0.0, 0.0, 0.0, 0.0, 0.0))\n"
      ]
     },
     "metadata": {},
     "output_type": "display_data"
    },
    {
     "data": {
      "text/plain": [
       "Map(delta -> DenseVector(0.5), beta -> DenseVector(0.0, 0.0, 0.0, 0.0), gamma -> DenseVector(0.0, 0.0, 0.0, 0.0, 0.0, 0.0, 0.0))"
      ]
     },
     "execution_count": 22,
     "metadata": {},
     "output_type": "execute_result"
    }
   ],
   "source": [
    "val thetaInit =  Map(\n",
    "  \"delta\" -> DenseVector(0.5),\n",
    "  \"beta\" -> DenseVector.zeros[Double](p + 1),   // where p is dim(x)\n",
    "  \"gamma\" -> DenseVector.zeros[Double](2 * p + 1)\n",
    ")"
   ]
  },
  {
   "cell_type": "code",
   "execution_count": 23,
   "id": "f502ac3f-4a87-460f-84d2-6ee8649d9756",
   "metadata": {},
   "outputs": [
    {
     "name": "stdout",
     "output_type": "stream",
     "text": [
      "Mean B: 1.0  0.0                   -0.02196209092548669  ... (12 total)\n",
      "0.0  0.0625                0.02617994788580693   ...\n",
      "0.0  0.02617994788580693   0.01476407592104698   ...\n",
      "0.0  0.036525713929094664  0.01653795314897124   ...\n",
      "0.0  0.023019109603652617  0.008142367117191476  ...\n",
      "0.0  0.0                   0.0                   ...\n",
      "0.0  0.0                   0.0                   ...\n",
      "0.0  0.0                   0.0                   ...\n",
      "0.0  0.0                   0.0                   ...\n",
      "0.0  0.0                   0.0                   ...\n",
      "0.0  0.0                   0.0                   ...\n",
      "0.0  0.0                   0.0                   ...\n",
      "Mean U: DenseVector(-0.42648731578485394, -9.71104761491062E-4, -4.940142386359029E-5, -0.0037512510970289497, 0.0028359487909702156, -0.005956541295967935, -0.002241982718161384, -0.00349778272868647, -0.0022908522261908468, -0.002241982718161384, -0.00349778272868647, -0.0022908522261908468)\n"
     ]
    },
    {
     "data": {
      "text/plain": [
       "theta = Map(delta -> DenseVector(0.5), beta -> DenseVector(0.0, 0.0, 0.0, 0.0), gamma -> DenseVector(0.0, 0.0, 0.0, 0.0, 0.0, 0.0, 0.0))\n",
       "d = 12\n",
       "BURDD = MapPartitionsRDD[69] at mapPartitions at <console>:59\n",
       "BUsum = (DenseVector(9.0, 0.0, 0.0, 0.0, 0.0, 0.0, 0.0, 0.0, 0.0, 0.0, 0.0, 0.0, 0.0, 0.5625, 0.23561953097226238, 0.32873142536185196, 0.20717198643287354, 0.0, 0.0, 0.0, 0.0, 0.0, 0.0, 0.0, -0.1976588183293802, 0.23561953097226238, 0.13287668328942281, 0.14884157834074116, 0.07328130405472329, 0.0, 0.0, 0.0, 0.0, 0.0, 0.0, 0.0, -0.5189243614526681, 0.328731425...\n"
      ]
     },
     "metadata": {},
     "output_type": "display_data"
    },
    {
     "data": {
      "text/plain": [
       "(DenseVector(9.0, 0.0, 0.0, 0.0, 0.0, 0.0, 0.0, 0.0, 0.0, 0.0, 0.0, 0.0, 0.0, 0.5625, 0.23561953097226238, 0.32873142536185196, 0.20717198643287354, 0.0, 0.0, 0.0, 0.0, 0.0, 0.0, 0.0, -0.1976588183293802, 0.23561953097226238, 0.13287668328942281, 0.14884157834074116, 0.07328130405472329, 0.0, 0.0, 0.0, 0.0, 0.0, 0.0, 0.0, -0.5189243614526681, 0.328731425..."
      ]
     },
     "execution_count": 23,
     "metadata": {},
     "output_type": "execute_result"
    }
   ],
   "source": [
    "// θ holds “delta”, “beta”, “gamma” as DenseVector’s\n",
    "var theta: Map[String, DenseVector[Double]] = thetaInit\n",
    "\n",
    "val d = theta(\"beta\").length + theta(\"gamma\").length + 1  // total params\n",
    "\n",
    "val BURDD: RDD[(DenseVector[Double], DenseVector[Double])] =\n",
    "  pairFeatureDS.rdd.mapPartitions { iter =>\n",
    "    iter.grouped(200).flatMap { batch =>\n",
    "      batch.map(p => computeBUforPair(p, theta))\n",
    "    }\n",
    "  }\n",
    "\n",
    "val BUsum = BURDD.aggregate(\n",
    "  (DenseVector.zeros[Double](d * d), DenseVector.zeros[Double](d), 0)\n",
    ")(\n",
    "  (acc, value) => {\n",
    "    val BAcc = acc._1\n",
    "    val UAcc = acc._2\n",
    "    val c = acc._3\n",
    "    val B = value._1\n",
    "    val U = value._2\n",
    "    (BAcc + B, UAcc + U, c + 1)\n",
    "  },\n",
    "  (acc1, acc2) => {\n",
    "    val B1 = acc1._1\n",
    "    val U1 = acc1._2\n",
    "    val c1 = acc1._3\n",
    "    val B2 = acc2._1\n",
    "    val U2 = acc2._2\n",
    "    val c2 = acc2._3\n",
    "    (B1 + B2, U1 + U2, c1 + c2)\n",
    "  }\n",
    ")\n",
    "\n",
    "val Btot = new DenseMatrix(d, d, BUsum._1.data) // d×d\n",
    "val Utot = BUsum._2 // d\n",
    "val countBU = BUsum._3\n",
    "\n",
    "val Bmean = Btot / countBU.toDouble\n",
    "val Umean = Utot / countBU.toDouble\n",
    "\n",
    "println(s\"Mean B: ${Bmean}\")\n",
    "println(s\"Mean U: ${Umean}\")"
   ]
  },
  {
   "cell_type": "code",
   "execution_count": 24,
   "id": "5b374717-5c29-4ce1-8fb9-5dd7b77e87da",
   "metadata": {},
   "outputs": [
    {
     "data": {
      "text/plain": [
       "1.0  0.0                   -0.02196209092548669  ... (12 total)\n",
       "0.0  0.0625                0.02617994788580693   ...\n",
       "0.0  0.02617994788580693   0.01476407592104698   ...\n",
       "0.0  0.036525713929094664  0.01653795314897124   ...\n",
       "0.0  0.023019109603652617  0.008142367117191476  ...\n",
       "0.0  0.0                   0.0                   ...\n",
       "0.0  0.0                   0.0                   ...\n",
       "0.0  0.0                   0.0                   ...\n",
       "0.0  0.0                   0.0                   ...\n",
       "0.0  0.0                   0.0                   ...\n",
       "0.0  0.0                   0.0                   ...\n",
       "0.0  0.0                   0.0                   ...\n"
      ]
     },
     "metadata": {},
     "output_type": "display_data"
    }
   ],
   "source": [
    "Bmean"
   ]
  },
  {
   "cell_type": "code",
   "execution_count": 25,
   "id": "e2c5198a-7710-4b83-b415-ff39c650e869",
   "metadata": {},
   "outputs": [
    {
     "data": {
      "text/plain": [
       "DenseVector(-0.42648731578485394, -9.71104761491062E-4, -4.940142386359029E-5, -0.0037512510970289497, 0.0028359487909702156, -0.005956541295967935, -0.002241982718161384, -0.00349778272868647, -0.0022908522261908468, -0.002241982718161384, -0.00349778272868647, -0.0022908522261908468)"
      ]
     },
     "execution_count": 25,
     "metadata": {},
     "output_type": "execute_result"
    }
   ],
   "source": [
    "Umean"
   ]
  },
  {
   "cell_type": "code",
   "execution_count": 30,
   "id": "9140ee92",
   "metadata": {},
   "outputs": [
    {
     "data": {
      "text/plain": [
       "lastException = null\n",
       "J = \n",
       "lambda = 0.1\n",
       "Iden = \n"
      ]
     },
     "metadata": {},
     "output_type": "display_data"
    },
    {
     "data": {
      "text/plain": [
       "-1.0  -0.0                   0.02196209092548669    ... (12 total)\n",
       "-0.0  -0.0625                -0.02617994788580693   ...\n",
       "-0.0  -0.02617994788580693   -0.01476407592104698   ...\n",
       "-0.0  -0.036525713929094664  -0.01653795314897124   ...\n",
       "-0.0  -0.023019109603652617  -0.008142367117191476  ...\n",
       "-0.0  -0.0                   -0.0                   ...\n",
       "-0.0  -0.0                   -0.0                   ...\n",
       "-0.0  -0.0                   -0.0                   ...\n",
       "-0.0  -0.0                   -0.0                   ...\n",
       "-0.0  -0.0                   -0.0                   ...\n",
       "-0.0  -0.0                   -0.0                   ...\n",
       "-0.0  -0.0                   -0.0                   ...\n",
       "1.0  0.0  0....\n"
      ]
     },
     "metadata": {},
     "output_type": "display_data"
    }
   ],
   "source": [
    "// Fisher scoring update\n",
    "\n",
    "val J = - Bmean\n",
    "val lambda = 0.1\n",
    "val Iden = DenseMatrix.eye[Double](d) // Identity matrix of size d\n",
    "val step = (J + lambda * Iden) \\ (-Umean)"
   ]
  },
  {
   "cell_type": "code",
   "execution_count": 31,
   "id": "8df03fde-f992-46c1-8ba3-2d31dfe49baa",
   "metadata": {},
   "outputs": [
    {
     "data": {
      "text/plain": [
       "DenseVector(-0.42153383177574355, -0.32043466144285104, -0.14294038128948897, -0.15860999367901168, -0.1499575629414855, 0.06541702450124144, 0.02500222524641803, 0.03848536905458946, 0.02505503874790853, 0.02500222524641804, 0.03848536905458946, 0.025055038747908525)"
      ]
     },
     "execution_count": 31,
     "metadata": {},
     "output_type": "execute_result"
    }
   ],
   "source": [
    "step"
   ]
  },
  {
   "cell_type": "code",
   "execution_count": 32,
   "id": "73d779fc-0ed0-4125-9d6b-99e563e895a3",
   "metadata": {},
   "outputs": [
    {
     "data": {
      "text/plain": [
       "Map(delta -> DenseVector(0.5), beta -> DenseVector(0.0, 0.0, 0.0, 0.0), gamma -> DenseVector(0.0, 0.0, 0.0, 0.0, 0.0, 0.0, 0.0))"
      ]
     },
     "execution_count": 32,
     "metadata": {},
     "output_type": "execute_result"
    }
   ],
   "source": [
    "theta"
   ]
  },
  {
   "cell_type": "code",
   "execution_count": 34,
   "id": "908d8b3f-c25f-4157-81e0-523a63648d06",
   "metadata": {},
   "outputs": [
    {
     "data": {
      "text/plain": [
       "updateTheta: (theta: Map[String,breeze.linalg.DenseVector[Double]], step: breeze.linalg.DenseVector[Double])Map[String,breeze.linalg.DenseVector[Double]]\n"
      ]
     },
     "metadata": {},
     "output_type": "display_data"
    }
   ],
   "source": [
    "def updateTheta(\n",
    "  theta: Map[String, DenseVector[Double]],\n",
    "  step: DenseVector[Double]\n",
    "): Map[String, DenseVector[Double]] = {\n",
    "  var idx    = 0\n",
    "  // delta (scalar)\n",
    "  val newDelta = theta(\"delta\") + step(idx to idx)\n",
    "  idx        += 1\n",
    "  // beta\n",
    "  val bLen    = theta(\"beta\").length\n",
    "  val newBeta = theta(\"beta\") + step(idx until idx + bLen)\n",
    "  idx        += bLen\n",
    "  // gamma\n",
    "  val gLen     = theta(\"gamma\").length\n",
    "  val newGamma = theta(\"gamma\") + step(idx until idx + gLen)\n",
    "\n",
    "  Map(\n",
    "    \"delta\" -> newDelta,\n",
    "    \"beta\"  -> newBeta,\n",
    "    \"gamma\" -> newGamma\n",
    "  )\n",
    "}"
   ]
  },
  {
   "cell_type": "code",
   "execution_count": 35,
   "id": "6af550f0-b992-432c-9558-b7524169a145",
   "metadata": {},
   "outputs": [
    {
     "data": {
      "text/plain": [
       "theta = Map(delta -> DenseVector(0.07846616822425645), beta -> DenseVector(-0.32043466144285104, -0.14294038128948897, -0.15860999367901168, -0.1499575629414855), gamma -> DenseVector(0.06541702450124144, 0.02500222524641803, 0.03848536905458946, 0.02505503874790853, 0.02500222524641804, 0.03848536905458946, 0.025055038747908525))\n"
      ]
     },
     "metadata": {},
     "output_type": "display_data"
    },
    {
     "data": {
      "text/plain": [
       "Map(delta -> DenseVector(0.07846616822425645), beta -> DenseVector(-0.32043466144285104, -0.14294038128948897, -0.15860999367901168, -0.1499575629414855), gamma -> DenseVector(0.06541702450124144, 0.02500222524641803, 0.03848536905458946, 0.02505503874790853, 0.02500222524641804, 0.03848536905458946, 0.025055038747908525))"
      ]
     },
     "execution_count": 35,
     "metadata": {},
     "output_type": "execute_result"
    }
   ],
   "source": [
    "theta = updateTheta(theta, step)"
   ]
  },
  {
   "cell_type": "code",
   "execution_count": 36,
   "id": "6cad7f9f-4797-4b8b-b529-0e2a3d1478b4",
   "metadata": {},
   "outputs": [
    {
     "data": {
      "text/plain": [
       "Map(delta -> DenseVector(0.07846616822425645), beta -> DenseVector(-0.32043466144285104, -0.14294038128948897, -0.15860999367901168, -0.1499575629414855), gamma -> DenseVector(0.06541702450124144, 0.02500222524641803, 0.03848536905458946, 0.02505503874790853, 0.02500222524641804, 0.03848536905458946, 0.025055038747908525))"
      ]
     },
     "execution_count": 36,
     "metadata": {},
     "output_type": "execute_result"
    }
   ],
   "source": [
    "theta"
   ]
  },
  {
   "cell_type": "code",
   "execution_count": 2,
   "id": "0f92d801-9440-41c9-b8fa-4c1db6a0416f",
   "metadata": {},
   "outputs": [
    {
     "data": {
      "text/plain": [
       "computeStep: (pairFeatureDS: org.apache.spark.sql.Dataset[PairFeatures], theta: Map[String,breeze.linalg.DenseVector[Double]])breeze.linalg.DenseVector[Double]\n"
      ]
     },
     "metadata": {},
     "output_type": "display_data",
     "source": "user"
    }
   ],
   "source": [
    "def computeStep(pairFeatureDS: Dataset[PairFeatures], theta: Map[String, DenseVector[Double]]): DenseVector[Double] = {\n",
    "  val BURDD: RDD[(DenseVector[Double], DenseVector[Double])] =\n",
    "    pairFeatureDS.rdd.mapPartitions { iter =>\n",
    "      iter.grouped(200).flatMap { batch =>\n",
    "        batch.map(p => computeBUforPair(p, theta))\n",
    "      }\n",
    "    }\n",
    "\n",
    "  val BUsum = BURDD.aggregate(\n",
    "    (DenseVector.zeros[Double](d * d), DenseVector.zeros[Double](d), 0)\n",
    "  )(\n",
    "    (acc, value) => {\n",
    "      val BAcc = acc._1\n",
    "      val UAcc = acc._2\n",
    "      val c = acc._3\n",
    "      val B = value._1\n",
    "      val U = value._2\n",
    "      (BAcc + B, UAcc + U, c + 1)\n",
    "    },\n",
    "    (acc1, acc2) => {\n",
    "      val B1 = acc1._1\n",
    "      val U1 = acc1._2\n",
    "      val c1 = acc1._3\n",
    "      val B2 = acc2._1\n",
    "      val U2 = acc2._2\n",
    "      val c2 = acc2._3\n",
    "      (B1 + B2, U1 + U2, c1 + c2)\n",
    "    }\n",
    "  )\n",
    "\n",
    "  val Btot = new DenseMatrix(d, d, BUsum._1.data) // d×d\n",
    "  val Utot = BUsum._2 // d\n",
    "  val countBU = BUsum._3\n",
    "\n",
    "  val Bmean = Btot / countBU.toDouble\n",
    "  val Umean = Utot / countBU.toDouble\n",
    "\n",
    "  // Fisher scoring update\n",
    "\n",
    "  val J = - Bmean\n",
    "  val lambda = 0.1\n",
    "  val Iden = DenseMatrix.eye[Double](d) // Identity matrix of size d\n",
    "  val step = (J + lambda * Iden) \\ (-Umean)\n",
    "\n",
    "  step\n",
    "}"
   ]
  },
  {
   "cell_type": "code",
   "execution_count": 3,
   "id": "caabd6c3",
   "metadata": {},
   "outputs": [
    {
     "name": "stdout",
     "output_type": "stream",
     "text": [
      "Updated theta: Map(delta -> DenseVector(-0.8599798772551582), beta -> DenseVector(-3.461557492968856, -1.499875041358923, -1.9856162244277393, -1.3263636445788052), gamma -> DenseVector(0.019980803132977315, 8.425610394920229E-4, 0.010308204784821178, 0.009590864647366998, 2.2034939143689494E-4, 0.00973069743719486, 0.00913878995438562))\n"
     ]
    },
    {
     "data": {
      "text/plain": [
       "step = DenseVector(-0.9384460454794147, -3.1411228315260047, -1.356934660069434, -1.8270062307487276, -1.1764060816373196, -0.045436221368264126, -0.02415966420692601, -0.028177164269768285, -0.01546417410054153, -0.024781875854981147, -0.028754671617394603, -0.015916248793522905)\n",
       "theta = Map(delta -> DenseVector(-0.8599798772551582), beta -> DenseVector(-3.461557492968856, -1.499875041358923, -1.9856162244277393, -1.3263636445788052), gamma -> DenseVector(0.019980803132977315, 8.425610394920229E-4, 0.010308204784821178, 0.009590864647366998, 2.2034939143689494E-4, 0.00973069743719486, 0.00913878995438562))\n"
      ]
     },
     "metadata": {},
     "output_type": "display_data",
     "source": "user"
    },
    {
     "data": {
      "text/plain": [
       "Map(delta -> DenseVector(-0.8599798772551582), beta -> DenseVector(-3.461557492968856, -1.499875041358923, -1.9856162244277393, -1.3263636445788052), gamma -> DenseVector(0.019980803132977315, 8.425610394920229E-4, 0.010308204784821178, 0.009590864647366998, 2.2034939143689494E-4, 0.00973069743719486, 0.00913878995438562))"
      ]
     },
     "execution_count": 3,
     "metadata": {},
     "output_type": "execute_result"
    }
   ],
   "source": [
    "val step = computeStep(pairFeatureDS, theta)\n",
    "theta = updateTheta(theta, step)\n",
    "println(s\"Updated theta: $theta\")"
   ]
  },
  {
   "cell_type": "code",
   "execution_count": null,
   "id": "bee8ff50-0929-4a14-a6a4-9577cdaef14b",
   "metadata": {},
   "outputs": [],
   "source": []
  }
 ],
 "metadata": {
  "kernelspec": {
   "display_name": "apache_toree_scala - Scala",
   "language": "scala",
   "name": "apache_toree_scala_scala"
  },
  "language_info": {
   "codemirror_mode": "text/x-scala",
   "file_extension": ".scala",
   "mimetype": "text/x-scala",
   "name": "scala",
   "pygments_lexer": "scala",
   "version": "2.12.15"
  }
 },
 "nbformat": 4,
 "nbformat_minor": 5
}
