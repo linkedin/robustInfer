{
 "cells": [
  {
   "cell_type": "code",
   "execution_count": 1,
   "id": "1b374b83-10dd-40bd-9d05-c0f3e56bed5f",
   "metadata": {},
   "outputs": [
    {
     "name": "stdout",
     "output_type": "stream",
     "text": [
      "Starting download from file:/app/scala_lib/build/libs/robustInfer-scala-0.1.0.jar\n",
      "Finished download of robustInfer-scala-0.1.0.jar\n",
      "Using cached version of robustInfer-scala-0.1.0.jar\n"
     ]
    }
   ],
   "source": [
    "%AddJar file:/app/scala_lib/build/libs/robustInfer-scala-0.1.0.jar"
   ]
  },
  {
   "cell_type": "code",
   "execution_count": 2,
   "id": "95d35f35-5520-48ce-be48-c258bc7c09b2",
   "metadata": {},
   "outputs": [],
   "source": [
    "import robustinfer._"
   ]
  },
  {
   "cell_type": "code",
   "execution_count": 3,
   "id": "c107da6d-4ba8-4117-b411-715ec8520c12",
   "metadata": {},
   "outputs": [
    {
     "data": {
      "text/plain": [
       "rng = scala.util.Random@1bef0b2f\n"
      ]
     },
     "metadata": {},
     "output_type": "display_data"
    },
    {
     "data": {
      "text/plain": [
       "scala.util.Random@1bef0b2f"
      ]
     },
     "execution_count": 3,
     "metadata": {},
     "output_type": "execute_result"
    }
   ],
   "source": [
    "import org.apache.commons.math3.distribution.CauchyDistribution\n",
    "import scala.util.Random\n",
    "val rng = new Random(234)"
   ]
  },
  {
   "cell_type": "code",
   "execution_count": 9,
   "id": "d884547b-7b3d-4bff-a324-b39ad31b74e0",
   "metadata": {},
   "outputs": [
    {
     "data": {
      "text/plain": [
       "samplePositiveCauchyWithTie: (dist: org.apache.commons.math3.distribution.CauchyDistribution, n: Int)Seq[Double]\n",
       "simulationCauchy: (n: Int, diff: Double)(org.apache.spark.rdd.RDD[Double], org.apache.spark.rdd.RDD[Double])\n"
      ]
     },
     "metadata": {},
     "output_type": "display_data",
     "source": "user"
    }
   ],
   "source": [
    "import org.apache.spark.rdd.RDD\n",
    "import org.apache.spark.SparkContext\n",
    "\n",
    "def samplePositiveCauchyWithTie(dist: CauchyDistribution, n: Int): Seq[Double] =\n",
    "  // Sample from Cauchy distribution and ensure positive values and create ties by rounding\n",
    "  Seq.fill(n)(math.max(0.0, math.round(dist.sample()/5.0)*5.0))\n",
    "\n",
    "def simulationCauchy(n: Int, diff: Double): (RDD[Double], RDD[Double]) = {\n",
    "  val dist1 = new CauchyDistribution(0.0, 1.0)\n",
    "  val dist2 = new CauchyDistribution(diff, 1.0)\n",
    "  \n",
    "  // Sample positive values from Cauchy distributions\n",
    "  val cauchy1 = samplePositiveCauchyWithTie(dist1, n)\n",
    "  val cauchy2 = samplePositiveCauchyWithTie(dist2, n)\n",
    "\n",
    "  val rdd1 = sc.parallelize(cauchy1)\n",
    "  val rdd2 = sc.parallelize(cauchy2)\n",
    "  (rdd1, rdd2)\n",
    "}"
   ]
  },
  {
   "cell_type": "code",
   "execution_count": 10,
   "id": "148f1531-8c99-4e1a-b6e0-6d245a737271",
   "metadata": {},
   "outputs": [
    {
     "data": {
      "text/plain": [
       "runSimulation: (n: Int, diff: Double, dataGenerator: (Int, Double) => (org.apache.spark.rdd.RDD[Double], org.apache.spark.rdd.RDD[Double]))Unit\n"
      ]
     },
     "metadata": {},
     "output_type": "display_data",
     "source": "user"
    }
   ],
   "source": [
    "import scala.collection.mutable.{ArrayBuffer, Map}\n",
    "\n",
    "def runSimulation(n: Int, diff: Double, dataGenerator: (Int, Double) => (RDD[Double], RDD[Double])): Unit = {\n",
    "  val maxIter = 200\n",
    "  var iter = 0\n",
    "  val pValues = Map(\n",
    "    \"tTest\" -> ArrayBuffer[Double](),\n",
    "    \"zTUTie\" -> ArrayBuffer[Double](),\n",
    "    \"zTU\" -> ArrayBuffer[Double]()\n",
    "  )\n",
    "\n",
    "  while (iter < maxIter) {\n",
    "    val data = dataGenerator(n, diff)  // Use the passed function\n",
    "    val x = data._1\n",
    "    val y = data._2\n",
    "\n",
    "    val tTestResults = TwoSample.tTest(x, y)\n",
    "    // val mwUResults = TwoSample.mwU(x, y)\n",
    "    val zTUTieResults = TwoSample.zeroTrimmedU(x, y, tieCorrection = true)\n",
    "    val zTUResults = TwoSample.zeroTrimmedU(x, y)\n",
    "\n",
    "    pValues(\"tTest\") += tTestResults._2\n",
    "    // pValues(\"mwU\") += mwUResults._2\n",
    "    pValues(\"zTUTie\") += zTUTieResults._2\n",
    "    pValues(\"zTU\") += zTUResults._2\n",
    "    iter += 1\n",
    "\n",
    "    // Print progress every maxIter / 10 steps\n",
    "    if (iter % (maxIter / 10) == 0) {\n",
    "      println(s\"Iteration $iter/$maxIter completed.\")\n",
    "    }\n",
    "  }\n",
    "  // Compute the proportion of p-values less than 0.05 for each test\n",
    "  val proportions = pValues.map { case (testName, values) =>\n",
    "    testName -> values.count(_ < 0.05).toDouble / maxIter\n",
    "  }\n",
    "\n",
    "  // Print the results\n",
    "  proportions.foreach { case (testName, proportion) =>\n",
    "    println(s\"$testName: Proportion of p-values < 0.05 = $proportion\")\n",
    "  }\n",
    "\n",
    "}"
   ]
  },
  {
   "cell_type": "code",
   "execution_count": 11,
   "id": "5b2bd21d-c826-4851-940d-4669a10a9c64",
   "metadata": {},
   "outputs": [
    {
     "name": "stdout",
     "output_type": "stream",
     "text": [
      "Iteration 20/200 completed.\n",
      "Iteration 40/200 completed.\n",
      "Iteration 60/200 completed.\n",
      "Iteration 80/200 completed.\n",
      "Iteration 100/200 completed.\n",
      "Iteration 120/200 completed.\n",
      "Iteration 140/200 completed.\n",
      "Iteration 160/200 completed.\n",
      "Iteration 180/200 completed.\n",
      "Iteration 200/200 completed.\n",
      "zTU: Proportion of p-values < 0.05 = 0.195\n",
      "zTUTie: Proportion of p-values < 0.05 = 0.205\n",
      "tTest: Proportion of p-values < 0.05 = 0.065\n"
     ]
    }
   ],
   "source": [
    "// Pass the function as a parameter\n",
    "runSimulation(100, 1.0, simulationCauchy)"
   ]
  },
  {
   "cell_type": "code",
   "execution_count": 12,
   "id": "f302d147-6b7f-4072-b61c-08a4967e4516",
   "metadata": {},
   "outputs": [
    {
     "name": "stdout",
     "output_type": "stream",
     "text": [
      "Iteration 20/200 completed.\n",
      "Iteration 40/200 completed.\n",
      "Iteration 60/200 completed.\n",
      "Iteration 80/200 completed.\n",
      "Iteration 100/200 completed.\n",
      "Iteration 120/200 completed.\n",
      "Iteration 140/200 completed.\n",
      "Iteration 160/200 completed.\n",
      "Iteration 180/200 completed.\n",
      "Iteration 200/200 completed.\n",
      "zTU: Proportion of p-values < 0.05 = 0.045\n",
      "zTUTie: Proportion of p-values < 0.05 = 0.05\n",
      "tTest: Proportion of p-values < 0.05 = 0.02\n"
     ]
    }
   ],
   "source": [
    "runSimulation(100, 0.0, simulationCauchy)"
   ]
  },
  {
   "cell_type": "code",
   "execution_count": 13,
   "id": "e837c9c5",
   "metadata": {},
   "outputs": [
    {
     "data": {
      "text/plain": [
       "simulationPoisson: (n: Int, diff: Double)(org.apache.spark.rdd.RDD[Double], org.apache.spark.rdd.RDD[Double])\n"
      ]
     },
     "metadata": {},
     "output_type": "display_data",
     "source": "user"
    }
   ],
   "source": [
    "// Poisson Distribution Generator\n",
    "import org.apache.commons.math3.distribution.PoissonDistribution\n",
    "\n",
    "def simulationPoisson(n: Int, diff: Double): (RDD[Double], RDD[Double]) = {\n",
    "  val dist1 = new PoissonDistribution(0.5)\n",
    "  val dist2 = new PoissonDistribution(0.5 + diff)\n",
    "  \n",
    "  // Sample from Poisson distributions (naturally creates ties due to discrete nature)\n",
    "  val poisson1 = Seq.fill(n)(dist1.sample().toDouble)\n",
    "  val poisson2 = Seq.fill(n)(dist2.sample().toDouble)\n",
    "\n",
    "  val rdd1 = sc.parallelize(poisson1)\n",
    "  val rdd2 = sc.parallelize(poisson2)\n",
    "  (rdd1, rdd2)\n",
    "}"
   ]
  },
  {
   "cell_type": "code",
   "execution_count": 16,
   "id": "fa87bd10-2b43-4ba8-81c1-0acbfde80612",
   "metadata": {},
   "outputs": [
    {
     "name": "stdout",
     "output_type": "stream",
     "text": [
      "\n",
      "=== Poisson Distribution (lots of ties) ===\n",
      "Iteration 20/200 completed.\n",
      "Iteration 40/200 completed.\n",
      "Iteration 60/200 completed.\n",
      "Iteration 80/200 completed.\n",
      "Iteration 100/200 completed.\n",
      "Iteration 120/200 completed.\n",
      "Iteration 140/200 completed.\n",
      "Iteration 160/200 completed.\n",
      "Iteration 180/200 completed.\n",
      "Iteration 200/200 completed.\n",
      "zTU: Proportion of p-values < 0.05 = 0.12\n",
      "zTUTie: Proportion of p-values < 0.05 = 0.135\n",
      "tTest: Proportion of p-values < 0.05 = 0.135\n"
     ]
    }
   ],
   "source": [
    "runSimulation(100, 0.1, simulationPoisson)"
   ]
  },
  {
   "cell_type": "code",
   "execution_count": 18,
   "id": "3f33caaa-1bdd-46ea-8d4c-0b370a066eaa",
   "metadata": {},
   "outputs": [
    {
     "name": "stdout",
     "output_type": "stream",
     "text": [
      "Iteration 20/200 completed.\n",
      "Iteration 40/200 completed.\n",
      "Iteration 60/200 completed.\n",
      "Iteration 80/200 completed.\n",
      "Iteration 100/200 completed.\n",
      "Iteration 120/200 completed.\n",
      "Iteration 140/200 completed.\n",
      "Iteration 160/200 completed.\n",
      "Iteration 180/200 completed.\n",
      "Iteration 200/200 completed.\n",
      "zTU: Proportion of p-values < 0.05 = 0.03\n",
      "zTUTie: Proportion of p-values < 0.05 = 0.055\n",
      "tTest: Proportion of p-values < 0.05 = 0.065\n"
     ]
    },
    {
     "data": {
      "text/plain": [
       "lastException = null\n"
      ]
     },
     "metadata": {},
     "output_type": "display_data",
     "source": "user"
    },
    {
     "data": {
      "text/plain": [
       "null"
      ]
     },
     "execution_count": 18,
     "metadata": {},
     "output_type": "execute_result"
    }
   ],
   "source": [
    "runSimulation(100, 0.0, simulationPoisson)"
   ]
  },
  {
   "cell_type": "code",
   "execution_count": null,
   "id": "381163e0-06ee-4889-b1af-0d58e3ab3dcd",
   "metadata": {},
   "outputs": [],
   "source": []
  }
 ],
 "metadata": {
  "kernelspec": {
   "display_name": "apache_toree_scala - Scala",
   "language": "scala",
   "name": "apache_toree_scala_scala"
  },
  "language_info": {
   "codemirror_mode": "text/x-scala",
   "file_extension": ".scala",
   "mimetype": "text/x-scala",
   "name": "scala",
   "pygments_lexer": "scala",
   "version": "2.12.15"
  }
 },
 "nbformat": 4,
 "nbformat_minor": 5
}
