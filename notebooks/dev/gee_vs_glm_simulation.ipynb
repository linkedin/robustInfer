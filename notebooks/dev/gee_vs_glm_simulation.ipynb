{
 "cells": [
  {
   "cell_type": "markdown",
   "metadata": {
    "id": "g28uIDP5fpNy"
   },
   "source": [
    "## Simulation Design\n",
    "\n",
    "### 1. Data Generating Process\n",
    "\n",
    "- **Subjects**:  \n",
    "  $ i = 1, \\dots, N $\n",
    "\n",
    "- **Time points**:  \n",
    "  $ t = 1, \\dots, T $\n",
    "\n",
    "- **Time-invariant confounder**:  \n",
    " $[w_i \\;\\sim\\; \\mathcal{N}(0,1)]$\n",
    "\n",
    "- **Treatment assignment** $z_i$:  \n",
    "  - **Confounded scenario**  \n",
    "    $\n",
    "      \\text{logit}\\bigl[P(z_i=1\\mid w_i)\\bigr]\n",
    "      = \\alpha_0 + \\alpha_1\\,w_i\n",
    "      \\quad\\Longrightarrow\\quad\n",
    "      z_i \\sim \\mathrm{Bernoulli}\\bigl(\\sigma(\\alpha_0 + \\alpha_1w_i)\\bigr)\n",
    "    $\n",
    "\n",
    "- **Linear predictor**  \n",
    "  $\n",
    "    \\eta_{it}\n",
    "    = \\beta_0 \\;+\\; \\beta_1\\,z_i \\;+\\; \\gamma\\,w_i\n",
    "  $\n",
    "\n",
    "- **Outcome**  \n",
    "  $\n",
    "    Y_{it} \\;\\sim\\; \\mathrm{Poisson}\\bigl(\\exp(\\eta_{it})\\bigr)\n",
    "  $"
   ]
  },
  {
   "cell_type": "code",
   "execution_count": null,
   "metadata": {
    "id": "PRJPSLpBfUbT"
   },
   "outputs": [],
   "source": [
    "import numpy as np\n",
    "import pandas as pd\n",
    "\n",
    "\n",
    "def simulate_panel_data(\n",
    "    N, T, beta0, beta1, gamma,\n",
    "    confounded, eta0=0.0, eta1=1.0, p=0.5, seed=None\n",
    "):\n",
    "    \"\"\"Generate panel data with one time-invariant confounder w (cost).\"\"\"\n",
    "    if seed is not None:\n",
    "        np.random.seed(seed)\n",
    "    w = np.random.normal(size=N)  # confounder\n",
    "    if confounded:\n",
    "        logits = eta0 + eta1 * w\n",
    "        pi = 1/(1 + np.exp(-logits))\n",
    "        z = np.random.binomial(1, pi, size=N)\n",
    "    else:\n",
    "        z = np.random.binomial(1, p, size=N)\n",
    "    df = pd.DataFrame({\n",
    "        'i': np.repeat(np.arange(N), T),\n",
    "        't': np.tile(np.arange(T), N)\n",
    "    })\n",
    "    df['w'] = df['i'].map(lambda i: w[i])\n",
    "    df['z'] = df['i'].map(lambda i: z[i])\n",
    "    eta = beta0 + beta1 * df['z'] + gamma * df['w']\n",
    "    df['y'] = np.random.poisson(lam=np.exp(eta))\n",
    "    return df"
   ]
  },
  {
   "cell_type": "markdown",
   "metadata": {
    "id": "a0z54ZrMf3hX"
   },
   "source": [
    "## Estimators\n",
    "\n",
    "1. **Longitudinal GEE estimator**  \n",
    "   We fit a Poisson‐family GEE with exchangeable correlation on the full panel $\\{Y_{it}\\}$.  The treatment coefficient $\\beta_1$ is estimated as the solution to the estimating equations  \n",
    "   $\n",
    "     U_n(\\beta_1) \\;=\\;\\sum_{i=1}^N\\sum_{t=1}^T D_{it}^\\top\\bigl[Y_{it} - \\exp(\\beta_0 + \\beta_1 z_i + \\gamma w_i)\\bigr]\n",
    "     \\;=\\;0,\n",
    "   $\n",
    "   where $ D_{it} = \\partial\\,E[Y_{it}\\mid z_i,w_i]/\\partial\\beta_1 = z_i\\exp(\\dots)$\n",
    "\n",
    "   We denote the resulting estimate by $\\hat\\beta_1^{\\rm GEE}$.\n",
    "\n",
    "3. **Poisson GLM estimator**  \n",
    "   At the final time point \\(t=T\\), we fit\n",
    "   $\n",
    "     Y_{iT} \\sim \\mathrm{Poisson}\\bigl(\\exp(\\beta_0 + \\beta_1 z_i + \\gamma w_i)\\bigr)\n",
    "     \\quad\\Longrightarrow\\quad\n",
    "     \\hat\\beta_1^{\\rm GLM}.\n",
    "   $\n",
    "\n",
    "\n",
    "   This uses only the cross‐section at $t=T$, ignoring longitudinal correlation."
   ]
  },
  {
   "cell_type": "code",
   "execution_count": null,
   "metadata": {
    "id": "DBGqRuW-f_-Y"
   },
   "outputs": [],
   "source": [
    "import statsmodels.api as sm\n",
    "from statsmodels.genmod.generalized_estimating_equations import GEE\n",
    "from statsmodels.genmod.families import Poisson\n",
    "\n",
    "def fit_estimators(df):\n",
    "    \"\"\"Fit GEE and snapshot Poisson GLM; return estimates and p-values for z.\"\"\"\n",
    "    # GEE\n",
    "    gee = GEE.from_formula('y ~ z + w', groups='i', data=df,\n",
    "                           family=Poisson(), cov_struct=sm.cov_struct.Exchangeable())\n",
    "    ## other cov_struct options include sm.cov_struct.Independence()\n",
    "    res_gee = gee.fit()\n",
    "    beta1_gee = res_gee.params['z']\n",
    "    p_gee = res_gee.pvalues['z']\n",
    "    # Snapshot GLM\n",
    "    final_t = df['t'].max()\n",
    "    df_snap = df[df['t'] == final_t]\n",
    "    glm = sm.GLM.from_formula('y ~ z + w', data=df_snap, family=Poisson())\n",
    "    res_glm = glm.fit()\n",
    "    beta1_glm = res_glm.params['z']\n",
    "    p_glm = res_glm.pvalues['z']\n",
    "    return beta1_gee, p_gee, beta1_glm, p_glm\n"
   ]
  },
  {
   "cell_type": "code",
   "execution_count": null,
   "metadata": {
    "id": "3tToLaFqgcDW"
   },
   "outputs": [],
   "source": [
    "def simulate(\n",
    "    sample_sizes, T, beta0, betas, gamma,\n",
    "    confounded, eta0, eta1, p,\n",
    "    n_sims=1000, alphas=(0.05, 0.01)\n",
    "):\n",
    "    \"\"\"Run simulations with respect to varying inputs, return DataFrame of type I and power.\"\"\"\n",
    "    records = []\n",
    "    for N in sample_sizes:\n",
    "        for beta1 in betas:\n",
    "            sims = {'GEE': {α: 0 for α in alphas}, 'GLM': {α: 0 for α in alphas}}\n",
    "            for sim in range(n_sims):\n",
    "                df = simulate_panel_data(N, T, beta0, beta1, gamma,\n",
    "                                         confounded, eta0, eta1, p, seed=sim)\n",
    "                _, p_gee, _, p_glm = fit_estimators(df)\n",
    "                for α in alphas:\n",
    "                    if p_gee < α:\n",
    "                        sims['GEE'][α] += 1\n",
    "                    if p_glm < α:\n",
    "                        sims['GLM'][α] += 1\n",
    "            # aggregate proportions\n",
    "            for α in alphas:\n",
    "                records.append({\n",
    "                    'N': N,\n",
    "                    'beta1': beta1,\n",
    "                    'method': 'GEE',\n",
    "                    'alpha': α,\n",
    "                    'rej_rate': sims['GEE'][α] / n_sims\n",
    "                })\n",
    "                records.append({\n",
    "                    'N': N,\n",
    "                    'beta1': beta1,\n",
    "                    'method': 'GLM',\n",
    "                    'alpha': α,\n",
    "                    'rej_rate': sims['GLM'][α] / n_sims\n",
    "                })\n",
    "    return pd.DataFrame(records)"
   ]
  },
  {
   "cell_type": "code",
   "execution_count": null,
   "metadata": {
    "id": "qyZMUtJdgt-u"
   },
   "outputs": [],
   "source": [
    "import numpy as np\n",
    "import pandas as pd\n",
    "\n",
    "# betas = 0.0 to check type I error\n",
    "# betas = 0.1 and 0.2 to check power with respect to different average treatement effect (ATE) size\n",
    "df_results = simulate(\n",
    "    # Fix sample sizes N=50,200 to demo small and large sample size settings\n",
    "    sample_sizes=[50, 200],\n",
    "    T=5,\n",
    "    beta0=1.0,\n",
    "    betas=[0.0,0.1,0.2],\n",
    "    gamma=0.5,\n",
    "    confounded=True,\n",
    "    eta0=0.0,\n",
    "    eta1=1.0,\n",
    "    p=0.5,\n",
    "    n_sims=1000,\n",
    "    ## check two alpha levels\n",
    "    alphas=(0.05, 0.01)\n",
    ")\n"
   ]
  },
  {
   "cell_type": "code",
   "execution_count": null,
   "metadata": {
    "colab": {
     "base_uri": "https://localhost:8080/",
     "height": 300
    },
    "id": "doaaxCtyhybm",
    "outputId": "d2ee3244-39c5-47bc-ae8d-a6900f839632"
   },
   "outputs": [],
   "source": [
    "# Filter for null effect\n",
    "type1_gee = df_results[\n",
    "    (df_results['beta1'] == 0.0)\n",
    "]\n",
    "type1_gee"
   ]
  },
  {
   "cell_type": "code",
   "execution_count": null,
   "metadata": {
    "colab": {
     "base_uri": "https://localhost:8080/",
     "height": 551
    },
    "id": "NpKQJ-VUh5FN",
    "outputId": "e7e9a5dd-6879-46c9-f7a9-d911544b0ce7"
   },
   "outputs": [],
   "source": [
    "# Filter for (beta_z>0) effect\n",
    "type2_gee_glm = df_results[\n",
    "    (df_results['beta1'] > 0)\n",
    "]\n",
    "type2_gee_glm"
   ]
  }
 ],
 "metadata": {
  "colab": {
   "provenance": []
  },
  "kernelspec": {
   "display_name": "Python 3 (ipykernel)",
   "language": "python",
   "name": "python3"
  },
  "language_info": {
   "codemirror_mode": {
    "name": "ipython",
    "version": 3
   },
   "file_extension": ".py",
   "mimetype": "text/x-python",
   "name": "python",
   "nbconvert_exporter": "python",
   "pygments_lexer": "ipython3",
   "version": "3.10.17"
  }
 },
 "nbformat": 4,
 "nbformat_minor": 4
}
