{
 "cells": [
  {
   "cell_type": "code",
   "execution_count": null,
   "metadata": {
    "id": "bn3WT2XxJn7u"
   },
   "outputs": [],
   "source": [
    "import jax\n",
    "import jax.numpy as jnp\n",
    "import numpy as np\n",
    "from functools import partial\n",
    "from itertools import combinations, product\n",
    "import statsmodels.api as sm\n",
    "import pandas as pd\n",
    "from scipy.stats import mannwhitneyu"
   ]
  },
  {
   "cell_type": "code",
   "execution_count": 2,
   "metadata": {},
   "outputs": [],
   "source": [
    "import sys\n",
    "sys.path.append('/app/python_lib/src')\n",
    "from robustinfer.drgu import DRGU"
   ]
  },
  {
   "cell_type": "markdown",
   "metadata": {
    "id": "Rfhg7vpkXFkm"
   },
   "source": [
    "# Define Functions"
   ]
  },
  {
   "cell_type": "code",
   "execution_count": 3,
   "metadata": {
    "id": "xHl5tb5keJ41"
   },
   "outputs": [],
   "source": [
    "class KeyGen:\n",
    "    def __init__(self, seed=0):\n",
    "        self.key = jax.random.PRNGKey(seed)\n",
    "\n",
    "    def next(self):\n",
    "        self.key, subkey = jax.random.split(self.key)\n",
    "        return subkey\n",
    "\n",
    "rng = KeyGen(42)"
   ]
  },
  {
   "cell_type": "code",
   "execution_count": 4,
   "metadata": {
    "id": "CYsOaywvKTv9"
   },
   "outputs": [],
   "source": [
    "def simulation_linear_data(n, ate, error_func):\n",
    "    eta_true = jnp.array([ 0.0, -0.6])\n",
    "    w   = jax.random.normal(rng.next(), (n, 1))   # covariates\n",
    "    Wt  = jnp.concatenate([jnp.ones((n,1)), w], axis=1)\n",
    "    pi_true    = jax.nn.sigmoid(Wt @ eta_true)                # true propensity\n",
    "    z          = jax.random.bernoulli(rng.next(), pi_true).astype(jnp.float32)\n",
    "\n",
    "    # beta_true = jnp.array([0.0, 0.0, 1.0])\n",
    "    error = error_func(rng.next(), (n,))\n",
    "    beta_true = jnp.array([ 0.0, ate, 1.0])\n",
    "    X = jnp.concatenate([jnp.ones((n,1)), z[:,None]*1.0,w], axis=1)\n",
    "    y = X @ beta_true + error\n",
    "    return y, z, w, Wt"
   ]
  },
  {
   "cell_type": "markdown",
   "metadata": {
    "id": "s-q3DHDJllpo"
   },
   "source": [
    "# Analysis on one simulated data"
   ]
  },
  {
   "cell_type": "code",
   "execution_count": 5,
   "metadata": {},
   "outputs": [],
   "source": [
    "class ErrorFunc:\n",
    "    name = ''\n",
    "    f = None\n",
    "\n",
    "    def __init__(self, name, f):\n",
    "            self.name = name\n",
    "            self.f = f\n",
    "\n",
    "lognormal_error_func = ErrorFunc('lognormal', lambda key, shape: jax.random.lognormal(key, shape=shape))\n",
    "y, x, w, _ = simulation_linear_data(n=100, ate=2.0, error_func=lognormal_error_func.f)\n",
    "    "
   ]
  },
  {
   "cell_type": "code",
   "execution_count": 6,
   "metadata": {},
   "outputs": [
    {
     "data": {
      "text/plain": [
       "((100,), (100,), (100, 1))"
      ]
     },
     "execution_count": 6,
     "metadata": {},
     "output_type": "execute_result"
    }
   ],
   "source": [
    "y.shape, x.shape, w.shape"
   ]
  },
  {
   "cell_type": "code",
   "execution_count": 7,
   "metadata": {},
   "outputs": [],
   "source": [
    "df = pd.DataFrame({\n",
    "    \"y\": y,\n",
    "    \"x\": x,\n",
    "    **{f\"w{i+1}\": w[:, i] for i in range(w.shape[1])}  # Dynamically create column names for w\n",
    "})\n"
   ]
  },
  {
   "cell_type": "code",
   "execution_count": 8,
   "metadata": {},
   "outputs": [
    {
     "data": {
      "text/html": [
       "<div>\n",
       "<style scoped>\n",
       "    .dataframe tbody tr th:only-of-type {\n",
       "        vertical-align: middle;\n",
       "    }\n",
       "\n",
       "    .dataframe tbody tr th {\n",
       "        vertical-align: top;\n",
       "    }\n",
       "\n",
       "    .dataframe thead th {\n",
       "        text-align: right;\n",
       "    }\n",
       "</style>\n",
       "<table border=\"1\" class=\"dataframe\">\n",
       "  <thead>\n",
       "    <tr style=\"text-align: right;\">\n",
       "      <th></th>\n",
       "      <th>y</th>\n",
       "      <th>x</th>\n",
       "      <th>w1</th>\n",
       "    </tr>\n",
       "  </thead>\n",
       "  <tbody>\n",
       "    <tr>\n",
       "      <th>0</th>\n",
       "      <td>1.279513</td>\n",
       "      <td>0.0</td>\n",
       "      <td>0.605764</td>\n",
       "    </tr>\n",
       "    <tr>\n",
       "      <th>1</th>\n",
       "      <td>3.452183</td>\n",
       "      <td>1.0</td>\n",
       "      <td>0.799044</td>\n",
       "    </tr>\n",
       "    <tr>\n",
       "      <th>2</th>\n",
       "      <td>1.433406</td>\n",
       "      <td>1.0</td>\n",
       "      <td>-0.908927</td>\n",
       "    </tr>\n",
       "    <tr>\n",
       "      <th>3</th>\n",
       "      <td>1.577025</td>\n",
       "      <td>1.0</td>\n",
       "      <td>-0.635258</td>\n",
       "    </tr>\n",
       "    <tr>\n",
       "      <th>4</th>\n",
       "      <td>10.633370</td>\n",
       "      <td>0.0</td>\n",
       "      <td>-1.222659</td>\n",
       "    </tr>\n",
       "  </tbody>\n",
       "</table>\n",
       "</div>"
      ],
      "text/plain": [
       "           y    x        w1\n",
       "0   1.279513  0.0  0.605764\n",
       "1   3.452183  1.0  0.799044\n",
       "2   1.433406  1.0 -0.908927\n",
       "3   1.577025  1.0 -0.635258\n",
       "4  10.633370  0.0 -1.222659"
      ]
     },
     "execution_count": 8,
     "metadata": {},
     "output_type": "execute_result"
    }
   ],
   "source": [
    "df.head()"
   ]
  },
  {
   "cell_type": "code",
   "execution_count": 9,
   "metadata": {},
   "outputs": [
    {
     "name": "stdout",
     "output_type": "stream",
     "text": [
      "Step 0 gradient norm: 0.7455853819847107\n",
      "converged after 6 iterations\n"
     ]
    }
   ],
   "source": [
    "# Example usage\n",
    "model = DRGU(df, covariates=[\"w1\"], treatment=\"x\", response=\"y\")\n",
    "model.fit()"
   ]
  },
  {
   "cell_type": "code",
   "execution_count": 10,
   "metadata": {},
   "outputs": [
    {
     "data": {
      "text/plain": [
       "Array([ 0.78363335, -0.03352755, -0.965426  ,  2.208195  ,  1.3163865 ,\n",
       "       -1.1250285 ], dtype=float32)"
      ]
     },
     "execution_count": 10,
     "metadata": {},
     "output_type": "execute_result"
    }
   ],
   "source": [
    "model.coefficients"
   ]
  },
  {
   "cell_type": "code",
   "execution_count": 11,
   "metadata": {},
   "outputs": [
    {
     "data": {
      "text/plain": [
       "Array([[ 0.0032916 ,  0.00093761,  0.01224048,  0.00485997, -0.0003902 ,\n",
       "         0.00617784],\n",
       "       [ 0.00093761,  0.04584866,  0.01264219,  0.0082063 ,  0.00342252,\n",
       "        -0.00663543],\n",
       "       [ 0.01224048,  0.01264219,  0.12225964,  0.041482  ,  0.01941958,\n",
       "         0.0136685 ],\n",
       "       [ 0.00485997,  0.00820631,  0.04148201,  0.12721881,  0.09738032,\n",
       "        -0.04045724],\n",
       "       [-0.0003902 ,  0.00342252,  0.01941957,  0.09738028,  0.10241216,\n",
       "        -0.02352003],\n",
       "       [ 0.00617784, -0.00663543,  0.01366851, -0.04045728, -0.02352004,\n",
       "         0.12099739]], dtype=float32)"
      ]
     },
     "execution_count": 11,
     "metadata": {},
     "output_type": "execute_result"
    }
   ],
   "source": [
    "model.variance_matrix"
   ]
  },
  {
   "cell_type": "code",
   "execution_count": 12,
   "metadata": {},
   "outputs": [
    {
     "data": {
      "text/html": [
       "<div>\n",
       "<style scoped>\n",
       "    .dataframe tbody tr th:only-of-type {\n",
       "        vertical-align: middle;\n",
       "    }\n",
       "\n",
       "    .dataframe tbody tr th {\n",
       "        vertical-align: top;\n",
       "    }\n",
       "\n",
       "    .dataframe thead th {\n",
       "        text-align: right;\n",
       "    }\n",
       "</style>\n",
       "<table border=\"1\" class=\"dataframe\">\n",
       "  <thead>\n",
       "    <tr style=\"text-align: right;\">\n",
       "      <th></th>\n",
       "      <th>Names</th>\n",
       "      <th>Coefficient</th>\n",
       "      <th>Null_Hypothesis</th>\n",
       "      <th>Std_Error</th>\n",
       "      <th>Z_Score</th>\n",
       "      <th>P_Value</th>\n",
       "    </tr>\n",
       "  </thead>\n",
       "  <tbody>\n",
       "    <tr>\n",
       "      <th>0</th>\n",
       "      <td>delta</td>\n",
       "      <td>0.783633</td>\n",
       "      <td>0.5</td>\n",
       "      <td>0.057372</td>\n",
       "      <td>4.943722</td>\n",
       "      <td>7.664507e-07</td>\n",
       "    </tr>\n",
       "    <tr>\n",
       "      <th>1</th>\n",
       "      <td>beta_0</td>\n",
       "      <td>-0.033528</td>\n",
       "      <td>0.0</td>\n",
       "      <td>0.214123</td>\n",
       "      <td>-0.156581</td>\n",
       "      <td>8.755753e-01</td>\n",
       "    </tr>\n",
       "    <tr>\n",
       "      <th>2</th>\n",
       "      <td>beta_1</td>\n",
       "      <td>-0.965426</td>\n",
       "      <td>0.0</td>\n",
       "      <td>0.349656</td>\n",
       "      <td>-2.761070</td>\n",
       "      <td>5.761228e-03</td>\n",
       "    </tr>\n",
       "    <tr>\n",
       "      <th>3</th>\n",
       "      <td>gamma_0</td>\n",
       "      <td>2.208195</td>\n",
       "      <td>0.0</td>\n",
       "      <td>0.356677</td>\n",
       "      <td>6.191013</td>\n",
       "      <td>5.977865e-10</td>\n",
       "    </tr>\n",
       "    <tr>\n",
       "      <th>4</th>\n",
       "      <td>gamma_1</td>\n",
       "      <td>1.316386</td>\n",
       "      <td>0.0</td>\n",
       "      <td>0.320019</td>\n",
       "      <td>4.113463</td>\n",
       "      <td>3.897669e-05</td>\n",
       "    </tr>\n",
       "    <tr>\n",
       "      <th>5</th>\n",
       "      <td>gamma_2</td>\n",
       "      <td>-1.125028</td>\n",
       "      <td>0.0</td>\n",
       "      <td>0.347847</td>\n",
       "      <td>-3.234264</td>\n",
       "      <td>1.219565e-03</td>\n",
       "    </tr>\n",
       "  </tbody>\n",
       "</table>\n",
       "</div>"
      ],
      "text/plain": [
       "     Names  Coefficient  Null_Hypothesis  Std_Error   Z_Score       P_Value\n",
       "0    delta     0.783633              0.5   0.057372  4.943722  7.664507e-07\n",
       "1   beta_0    -0.033528              0.0   0.214123 -0.156581  8.755753e-01\n",
       "2   beta_1    -0.965426              0.0   0.349656 -2.761070  5.761228e-03\n",
       "3  gamma_0     2.208195              0.0   0.356677  6.191013  5.977865e-10\n",
       "4  gamma_1     1.316386              0.0   0.320019  4.113463  3.897669e-05\n",
       "5  gamma_2    -1.125028              0.0   0.347847 -3.234264  1.219565e-03"
      ]
     },
     "execution_count": 12,
     "metadata": {},
     "output_type": "execute_result"
    }
   ],
   "source": [
    "model.summary()"
   ]
  },
  {
   "cell_type": "code",
   "execution_count": null,
   "metadata": {},
   "outputs": [],
   "source": []
  }
 ],
 "metadata": {
  "colab": {
   "provenance": []
  },
  "kernelspec": {
   "display_name": "Python 3 (ipykernel)",
   "language": "python",
   "name": "python3"
  },
  "language_info": {
   "codemirror_mode": {
    "name": "ipython",
    "version": 3
   },
   "file_extension": ".py",
   "mimetype": "text/x-python",
   "name": "python",
   "nbconvert_exporter": "python",
   "pygments_lexer": "ipython3",
   "version": "3.10.18"
  }
 },
 "nbformat": 4,
 "nbformat_minor": 4
}
