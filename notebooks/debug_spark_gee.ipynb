{
 "cells": [
  {
   "cell_type": "code",
   "execution_count": 33,
   "id": "e572e390-6456-4534-9153-0837be296ee3",
   "metadata": {},
   "outputs": [],
   "source": [
    "import org.apache.spark.sql._\n",
    "import org.apache.spark.sql.functions._\n",
    "import breeze.linalg._\n",
    "import breeze.numerics._"
   ]
  },
  {
   "cell_type": "markdown",
   "id": "d24d7239-fc9d-4224-a42c-02c3434c8b96",
   "metadata": {},
   "source": [
    "## small data"
   ]
  },
  {
   "cell_type": "code",
   "execution_count": 34,
   "id": "3643a351-6638-4778-9bc8-29db36a6fc98",
   "metadata": {},
   "outputs": [
    {
     "data": {
      "text/plain": [
       "defined class Obs\n",
       "data = List(Obs(1,[D@4825503b,1.0), Obs(1,[D@6c3e559a,0.0), Obs(2,[D@672eaf57,1.0), Obs(2,[D@5488747c,1.0))\n",
       "df = [i: string, x: array<double> ... 1 more field]\n"
      ]
     },
     "metadata": {},
     "output_type": "display_data",
     "source": "user"
    },
    {
     "data": {
      "text/plain": [
       "[i: string, x: array<double> ... 1 more field]"
      ]
     },
     "execution_count": 34,
     "metadata": {},
     "output_type": "execute_result"
    }
   ],
   "source": [
    "case class Obs(i: String, x: Array[Double], y: Double)  // cluster i, covariates x_ij, outcome y_ij\n",
    "\n",
    "val data = Seq(\n",
    "  Obs(\"1\", Array(1.0, 2.0), 1.0),\n",
    "  Obs(\"1\", Array(1.5, 1.8), 0.0),\n",
    "  Obs(\"2\", Array(0.5, 0.7), 1.0),\n",
    "  Obs(\"2\", Array(1.1, 0.9), 1.0)\n",
    ")\n",
    "val df = spark.createDataset(data)"
   ]
  },
  {
   "cell_type": "code",
   "execution_count": 35,
   "id": "3c9ddf78-88ba-49b2-ac0f-92ef5bfe0a5a",
   "metadata": {},
   "outputs": [
    {
     "data": {
      "text/plain": [
       "firstClusterId = 1\n"
      ]
     },
     "metadata": {},
     "output_type": "display_data",
     "source": "user"
    },
    {
     "data": {
      "text/plain": [
       "1"
      ]
     },
     "execution_count": 35,
     "metadata": {},
     "output_type": "execute_result"
    }
   ],
   "source": [
    "val firstClusterId = df.select(\"i\").limit(1).collect().head.getString(0)"
   ]
  },
  {
   "cell_type": "code",
   "execution_count": 36,
   "id": "a9c2f5d3-8b5c-4151-8e63-e0dd29ccca10",
   "metadata": {},
   "outputs": [
    {
     "data": {
      "text/plain": [
       "t = 2\n"
      ]
     },
     "metadata": {},
     "output_type": "display_data",
     "source": "user"
    },
    {
     "data": {
      "text/plain": [
       "2"
      ]
     },
     "execution_count": 36,
     "metadata": {},
     "output_type": "execute_result"
    }
   ],
   "source": [
    "val t = df.filter(_.i == firstClusterId).count().toInt"
   ]
  },
  {
   "cell_type": "code",
   "execution_count": 37,
   "id": "53d6fd6d-7fbb-4acd-8179-afac069565c8",
   "metadata": {},
   "outputs": [
    {
     "data": {
      "text/plain": [
       "beta = DenseVector(0.0, 0.0)\n",
       "rho = 0.0\n"
      ]
     },
     "metadata": {},
     "output_type": "display_data",
     "source": "user"
    },
    {
     "data": {
      "text/plain": [
       "computeClusterStats: (cluster: Seq[Obs], beta: breeze.linalg.DenseVector[Double], rho: Double)(breeze.linalg.DenseVector[Double], breeze.linalg.DenseMatrix[Double])\n"
      ]
     },
     "metadata": {},
     "output_type": "display_data",
     "source": "user"
    },
    {
     "data": {
      "text/plain": [
       "0.0"
      ]
     },
     "execution_count": 37,
     "metadata": {},
     "output_type": "execute_result"
    }
   ],
   "source": [
    "var beta = DenseVector.zeros[Double](2)  // \\beta \\in \\mathbb{R}^p\n",
    "val rho = 0.0  // exchangeable working correlation \\rho\n",
    "\n",
    "def computeClusterStats(cluster: Seq[Obs], beta: DenseVector[Double], rho: Double): (DenseVector[Double], DenseMatrix[Double]) = {\n",
    "  val X_i = DenseMatrix(cluster.map(_.x): _*)        // X_i \\in \\mathbb{R}^{m_i \\times p}\n",
    "  val Y_i = DenseVector(cluster.map(_.y): _*)        // Y_i \\in \\mathbb{R}^{m_i}\n",
    "  val mu_i = sigmoid(X_i * beta)                     // \\mu_i(\\beta)\n",
    "  val A_i = diag(mu_i *:* (1.0 - mu_i))               // A_i = diag(Var(Y_i))\n",
    "  val A_sqrt = diag(mu_i.map(m => sqrt(m * (1.0 - m))))\n",
    "  val m_i = Y_i.length\n",
    "  val R = DenseMatrix.tabulate(m_i, m_i)((j, k) => if (j == k) 1.0 else rho)  // R: exchangeable\n",
    "  val V_i = A_sqrt * R * A_sqrt\n",
    "  val V_i_inv = pinv(V_i)\n",
    "  val D_i = A_i * X_i                             // D_i = \\partial \\mu_i / \\partial \\beta^T\n",
    "  val resid_i = Y_i - mu_i                        // residuals Y_i - \\mu_i(\\beta)\n",
    "  val U_i = D_i.t * V_i_inv * resid_i             // score contribution\n",
    "  val B_i = D_i.t * V_i_inv * D_i                 // information contribution\n",
    "  (U_i, B_i)\n",
    "}"
   ]
  },
  {
   "cell_type": "code",
   "execution_count": 38,
   "id": "9898a2f8-ccb2-41dc-8b29-230048733e7c",
   "metadata": {},
   "outputs": [
    {
     "data": {
      "text/plain": [
       "statsRdd = MapPartitionsRDD[68] at map at <console>:66\n"
      ]
     },
     "metadata": {},
     "output_type": "display_data",
     "source": "user"
    },
    {
     "data": {
      "text/plain": [
       "MapPartitionsRDD[68] at map at <console>:66"
      ]
     },
     "execution_count": 38,
     "metadata": {},
     "output_type": "execute_result"
    }
   ],
   "source": [
    "val statsRdd = df.rdd\n",
    "  .groupBy(_.i)\n",
    "  .map { case (i, obsSeq) =>\n",
    "    val cluster = obsSeq.toSeq\n",
    "    val aggregated = computeClusterStats(cluster, beta, rho)\n",
    "    (aggregated._1.toArray, aggregated._2.toArray)\n",
    "  }"
   ]
  },
  {
   "cell_type": "code",
   "execution_count": 39,
   "id": "72c49ebb-a82f-4ba8-9537-ad2c9939f5cd",
   "metadata": {},
   "outputs": [
    {
     "data": {
      "text/plain": [
       "aggStats = (Array(0.55, 0.9),Array(1.1775, 1.51, 1.51, 2.1350000000000002))\n"
      ]
     },
     "metadata": {},
     "output_type": "display_data",
     "source": "user"
    },
    {
     "data": {
      "text/plain": [
       "(Array(0.55, 0.9),Array(1.1775, 1.51, 1.51, 2.1350000000000002))"
      ]
     },
     "execution_count": 39,
     "metadata": {},
     "output_type": "execute_result"
    }
   ],
   "source": [
    "// def sumVectors(v1: Array[Double], v2: Array[Double]): Array[Double] = v1.zip(v2).map(t => t._1 + t._2)\n",
    "// def sumMatrices(m1: Array[Double], m2: Array[Double]): Array[Double] = m1.zip(m2).map(t => t._1 + t._2)\n",
    "\n",
    "val aggStats = statsRdd.reduce { case ((u1, b1), (u2, b2)) =>\n",
    "  val u = u1.zip(u2).map { case (a, b) => a + b }\n",
    "  val b = b1.zip(b2).map { case (a, b) => a + b }\n",
    "  (u, b)\n",
    "}"
   ]
  },
  {
   "cell_type": "code",
   "execution_count": 40,
   "id": "3ca37654-d7d1-49b8-befe-5138d461b569",
   "metadata": {},
   "outputs": [
    {
     "data": {
      "text/plain": [
       "U = DenseVector(0.55, 0.9)\n",
       "B = \n"
      ]
     },
     "metadata": {},
     "output_type": "display_data",
     "source": "user"
    },
    {
     "data": {
      "text/plain": [
       "1.1775  1.51\n",
       "1.51    2.1350000000000002\n"
      ]
     },
     "metadata": {},
     "output_type": "display_data",
     "source": "user"
    }
   ],
   "source": [
    "val U = new DenseVector(aggStats._1)\n",
    "val B = new DenseMatrix(beta.length, beta.length, aggStats._2)"
   ]
  },
  {
   "cell_type": "code",
   "execution_count": 41,
   "id": "af7e6e77-519b-4037-a82d-ee70947c1327",
   "metadata": {},
   "outputs": [
    {
     "data": {
      "text/plain": [
       "delta = DenseVector(-0.7899941204767731, 0.9802768720936431)\n"
      ]
     },
     "metadata": {},
     "output_type": "display_data",
     "source": "user"
    },
    {
     "data": {
      "text/plain": [
       "DenseVector(-0.7899941204767731, 0.9802768720936431)"
      ]
     },
     "execution_count": 41,
     "metadata": {},
     "output_type": "execute_result"
    }
   ],
   "source": [
    "val delta = inv(B) * U"
   ]
  },
  {
   "cell_type": "code",
   "execution_count": 42,
   "id": "4f0f221e-1e37-4a58-b3d6-9d5b2882813f",
   "metadata": {},
   "outputs": [
    {
     "name": "stdout",
     "output_type": "stream",
     "text": [
      "+---+----------+---+\n",
      "|  i|         x|  y|\n",
      "+---+----------+---+\n",
      "|  1|[1.0, 2.0]|1.0|\n",
      "|  1|[1.5, 1.8]|0.0|\n",
      "|  2|[0.5, 0.7]|1.0|\n",
      "|  2|[1.1, 0.9]|1.0|\n",
      "+---+----------+---+\n",
      "\n"
     ]
    }
   ],
   "source": [
    "df.show()"
   ]
  },
  {
   "cell_type": "code",
   "execution_count": 43,
   "id": "da0367cb-b2d3-4e1f-952a-aab93382ddc1",
   "metadata": {},
   "outputs": [
    {
     "name": "stdout",
     "output_type": "stream",
     "text": [
      "Iter 0: ||delta|| = 1.258981118345138, beta = DenseVector(-0.7899941204767761, 0.9802768720936443)\n",
      "Iter 1: ||delta|| = 0.19504442133781175, beta = DenseVector(-0.9276849887190464, 1.1184200988465025)\n",
      "Iter 2: ||delta|| = 0.006603013387385123, beta = DenseVector(-0.9323978070245222, 1.1230449371586555)\n",
      "Iter 3: ||delta|| = 7.15161831723832E-6, beta = DenseVector(-0.9324029191684396, 1.1230499383214325)\n",
      "Iter 4: ||delta|| = 8.311897613962925E-12, beta = DenseVector(-0.9324029191743826, 1.1230499383272436)\n",
      "Final beta: DenseVector(-0.9324029191743826, 1.1230499383272436)\n"
     ]
    },
    {
     "data": {
      "text/plain": [
       "maxIter = 10\n",
       "tol = 1.0E-6\n",
       "iter = 5\n",
       "converged = true\n"
      ]
     },
     "metadata": {},
     "output_type": "display_data",
     "source": "user"
    },
    {
     "data": {
      "text/plain": [
       "true"
      ]
     },
     "execution_count": 43,
     "metadata": {},
     "output_type": "execute_result"
    }
   ],
   "source": [
    "val maxIter = 10\n",
    "val tol = 1e-6\n",
    "\n",
    "// GEE Fisher scoring loop\n",
    "var iter = 0\n",
    "var converged = false\n",
    "while (iter < maxIter && !converged) {\n",
    "  val statsRdd = df.rdd\n",
    "    .groupBy(_.i)\n",
    "    .map { case (i, obsSeq) =>\n",
    "        val cluster = obsSeq.toSeq\n",
    "        val aggregated = computeClusterStats(cluster, beta, rho)\n",
    "        (aggregated._1.toArray, aggregated._2.toArray)\n",
    "        }\n",
    "\n",
    "  val aggStats = statsRdd.reduce { case ((u1, b1), (u2, b2)) =>\n",
    "      val u = u1.zip(u2).map { case (a, b) => a + b }\n",
    "      val b = b1.zip(b2).map { case (a, b) => a + b }\n",
    "      (u, b)\n",
    "      }\n",
    "\n",
    "  val U = new DenseVector(aggStats._1)\n",
    "  val B = new DenseMatrix(beta.length, beta.length, aggStats._2)\n",
    "  val delta = pinv(B) * U\n",
    "  beta = beta + delta\n",
    "\n",
    "  println(s\"Iter $iter: ||delta|| = ${norm(delta)}, beta = $beta\")\n",
    "  converged = norm(delta) < tol\n",
    "  iter += 1\n",
    "}\n",
    "\n",
    "println(s\"Final beta: $beta\")"
   ]
  },
  {
   "cell_type": "code",
   "execution_count": 1,
   "id": "2b78ced1-1c45-42ae-a25a-a3659e8fed43",
   "metadata": {},
   "outputs": [
    {
     "data": {
      "text/plain": [
       "predictions = Array((1.0,0.788131133072431), (0.0,0.6508745280313687), (1.0,0.5793080448314912), (1.0,0.49627550224070044))\n"
      ]
     },
     "metadata": {},
     "output_type": "display_data",
     "source": "user"
    },
    {
     "name": "stdout",
     "output_type": "stream",
     "text": [
      "Actual vs Predicted Probabilities:\n",
      "y = 1.0, predicted = 0.7881\n",
      "y = 0.0, predicted = 0.6509\n",
      "y = 1.0, predicted = 0.5793\n",
      "y = 1.0, predicted = 0.4963\n"
     ]
    },
    {
     "data": {
      "text/plain": [
       "Array((1.0,0.788131133072431), (0.0,0.6508745280313687), (1.0,0.5793080448314912), (1.0,0.49627550224070044))"
      ]
     },
     "execution_count": 1,
     "metadata": {},
     "output_type": "execute_result"
    }
   ],
   "source": [
    "val predictions = df.map { obs =>\n",
    "  val xVec = new DenseVector(obs.x)\n",
    "  val predProb = sigmoid(beta dot xVec)\n",
    "  (obs.y, predProb)\n",
    "}.collect()\n",
    "\n",
    "println(\"Actual vs Predicted Probabilities:\")\n",
    "predictions.foreach { case (y, p) =>\n",
    "  println(f\"y = $y%.1f, predicted = $p%.4f\")\n",
    "}"
   ]
  },
  {
   "cell_type": "markdown",
   "id": "2b5dcc94-fa5f-4be3-b140-453cb38045c7",
   "metadata": {},
   "source": [
    "### correlation estimation"
   ]
  },
  {
   "cell_type": "code",
   "execution_count": 8,
   "id": "31aa8c3b-9d96-4f75-9af9-be3bc3f28cac",
   "metadata": {},
   "outputs": [
    {
     "data": {
      "text/plain": [
       "covMatByCluster = MapPartitionsRDD[101] at map at <console>:64\n"
      ]
     },
     "metadata": {},
     "output_type": "display_data",
     "source": "user"
    },
    {
     "data": {
      "text/plain": [
       "MapPartitionsRDD[101] at map at <console>:64"
      ]
     },
     "execution_count": 8,
     "metadata": {},
     "output_type": "execute_result"
    }
   ],
   "source": [
    "val covMatByCluster = df.rdd\n",
    "  .groupBy(_.i)\n",
    "  .map { case (_, obsSeq) =>\n",
    "    val cluster = obsSeq.toSeq\n",
    "    val X = DenseMatrix(cluster.map(_.x): _*)\n",
    "    val Y = DenseVector(cluster.map(_.y): _*)\n",
    "    val mu = sigmoid(X * beta)\n",
    "    val resi = Y - mu\n",
    "    val covMat = resi * resi.t\n",
    "    covMat.toArray\n",
    "  }"
   ]
  },
  {
   "cell_type": "code",
   "execution_count": 10,
   "id": "54311338-7731-4758-8336-ceccc3befb92",
   "metadata": {},
   "outputs": [
    {
     "data": {
      "text/plain": [
       "aggCov = Array(0.22187013791667454, 0.07401279506261255, 0.07401279506261255, 0.6773760208829156)\n"
      ]
     },
     "metadata": {},
     "output_type": "display_data",
     "source": "user"
    },
    {
     "data": {
      "text/plain": [
       "Array(0.22187013791667454, 0.07401279506261255, 0.07401279506261255, 0.6773760208829156)"
      ]
     },
     "execution_count": 10,
     "metadata": {},
     "output_type": "execute_result"
    }
   ],
   "source": [
    "val aggCov = covMatByCluster.reduce((a, b) => a.zip(b).map { case (x, y) => x + y })"
   ]
  },
  {
   "cell_type": "code",
   "execution_count": 14,
   "id": "c2f2d30f-5db1-49c3-adc9-0cb4a6b89743",
   "metadata": {},
   "outputs": [
    {
     "data": {
      "text/plain": [
       "nClusters = 2\n",
       "avgCovMat = \n"
      ]
     },
     "metadata": {},
     "output_type": "display_data",
     "source": "user"
    },
    {
     "data": {
      "text/plain": [
       "0.11093506895833727  0.03700639753130627\n",
       "0.03700639753130627  0.3386880104414578\n"
      ]
     },
     "metadata": {},
     "output_type": "display_data",
     "source": "user"
    }
   ],
   "source": [
    "val nClusters = covMatByCluster.count()\n",
    "val avgCovMat = new DenseMatrix(t, t, aggCov.map(_ / nClusters))"
   ]
  },
  {
   "cell_type": "code",
   "execution_count": 15,
   "id": "586af560-7495-4675-aa35-64f34f94217f",
   "metadata": {
    "scrolled": true
   },
   "outputs": [
    {
     "data": {
      "text/plain": [
       "stddevs = Vector(0.3330691654271486, 0.581969080313944)\n",
       "corrMat = \n"
      ]
     },
     "metadata": {},
     "output_type": "display_data",
     "source": "user"
    },
    {
     "data": {
      "text/plain": [
       "0.9999999999999999   0.19091606282450307\n",
       "0.19091606282450307  1.0\n"
      ]
     },
     "metadata": {},
     "output_type": "display_data",
     "source": "user"
    }
   ],
   "source": [
    "val stddevs = (0 until t).map(i => math.sqrt(avgCovMat(i, i)))\n",
    "\n",
    "val corrMat = DenseMatrix.tabulate(t, t) { case (i, j) =>\n",
    "  avgCovMat(i, j) / (stddevs(i) * stddevs(j))\n",
    "}"
   ]
  },
  {
   "cell_type": "code",
   "execution_count": 16,
   "id": "4d61bb35-e75c-4659-a83b-934bc77b3238",
   "metadata": {},
   "outputs": [
    {
     "data": {
      "text/plain": [
       "rhoHat_exchangeable = 0.19091606282450307\n",
       "R_exchangeable = \n"
      ]
     },
     "metadata": {},
     "output_type": "display_data",
     "source": "user"
    },
    {
     "data": {
      "text/plain": [
       "1.0                  0.19091606282450307\n",
       "0.19091606282450307  1.0\n"
      ]
     },
     "metadata": {},
     "output_type": "display_data",
     "source": "user"
    }
   ],
   "source": [
    "val rhoHat_exchangeable = {\n",
    "  val offDiags = for {\n",
    "    i <- 0 until t\n",
    "    j <- 0 until t if i != j\n",
    "  } yield corrMat(i, j)\n",
    "  offDiags.sum / offDiags.size\n",
    "}\n",
    "\n",
    "val R_exchangeable = DenseMatrix.tabulate(t, t) { (i, j) =>\n",
    "  if (i == j) 1.0 else rhoHat_exchangeable\n",
    "}"
   ]
  },
  {
   "cell_type": "code",
   "execution_count": 17,
   "id": "629abc0d-53fa-42ad-b114-77c4b1a2b0b9",
   "metadata": {},
   "outputs": [
    {
     "data": {
      "text/plain": [
       "rhoHat_ar1 = 0.19091606282450307\n",
       "R_ar1 = \n"
      ]
     },
     "metadata": {},
     "output_type": "display_data",
     "source": "user"
    },
    {
     "data": {
      "text/plain": [
       "1.0                  0.19091606282450307\n",
       "0.19091606282450307  1.0\n"
      ]
     },
     "metadata": {},
     "output_type": "display_data",
     "source": "user"
    }
   ],
   "source": [
    "val rhoHat_ar1 = {\n",
    "  val lags = for (i <- 0 until t - 1) yield corrMat(i, i + 1)\n",
    "  lags.sum / lags.size\n",
    "}\n",
    "\n",
    "val R_ar1 = DenseMatrix.tabulate(t, t) { (i, j) =>\n",
    "  math.pow(rhoHat_ar1, math.abs(i - j))\n",
    "}"
   ]
  },
  {
   "cell_type": "markdown",
   "id": "29cc2433-e4c5-4299-a68b-1b716af74661",
   "metadata": {},
   "source": [
    "## large data"
   ]
  },
  {
   "cell_type": "code",
   "execution_count": 11,
   "id": "55f9f0bc-0229-40a9-9b7b-a35748eba0b2",
   "metadata": {},
   "outputs": [],
   "source": [
    "import scala.util.Random\n"
   ]
  },
  {
   "cell_type": "code",
   "execution_count": 12,
   "id": "a73f4c7e-857c-426c-b123-697520ddf205",
   "metadata": {},
   "outputs": [
    {
     "data": {
      "text/plain": [
       "rand = scala.util.Random@462d72d9\n",
       "trueBeta = DenseVector(1.0, -1.0)\n",
       "nClusters = 1000\n",
       "obsPerCluster = 2\n",
       "syntheticData = Vector(Obs(0,[D@51a39d98,1.0), Obs(0,[D@6f8d8edf,0.0), Obs(1,[D@344339ff,1.0), Obs(1,[D@19d52e14,0.0), Obs(2,[D@54d72feb,0.0), Obs(2,[D@57afb8d8,1.0), Obs(3,[D@7a8eff13,1.0), Obs(3,[D@4a1bcbd8,0.0), Obs(4,[D@27de0d07,0.0), Obs(4,[D@d9d085c,1.0), Obs(5,[D@66089b,0.0), Obs(5,[D@14374644,0.0), Obs(6,[D@43d6c7f0,0.0), Obs(6,[D@266cf83e,1.0), Obs(7,[D@167e0eb8,1.0), Obs(7,[D@38d56f55,1.0), Obs(8,[D@4dc9d6f8,1.0), Obs(8,[D@c257a77,1.0), Obs(9,[D@6ac8be85,1.0), Obs(9,[D@7974cb4e,1.0), Obs(10,[D@7a09bc8e,0.0), Obs(10,[D@5dd8977a,1.0), Obs(11,[D@724b26d2,0.0), Obs(11,[D@2d...\n"
      ]
     },
     "metadata": {},
     "output_type": "display_data",
     "source": "user"
    },
    {
     "data": {
      "text/plain": [
       "Vector(Obs(0,[D@51a39d98,1.0), Obs(0,[D@6f8d8edf,0.0), Obs(1,[D@344339ff,1.0), Obs(1,[D@19d52e14,0.0), Obs(2,[D@54d72feb,0.0), Obs(2,[D@57afb8d8,1.0), Obs(3,[D@7a8eff13,1.0), Obs(3,[D@4a1bcbd8,0.0), Obs(4,[D@27de0d07,0.0), Obs(4,[D@d9d085c,1.0), Obs(5,[D@66089b,0.0), Obs(5,[D@14374644,0.0), Obs(6,[D@43d6c7f0,0.0), Obs(6,[D@266cf83e,1.0), Obs(7,[D@167e0eb8,1.0), Obs(7,[D@38d56f55,1.0), Obs(8,[D@4dc9d6f8,1.0), Obs(8,[D@c257a77,1.0), Obs(9,[D@6ac8be85,1.0), Obs(9,[D@7974cb4e,1.0), Obs(10,[D@7a09bc8e,0.0), Obs(10,[D@5dd8977a,1.0), Obs(11,[D@724b26d2,0.0), Obs(11,[D@2d..."
      ]
     },
     "execution_count": 12,
     "metadata": {},
     "output_type": "execute_result"
    }
   ],
   "source": [
    "val rand = new Random(42)\n",
    "val trueBeta = DenseVector(1.0, -1.0)\n",
    "val nClusters = 1000\n",
    "val obsPerCluster = 2\n",
    "\n",
    "val syntheticData = (0 until nClusters).flatMap { clusterId =>\n",
    "  (0 until obsPerCluster).map { j =>\n",
    "    val x = Array(rand.nextGaussian(), rand.nextGaussian())\n",
    "    val eta = x.zipWithIndex.map { case (xi, k) => xi * trueBeta(k) }.sum\n",
    "    val prob = 1.0 / (1.0 + math.exp(-eta))\n",
    "    val y = if (rand.nextDouble() < prob) 1.0 else 0.0\n",
    "    Obs(clusterId.toString, x, y)\n",
    "  }\n",
    "}\n",
    "val df = spark.createDataset(syntheticData)"
   ]
  },
  {
   "cell_type": "code",
   "execution_count": 13,
   "id": "6788dbef-b99b-45df-ae1e-eeb3eb60e526",
   "metadata": {},
   "outputs": [
    {
     "name": "stdout",
     "output_type": "stream",
     "text": [
      "Iter 0: ||delta|| = 1.0404917804109737, beta = DenseVector(0.7249442352032562, -0.7463772510924778)\n",
      "Iter 1: ||delta|| = 0.3382194731075008, beta = DenseVector(0.9614684872693847, -0.9881388902614616)\n",
      "Iter 2: ||delta|| = 0.06060561475175511, beta = DenseVector(1.0040070695000878, -1.0313072763934434)\n",
      "Iter 3: ||delta|| = 0.0016735821632032374, beta = DenseVector(1.0051849439990785, -1.0324961787955016)\n",
      "Iter 4: ||delta|| = 1.2318771581922373E-6, beta = DenseVector(1.0051858127138649, -1.0324970522117558)\n",
      "Iter 5: ||delta|| = 6.6666687118037E-13, beta = DenseVector(1.0051858127143356, -1.0324970522122279)\n",
      "Final beta: DenseVector(1.0051858127143356, -1.0324970522122279)\n"
     ]
    },
    {
     "data": {
      "text/plain": [
       "maxIter = 10\n",
       "tol = 1.0E-6\n",
       "beta = DenseVector(1.0051858127143356, -1.0324970522122279)\n",
       "rho = 0.0\n",
       "iter = 6\n",
       "converged = true\n"
      ]
     },
     "metadata": {},
     "output_type": "display_data",
     "source": "user"
    },
    {
     "data": {
      "text/plain": [
       "true"
      ]
     },
     "execution_count": 13,
     "metadata": {},
     "output_type": "execute_result"
    }
   ],
   "source": [
    "val maxIter = 10\n",
    "val tol = 1e-6\n",
    "var beta = DenseVector.zeros[Double](2)  // \\beta \\in \\mathbb{R}^p\n",
    "val rho = 0.0  // exchangeable working correlation \\rho\n",
    "\n",
    "// GEE Fisher scoring loop\n",
    "var iter = 0\n",
    "var converged = false\n",
    "while (iter < maxIter && !converged) {\n",
    "  val statsRdd = df.rdd\n",
    "    .groupBy(_.i)\n",
    "    .map { case (i, obsSeq) =>\n",
    "        val cluster = obsSeq.toSeq\n",
    "        val aggregated = computeClusterStats(cluster, beta, rho)\n",
    "        (aggregated._1.toArray, aggregated._2.toArray)\n",
    "        }\n",
    "\n",
    "  val aggStats = statsRdd.reduce { case ((u1, b1), (u2, b2)) =>\n",
    "      val u = u1.zip(u2).map { case (a, b) => a + b }\n",
    "      val b = b1.zip(b2).map { case (a, b) => a + b }\n",
    "      (u, b)\n",
    "      }\n",
    "\n",
    "  val U = new DenseVector(aggStats._1)\n",
    "  val B = new DenseMatrix(beta.length, beta.length, aggStats._2)\n",
    "  val delta = pinv(B) * U\n",
    "  beta = beta + delta\n",
    "\n",
    "  println(s\"Iter $iter: ||delta|| = ${norm(delta)}, beta = $beta\")\n",
    "  converged = norm(delta) < tol\n",
    "  iter += 1\n",
    "}\n",
    "\n",
    "println(s\"Final beta: $beta\")"
   ]
  },
  {
   "cell_type": "code",
   "execution_count": null,
   "id": "0ad01fbf-f362-46a8-b07e-88b42a970a29",
   "metadata": {},
   "outputs": [],
   "source": []
  },
  {
   "cell_type": "markdown",
   "id": "1449a3e4-adc6-4382-9f01-9761513898b6",
   "metadata": {},
   "source": [
    "## historical debug"
   ]
  },
  {
   "cell_type": "code",
   "execution_count": 10,
   "id": "24307410-abca-4497-84fd-059af4ff2891",
   "metadata": {},
   "outputs": [
    {
     "data": {
      "text/plain": [
       "cluster = Array(Obs(1,[D@3096b40c,1.0), Obs(1,[D@2995107,0.0))\n"
      ]
     },
     "metadata": {},
     "output_type": "display_data",
     "source": "user"
    },
    {
     "data": {
      "text/plain": [
       "Array(Obs(1,[D@3096b40c,1.0), Obs(1,[D@2995107,0.0))"
      ]
     },
     "execution_count": 10,
     "metadata": {},
     "output_type": "execute_result"
    }
   ],
   "source": [
    "// Extract cluster 1 from the DataFrame\n",
    "val cluster = df.filter($\"i\" === \"1\").collect()\n",
    "\n",
    "// Show the contents of cluster 1\n",
    "// cluster.show()"
   ]
  },
  {
   "cell_type": "code",
   "execution_count": 46,
   "id": "b9e79401-1139-4fe9-9525-55162f075b5d",
   "metadata": {},
   "outputs": [
    {
     "data": {
      "text/plain": [
       "lastException = null\n",
       "X_i = \n",
       "Y_i = DenseVector(1.0, 0.0)\n",
       "mu_i = DenseVector(0.5, 0.5)\n",
       "A_i = \n",
       "A_sqrt = \n",
       "m_i = 2\n",
       "R = \n",
       "V_i = \n",
       "V_i_inv = \n",
       "D_i = \n",
       "resid_i = DenseVector(0.5, -0.5)\n",
       "U_i = DenseVector(-0.3125, 0.125)\n"
      ]
     },
     "metadata": {},
     "output_type": "display_data",
     "source": "user"
    },
    {
     "data": {
      "text/plain": [
       "1.0  2.0\n",
       "1.5  1.8\n",
       "0.25  0.0\n",
       "0.0   0.25\n",
       "0.5  0.0\n",
       "0.0  0.5\n",
       "1.0  0.2\n",
       "0.2  1.0\n",
       "0.25  0.05\n",
       "0.05  0.25\n",
       "4.166666666666667    -0.8333333333333335\n",
       "-0.8333333333333335  4.166666666666667\n",
       "0.25   0.5\n",
       "0.375  0.45\n",
       "B_i: breeze.linalg.DenseMatr...\n"
      ]
     },
     "metadata": {},
     "output_type": "display_data",
     "source": "user"
    },
    {
     "data": {
      "text/plain": [
       "DenseVector(-0.3125, 0.125)"
      ]
     },
     "execution_count": 46,
     "metadata": {},
     "output_type": "execute_result"
    }
   ],
   "source": [
    "  val X_i = DenseMatrix(cluster.map(_.x): _*)        // X_i \\in \\mathbb{R}^{m_i \\times p}\n",
    "  val Y_i = DenseVector(cluster.map(_.y): _*)        // Y_i \\in \\mathbb{R}^{m_i}\n",
    "  val mu_i = sigmoid(X_i * beta)                     // \\mu_i(\\beta)\n",
    "  val A_i = diag(mu_i *:* (1.0 - mu_i))               // A_i = diag(Var(Y_i))\n",
    "  val A_sqrt = diag(mu_i.map(m => sqrt(m * (1.0 - m))))\n",
    "  val m_i = Y_i.length\n",
    "  val R = DenseMatrix.tabulate(m_i, m_i)((j, k) => if (j == k) 1.0 else rho)  // R: exchangeable\n",
    "  val V_i = A_sqrt * R * A_sqrt\n",
    "  val V_i_inv = inv(V_i)\n",
    "  val D_i = A_i * X_i                             // D_i = \\partial \\mu_i / \\partial \\beta^T\n",
    "  val resid_i = Y_i - mu_i                        // residuals Y_i - \\mu_i(\\beta)\n",
    "  val U_i = D_i.t * V_i_inv * resid_i             // score contribution\n",
    "  val B_i = D_i.t * V_i_inv * D_i                 // information contribution                  // \\mu_i(\\beta)"
   ]
  },
  {
   "cell_type": "code",
   "execution_count": 47,
   "id": "216b453f-dff5-4866-9066-62fb36501f44",
   "metadata": {},
   "outputs": [
    {
     "data": {
      "text/plain": [
       "DenseVector(-0.3125, 0.125)"
      ]
     },
     "execution_count": 47,
     "metadata": {},
     "output_type": "execute_result"
    }
   ],
   "source": [
    "U_i"
   ]
  },
  {
   "cell_type": "code",
   "execution_count": 51,
   "id": "8eba3af9-61de-48db-8d49-89d82ec8b547",
   "metadata": {},
   "outputs": [
    {
     "data": {
      "text/plain": [
       "0.6901041666666667  0.9739583333333334\n",
       "0.9739583333333335  1.5104166666666667\n"
      ]
     },
     "metadata": {},
     "output_type": "display_data",
     "source": "user"
    }
   ],
   "source": [
    "B_i"
   ]
  },
  {
   "cell_type": "code",
   "execution_count": 52,
   "id": "fea765c7-19e0-4682-b912-c0913e766279",
   "metadata": {},
   "outputs": [
    {
     "name": "stdout",
     "output_type": "stream",
     "text": [
      "class breeze.linalg.DenseMatrix$mcD$sp\n"
     ]
    }
   ],
   "source": [
    "println(B_i.getClass)"
   ]
  },
  {
   "cell_type": "code",
   "execution_count": 33,
   "id": "fab6e628-7b1a-496c-9f35-764d265bde6f",
   "metadata": {},
   "outputs": [
    {
     "data": {
      "text/plain": [
       "R = \n",
       "V_i = \n",
       "V_i_inv = \n",
       "D_i = \n",
       "resid_i = DenseVector(0.5, -0.5)\n",
       "U_i = DenseVector(-1.25, 0.5)\n",
       "B_i = \n"
      ]
     },
     "metadata": {},
     "output_type": "display_data",
     "source": "user"
    },
    {
     "data": {
      "text/plain": [
       "1.0  0.2\n",
       "0.2  1.0\n",
       "0.0625  0.0125\n",
       "0.0125  0.0625\n",
       "16.666666666666668  -3.333333333333334\n",
       "-3.333333333333334  16.666666666666668\n",
       "0.25   0.5\n",
       "0.375  0.45\n",
       "2.760416666666667  3.8958333333333335\n",
       "3.895833333333334  6.041666666666667\n"
      ]
     },
     "metadata": {},
     "output_type": "display_data",
     "source": "user"
    }
   ],
   "source": [
    "  val R = DenseMatrix.tabulate(m_i, m_i)((j, k) => if (j == k) 1.0 else rho)  // R: exchangeable\n",
    "  val V_i = A_i * R * A_i\n",
    "  val V_i_inv = inv(V_i)\n",
    "  val D_i = A_i * X_i                             // D_i = \\partial \\mu_i / \\partial \\beta^T\n",
    "  val resid_i = Y_i - mu_i                        // residuals Y_i - \\mu_i(\\beta)\n",
    "  val U_i = D_i.t * V_i_inv * resid_i             // score contribution\n",
    "  val B_i = D_i.t * V_i_inv * D_i                 // information contribution"
   ]
  },
  {
   "cell_type": "code",
   "execution_count": 5,
   "id": "8fa20f28-b432-4d37-af03-af9621f424a2",
   "metadata": {},
   "outputs": [
    {
     "ename": "Unknown Error",
     "evalue": "<console>:38: error: not found: value cluster\n       val (U_i, B_i) = computeClusterStats(cluster, beta, rho)\n                                            ^\n<console>:38: error: not found: value U_i\n       val (U_i, B_i) = computeClusterStats(cluster, beta, rho)\n            ^\n<console>:38: error: not found: value B_i\n       val (U_i, B_i) = computeClusterStats(cluster, beta, rho)\n                 ^\n",
     "output_type": "error",
     "traceback": []
    }
   ],
   "source": [
    "val (U_i, B_i) = computeClusterStats(cluster, beta, rho)"
   ]
  },
  {
   "cell_type": "code",
   "execution_count": 60,
   "id": "bc98bd1d-6bdc-4f5e-a227-edd319ee2b58",
   "metadata": {},
   "outputs": [
    {
     "data": {
      "text/plain": [
       "Array(-0.3125, 0.125)"
      ]
     },
     "execution_count": 60,
     "metadata": {},
     "output_type": "execute_result"
    }
   ],
   "source": [
    "U_i.toArray"
   ]
  },
  {
   "cell_type": "code",
   "execution_count": 59,
   "id": "34667359-e242-4d3c-9431-79af32f6abd5",
   "metadata": {},
   "outputs": [
    {
     "data": {
      "text/plain": [
       "Array(0.6901041666666667, 0.9739583333333335, 0.9739583333333334, 1.5104166666666667)"
      ]
     },
     "execution_count": 59,
     "metadata": {},
     "output_type": "execute_result"
    }
   ],
   "source": [
    "B_i.toArray"
   ]
  },
  {
   "cell_type": "code",
   "execution_count": null,
   "id": "13a403de-b434-416c-b647-dacaebdebe72",
   "metadata": {},
   "outputs": [],
   "source": []
  }
 ],
 "metadata": {
  "kernelspec": {
   "display_name": "apache_toree_scala - Scala",
   "language": "scala",
   "name": "apache_toree_scala_scala"
  },
  "language_info": {
   "codemirror_mode": "text/x-scala",
   "file_extension": ".scala",
   "mimetype": "text/x-scala",
   "name": "scala",
   "pygments_lexer": "scala",
   "version": "2.12.15"
  }
 },
 "nbformat": 4,
 "nbformat_minor": 5
}
